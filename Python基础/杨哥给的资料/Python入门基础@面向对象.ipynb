{
 "cells": [
  {
   "cell_type": "markdown",
   "metadata": {},
   "source": [
    "#  主题五：面向对象-技术知识"
   ]
  },
  {
   "cell_type": "markdown",
   "metadata": {},
   "source": [
    "- **应用目标**\n",
    "    1. **阶段实战：应用面向对象实现信息管理系统（CUI与GUI版本）**\n",
    "    2. **综合实战：应用面向对象来构建桌面应用程序**\n",
    "        - 计算器\n",
    "        - 记事本\n",
    "        - 扫雷\n",
    "        - GUI编程\n",
    "        - 图形图像处理"
   ]
  },
  {
   "cell_type": "markdown",
   "metadata": {},
   "source": [
    "- **技能目标**\n",
    "    1. **能模块化编程**\n",
    "    2. **具备良好的编码规范**\n",
    "    3. **熟练的参考文档阅读能力**\n",
    "    4. **具备基本的面向对象思维与设计能力**\n",
    "    4. **基本技术应用能力**\n",
    "        - `能熟练使用面向对象的语法实现类；`\n",
    "        - `能熟练使用面向对象的语法扩展类；`"
   ]
  },
  {
   "cell_type": "markdown",
   "metadata": {},
   "source": [
    "- **知识点目标**\n",
    "    1. **类定义与应用**\n",
    "        - `类与对象；`\n",
    "        - `类成员与调用；`\n",
    "        - `类方法与静态方法；`\n",
    "        - `数据初始化与构造器；`\n",
    "        - `数据作用域`\n",
    "        - `数据访问限制与私有`\n",
    "        - `数据与属性；`\n",
    "        - `运算符；`\n",
    "        - `成员绑定与__slots__;`\n",
    "        - `类文档注释`\n",
    "\n",
    "    2. **继承**\n",
    "        - `单重继承与多重继承；`\n",
    "        - `子类与父类数据初始化；`\n",
    "        - `override与overload；`\n",
    "        - `类型与成员测定；`\n",
    "        - `类接口；`\n",
    "        - `抽象超类；`\n",
    "\n",
    "    3. **对象的内存管理**\n",
    "        - `__new__运算符；`\n",
    "        - `析构器；`\n",
    "        - `引用计数；`\n",
    "        - `垃圾回收`\n",
    "\n",
    "    4. **元类与类装饰器**\n",
    "        - `元类类型；`\n",
    "        - `类装饰器；`\n",
    "        \n",
    "    5. **类、模块与包**\n",
    "        - `类与模块引入`\n",
    "        - `包与模块的引入；`\n",
    "        - `模块的加载与卸载；`\n",
    "        - `嵌套类`\n",
    "    6. **类设计**\n",
    "        - `类泛化关系的设计`\n",
    "        - `类关联关系的设计；`\n",
    "        - `类对象构建的设计；`"
   ]
  },
  {
   "cell_type": "markdown",
   "metadata": {},
   "source": [
    "## 类的定义与应用\n",
    "\n",
    "- 前面我们使用类型创建对象，其中的类型我们应该知道本质是一个类，这个类怎么实现的？这就是本主题需要讲解的内容。\n",
    "\n",
    "- 类就是类型，这是Python这种纯面向对象语言（万事万物皆对象）的核心思想：\n",
    "    - 所谓类型就是一种数据格式，是创建对象的一种内存分配格式标准（分配多大，怎么分配），甚至是数据存储序列化的格式标准（某些语言就是这样的，Python中提供\\_\\_reduce\\_\\_来描述）。"
   ]
  },
  {
   "cell_type": "markdown",
   "metadata": {},
   "source": [
    "### 类的定义与对象创建\n",
    "\n",
    "- 类的定义除了语法以外，核心工作在于两个方面：\n",
    "    - 数据定义\n",
    "    - 数据处理实现\n",
    "        - 运算符\n",
    "        - 函数操作\n",
    "        - 属性\n",
    "\n",
    "- 数据定义：\n",
    "    - 数据定义仅仅是数据的描述，Python解释器在执行的时候并不会分配内存空间。只有在使用类创建对象，解释器才会按照类中数据描述分配内存空间。\n",
    "    - 换句话说，用户定义的类与函数一样，执行的时候，仅仅是加载，不会执行，函数只有在调用才会执行；类中定义的数据只有在创建对象（调用构造器）的时候分配（有的甚至在后面调用过程中才会陆续分配空间）。\n",
    "    \n",
    "- 操作定义：\n",
    "     - 类中数据操作的定义使用的是函数，这些函数可以访问类中定义的所有数据。因为类中数据只有创建对象才能分配空间，所以这些函数也只有对象创建才能调用，通过类直接调用的时候，因为数据内存没有分配，数据不存在，调用会失败（语法上就是不允许）。\n",
    "     \n",
    "     - 不过某些函数不调用类中数据的，这些函数是可以直接调用的，为了区别其他调用类中数据的函数，这些函数会在语法上特殊标记，这些函数称为类函数，使用了类中数据的函数称为对象函数（更加标准的称呼是实例函数，因为对象也称呼为一个类的实例，因为一个类型可以反复使用，用来创建很多对象、变量或者实例）"
   ]
  },
  {
   "cell_type": "markdown",
   "metadata": {},
   "source": [
    "#### 类定义的语法\n",
    "\n",
    "\n",
    "1. 类定义语法格式\n",
    "\n",
    "```python\n",
    "\n",
    "class   类名(其他类1, ...... ):\n",
    "    语句\n",
    "    .....\n",
    "\n",
    "```\n",
    "\n",
    "2. 类的语法格式：\n",
    "    - 类头\n",
    "        - class 是关键字，与函数的def一样，表明块的类型类型时类。\n",
    "        - 类名遵循Python中标识字的命名规范。但不要与关键字冲突，也不要与标准库中的命名冲突。类名建议遵循驼峰命名法：每个单词的首字母大写（像不像驼峰？(⚈᷁‿᷇⚈᷁)）。\n",
    "        - 扩展表示类的创建不是重新定义，而是从其他类扩展定义（增加功能），这个后面会单独作为一个主题讲解。扩展的类可以是一个列表，使用逗号分隔。如果没有扩展类，默认是object类，这个可以省略()。\n",
    "        - `:` 冒号是Python中块头结束的分隔界定符\n",
    "    - 类体\n",
    "        - 最简单的类体就是一个pass空语句\n",
    "        - 类体中可以放任意语句；\n",
    "            - 数据语句（在创建对象会得到调用）\n",
    "            - 功能语句（在创建对象会得到调用）\n",
    "        - 类体中可以放任意块；\n",
    "            - 函数块\n",
    "            - 其他类块\n",
    "\n",
    "3. 最简单的类就是一个空类"
   ]
  },
  {
   "cell_type": "code",
   "execution_count": 11,
   "metadata": {},
   "outputs": [
    {
     "name": "stdout",
     "output_type": "stream",
     "text": [
      "<class '__main__.ClsA'>\n",
      "['__class__', '__delattr__', '__dict__', '__dir__', '__doc__', '__eq__', '__format__', '__ge__', '__getattribute__', '__gt__', '__hash__', '__init__', '__init_subclass__', '__le__', '__lt__', '__module__', '__ne__', '__new__', '__reduce__', '__reduce_ex__', '__repr__', '__setattr__', '__sizeof__', '__str__', '__subclasshook__', '__weakref__']\n"
     ]
    }
   ],
   "source": [
    "class  ClsA:   # class ClsA():  # 这是标准格式，默认是扩展object，可以省略()\n",
    "    pass\n",
    "\n",
    "print(ClsA)\n",
    "print(dir(ClsA))     # 可以看见很对成员，都是来自object。"
   ]
  },
  {
   "cell_type": "markdown",
   "metadata": {},
   "source": [
    "- 说明：\n",
    "    下面三个类的定义是等价的：\n",
    "\n",
    "```python\n",
    "class  ClsA:\n",
    "    pass\n",
    "\n",
    "class ClsA():\n",
    "    pass\n",
    "\n",
    "class ClsA(object):\n",
    "    pass\n",
    "```"
   ]
  },
  {
   "cell_type": "markdown",
   "metadata": {},
   "source": [
    "4. 类体中的数据语句\n",
    "    - 在类体中可以定义数据语句"
   ]
  },
  {
   "cell_type": "code",
   "execution_count": 12,
   "metadata": {},
   "outputs": [
    {
     "name": "stdout",
     "output_type": "stream",
     "text": [
      "<class '__main__.ClsA'>\n",
      "['__class__', '__delattr__', '__dict__', '__dir__', '__doc__', '__eq__', '__format__', '__ge__', '__getattribute__', '__gt__', '__hash__', '__init__', '__init_subclass__', '__le__', '__lt__', '__module__', '__ne__', '__new__', '__reduce__', '__reduce_ex__', '__repr__', '__setattr__', '__sizeof__', '__str__', '__subclasshook__', '__weakref__', 'a']\n"
     ]
    }
   ],
   "source": [
    "class ClsA:\n",
    "    a = int(20)             # 类块加载的时候得到执行\n",
    "\n",
    "print(ClsA)\n",
    "print(dir(ClsA))     #  可以看见上面定义的a"
   ]
  },
  {
   "cell_type": "markdown",
   "metadata": {},
   "source": [
    "5. 类体中的功能语句\n",
    "    - 在类体中可以使用功能语句；\n",
    "    - 包含流程控制块；\n",
    "    \n",
    "    - **警告：**一般情况不要在类总直接编写功能语句。"
   ]
  },
  {
   "cell_type": "code",
   "execution_count": 13,
   "metadata": {},
   "outputs": [
    {
     "name": "stdout",
     "output_type": "stream",
     "text": [
      "Hello，我是类块下的语句\n",
      "<class '__main__.ClsA'>\n",
      "['__class__', '__delattr__', '__dict__', '__dir__', '__doc__', '__eq__', '__format__', '__ge__', '__getattribute__', '__gt__', '__hash__', '__init__', '__init_subclass__', '__le__', '__lt__', '__module__', '__ne__', '__new__', '__reduce__', '__reduce_ex__', '__repr__', '__setattr__', '__sizeof__', '__str__', '__subclasshook__', '__weakref__', 'a']\n"
     ]
    }
   ],
   "source": [
    "class ClsA:\n",
    "    a = int(20)                                \n",
    "    print('Hello，我是类块下的语句')     #  在类块加载的时候得到执行\n",
    "\n",
    "print(ClsA)\n",
    "print(dir(ClsA))"
   ]
  },
  {
   "cell_type": "markdown",
   "metadata": {},
   "source": [
    "6. 类块中定义函数\n",
    "    - 类块中定义的函数在加载不会被调用，但会得到定义，定义后的函数才能调用。"
   ]
  },
  {
   "cell_type": "code",
   "execution_count": 14,
   "metadata": {},
   "outputs": [
    {
     "name": "stdout",
     "output_type": "stream",
     "text": [
      "Hello，我是类块下的语句\n",
      "<class '__main__.ClsA'>\n",
      "['__class__', '__delattr__', '__dict__', '__dir__', '__doc__', '__eq__', '__format__', '__ge__', '__getattribute__', '__gt__', '__hash__', '__init__', '__init_subclass__', '__le__', '__lt__', '__module__', '__ne__', '__new__', '__reduce__', '__reduce_ex__', '__repr__', '__setattr__', '__sizeof__', '__str__', '__subclasshook__', '__weakref__', 'a', 'func_a']\n"
     ]
    }
   ],
   "source": [
    "class ClsA:\n",
    "    a = int(20)                                \n",
    "    print('Hello，我是类块下的语句')     #  在类块加载的时候得到执行\n",
    "    \n",
    "    def  func_a():        # 在dir的输出会看到这个定义的函数\n",
    "        print(函数)\n",
    "\n",
    "print(ClsA)\n",
    "print(dir(ClsA))"
   ]
  },
  {
   "cell_type": "markdown",
   "metadata": {},
   "source": [
    "7. 类块中定义类\n",
    "    - 类块中嵌套类的定义，该类也可以用来创建对象（后面专门主题讨论嵌套类的相关使用规则）\n",
    "    - 这种嵌套可以无穷无尽继续下去（理论上应该无穷无尽，不过一般解释器都有层数限制）。"
   ]
  },
  {
   "cell_type": "code",
   "execution_count": 15,
   "metadata": {},
   "outputs": [
    {
     "name": "stdout",
     "output_type": "stream",
     "text": [
      "Hello，我是类块下的语句\n",
      "<class '__main__.ClsA'>\n",
      "['InnerCls', '__class__', '__delattr__', '__dict__', '__dir__', '__doc__', '__eq__', '__format__', '__ge__', '__getattribute__', '__gt__', '__hash__', '__init__', '__init_subclass__', '__le__', '__lt__', '__module__', '__ne__', '__new__', '__reduce__', '__reduce_ex__', '__repr__', '__setattr__', '__sizeof__', '__str__', '__subclasshook__', '__weakref__', 'a', 'func_a']\n"
     ]
    }
   ],
   "source": [
    "class ClsA:\n",
    "    a = int(20)                                \n",
    "    print('Hello，我是类块下的语句')     #  在类块加载的时候得到执行。\n",
    "    \n",
    "    def  func_a():        # 在dir的输出会看到这个定义的函数。\n",
    "        print(函数)\n",
    "    \n",
    "    class  InnerCls:     # 在下面dir输出可以看到InnerCls的定义。\n",
    "        pass\n",
    "\n",
    "print(ClsA)\n",
    "print(dir(ClsA))"
   ]
  },
  {
   "cell_type": "markdown",
   "metadata": {},
   "source": [
    "#### 对象创建\n",
    "\n",
    "- 从前面的应用经验中直到，使用类创建对象，需要使用类的构造器，默认情况下，没有定义构造器，类都会提供一个默认构造器`__init__()`，所以没有构造器的类，也可以用来创建对象。\n",
    "\n",
    "- 语法 \n",
    "    - 类名()     # 创建的对象不保存，没有变量名引用，称呼为匿名对象。\n",
    "    - 对象变量 = 类名()\n",
    "    \n",
    "- **重点提示：**\n",
    "    - 使用类创建对象，是不是与函数调用语法一样？**一样**！\n",
    "    - 构造器是一个特殊的函数，也称构造器函数，专门用来初始化对象（不是分配对象内存空间，分配使用的分配器函数`__new__()`，关于内存分配在对象的内存管理中专门讲解）。"
   ]
  },
  {
   "cell_type": "code",
   "execution_count": 16,
   "metadata": {},
   "outputs": [
    {
     "name": "stdout",
     "output_type": "stream",
     "text": [
      "<__main__.ClsA object at 0x107c59550>\n"
     ]
    }
   ],
   "source": [
    "class ClsA:\n",
    "    pass\n",
    "\n",
    "obj_a = ClsA()\n",
    "print(obj_a)"
   ]
  },
  {
   "cell_type": "markdown",
   "metadata": {},
   "source": [
    "### 类中成员与调用\n",
    "\n",
    "- 类中成员指类中定义的数据与功能：\n",
    "    - 数据成员\n",
    "    - 函数成员"
   ]
  },
  {
   "cell_type": "markdown",
   "metadata": {},
   "source": [
    "#### 数据成员定义与使用\n",
    "\n",
    "1. 在类中直接定义数据：\n",
    "    - 与普通的数据语句一样。  变量: 类型  = 值\n",
    "\n",
    "2. 使用方式有两种：\n",
    "    - 通过类直接使用；(因为分配过空间就可以使用)\n",
    "    - 通过对象直接使用；"
   ]
  },
  {
   "cell_type": "code",
   "execution_count": 17,
   "metadata": {},
   "outputs": [
    {
     "name": "stdout",
     "output_type": "stream",
     "text": [
      "20\n",
      "88\n"
     ]
    }
   ],
   "source": [
    "class ClsA:\n",
    "    m_a: int = 20\n",
    "\n",
    "\n",
    "print(ClsA.m_a)\n",
    "\n",
    "ClsA.m_a =88\n",
    "\n",
    "obj_a = ClsA()\n",
    "print(obj_a.m_a)"
   ]
  },
  {
   "cell_type": "markdown",
   "metadata": {},
   "source": [
    "3. 说明：\n",
    "    - 只要分配过空间的变量就可以使用，上面使用方式很正常的。\n",
    "    - 使用ClsA.m\\_a这是成员调用运算符号，表明m\\_a在ClsA中，或者m\\_a在对象obj\\_a中。\n",
    "    - 但是上面例子中的m\\_a在对象与ClsA中是共享的，在全局作用域都可以访问（只是多了一个类前缀与对象前缀），本质是个全局变量。"
   ]
  },
  {
   "cell_type": "markdown",
   "metadata": {},
   "source": [
    "#### 函数成员定义与调用\n",
    "\n",
    "1.  类中函数的定义与普通函数的定义一样\n",
    "    - `def  函数名(参数......) -> 返回类型:`\n",
    "    \n",
    "2. 调用方式两种\n",
    "    - 类名.函数(参数)     # 无返回值\n",
    "    - 变量 = 类名.函数(参数)      # 接收返回值"
   ]
  },
  {
   "cell_type": "code",
   "execution_count": 18,
   "metadata": {},
   "outputs": [
    {
     "name": "stdout",
     "output_type": "stream",
     "text": [
      "100\n"
     ]
    }
   ],
   "source": [
    "class ClsA:\n",
    "    def func_a(p1:int, p2:int)->int:\n",
    "        return p1+p2\n",
    "\n",
    "print(ClsA.func_a(45,55))\n",
    "\n",
    "obj_a = ClsA()\n",
    "# print(obj_a.func_a(45,55))      # 使用对象访问产生错误"
   ]
  },
  {
   "cell_type": "markdown",
   "metadata": {},
   "source": [
    "#### 类中类的定义域使用\n",
    "\n",
    "- 与普通类一样，只是多一个前缀（我们也称命名空间）。\n",
    "- 与函数的差异是：类也可以通过对象调用来定义该类型的对象。"
   ]
  },
  {
   "cell_type": "code",
   "execution_count": 19,
   "metadata": {},
   "outputs": [
    {
     "name": "stdout",
     "output_type": "stream",
     "text": [
      "<__main__.ClsA.InnerCls object at 0x107c59908>\n",
      "<__main__.ClsA.InnerCls object at 0x107c59a20>\n"
     ]
    }
   ],
   "source": [
    "class ClsA:\n",
    "    class InnerCls:\n",
    "        pass\n",
    "\n",
    "obj_inner = ClsA.InnerCls()\n",
    "\n",
    "print(obj_inner)\n",
    "\n",
    "obj_a = ClsA()\n",
    "obj_inner_a = obj_a.InnerCls()    # 使用对象作为前缀\n",
    "print(obj_inner_a)"
   ]
  },
  {
   "cell_type": "markdown",
   "metadata": {},
   "source": [
    "#### 理解类中成员\n",
    "- 综上所述，类中定义的数据，函数，类与普通变量，函数，类差不多，就是多了一个命名限定符（就是使用类作为前缀`类名.`）\n",
    "\n",
    "- 我们成上述数据、函数与类为类中成员：\n",
    "    - 类中数据成员\n",
    "    - 类中函数成员\n",
    "    - 内部类（或者嵌套类）\n",
    "    \n",
    "- 类中成员的共同特征，都可以通过类直接使用。"
   ]
  },
  {
   "cell_type": "markdown",
   "metadata": {},
   "source": [
    "### 类方法与静态方法"
   ]
  },
  {
   "cell_type": "markdown",
   "metadata": {},
   "source": [
    "- 上面类中的成员，我们一直小心翼翼称为类中的成员，而没有称为类成员是有原因的：\n",
    "    - 实际在Python语法中，存在可以通过对象与类同时调用的函数。这种函数称为静态函数，上面那种只有类能调用的函数称为类函数。"
   ]
  },
  {
   "cell_type": "markdown",
   "metadata": {},
   "source": [
    "#### 静态函数与@staticmethod\n",
    "\n",
    "1. 从前面例子可以看出，类中函数默认就是类静态函数，实际可以强制标明该函数为静态函数（本质是全局函数），这个通过一个函数装饰器可以实现。\n",
    "\n",
    "    - `@staticmethod`：其定义如下：\n",
    "\n",
    "```python\n",
    "class staticmethod(object)\n",
    "     | - staticmethod(function) -> method\n",
    "\n",
    "```\n",
    "\n",
    "2. 静态函数的定义与使用例子"
   ]
  },
  {
   "cell_type": "code",
   "execution_count": 20,
   "metadata": {},
   "outputs": [
    {
     "name": "stdout",
     "output_type": "stream",
     "text": [
      "100\n",
      "100\n"
     ]
    }
   ],
   "source": [
    "class ClsA:\n",
    "    @staticmethod\n",
    "    def func_a(p1:int, p2:int)->int:\n",
    "        return p1+p2\n",
    "\n",
    "print(ClsA.func_a(45,55))\n",
    "\n",
    "obj_a = ClsA()\n",
    "print(obj_a.func_a(45,55))      # 运行正确"
   ]
  },
  {
   "cell_type": "markdown",
   "metadata": {},
   "source": [
    "#### 类函数与@classmethod\n",
    "\n",
    "- 默认情况下，类中函数式类函数，也可以显式定义函数为类函数，使用装饰`@classmethod`，其定义如下：\n",
    "\n",
    "```python\n",
    "\n",
    "class classmethod(object)\n",
    "     | - classmethod(function) -> method\n",
    "\n",
    "```\n",
    "\n",
    "- 类函数必须提供一个self函数，因为类函数在解释器执行的时候，会传递一个类给函数。下面讲完self，我们还会讨论。"
   ]
  },
  {
   "cell_type": "code",
   "execution_count": 21,
   "metadata": {},
   "outputs": [
    {
     "name": "stdout",
     "output_type": "stream",
     "text": [
      "100\n",
      "100\n"
     ]
    }
   ],
   "source": [
    "class ClsA:\n",
    "    @classmethod\n",
    "    def func_a(self, p1:int, p2:int)->int:     # 缺少self会错误，参数不匹配\n",
    "        return p1+p2\n",
    "\n",
    "print(ClsA.func_a(45,55))\n",
    "\n",
    "obj_a = ClsA()\n",
    "print(obj_a.func_a(45,55))      # 使用对象访问产生错误"
   ]
  },
  {
   "cell_type": "markdown",
   "metadata": {},
   "source": [
    "### 数据作用域\n",
    "\n",
    "- 上面的数据、函数可以通过类直接使用，等同于全局变量、全局函数；这是类作为一个代码组织单位而使用，可以称为命名空间，使用场景可以用来防止与其他相同名字的数据与函数冲突。\n",
    "    - 等于对全局变量归类，使用起来更加有逻辑与调理。\n",
    "    \n",
    "- 使用类类划分数据的例子（后面因为这个系统单独引入了一个标准模块模式化这个常见问题：枚举类型）"
   ]
  },
  {
   "cell_type": "code",
   "execution_count": 22,
   "metadata": {},
   "outputs": [],
   "source": [
    "class  Dir:\n",
    "    UP = 1\n",
    "    DOWN = 2\n",
    "    LEFT = 3\n",
    "    RIGHT = 4\n",
    "\n",
    "# 在使用方向的时候，再也不怕与其他地方定义的UP冲突了。（命名冲突是个头疼的事情）"
   ]
  },
  {
   "cell_type": "markdown",
   "metadata": {},
   "source": [
    "- 上面的数据只要类加载就存在，Python引入了一种数据与函数定义方式，这种数据与函数不是全局，也不是局部：\n",
    "    - 对象分配数据就分配，对象释放数据就释放；\n",
    "    - 数据与函数只有对象能够调用，类不能调用；\n",
    "    \n",
    "- 我们称这种依赖对象作为作用域的现象为：**对象域**，下面我们专门讲解对象域的语法与应用。对象域在Python中只有两个成员：\n",
    "    - 对象域数据，也称对象成员数据，简称：成员变量\n",
    "    - 对象与函数，也称对象成员函数，简称：成员函数\n",
    "    "
   ]
  },
  {
   "cell_type": "markdown",
   "metadata": {},
   "source": [
    "#### 成员函数\n",
    "\n",
    "1. 定义- 在类中定义\n",
    "    - 注意其中函数第一个参数必须是self，这是一个关键字。\n",
    "\n",
    "```python\n",
    "\n",
    "class  类:\n",
    "    def   函数名(self, 参数列表，.....)->返回类型：\n",
    "        语句\n",
    "        ....\n",
    "        return 返回值     # 可选\n",
    "\n",
    "```\n",
    "\n",
    "2. 定义- 在类外定义\n",
    "    - 这是Python这种动态脚本语言的特色。\n",
    "    \n",
    "```python\n",
    "\n",
    "class  类:\n",
    "    ......\n",
    "    \n",
    "\n",
    "def 函数名(self, 参数列表)->返回类型：\n",
    "    语句\n",
    "    ......\n",
    "    return 返回值    # 可选\n",
    "\n",
    "类.函数名 = 函数名     # 绑定\n",
    "     \n",
    "```\n",
    "\n",
    "\n",
    "- 说明使用lambda表达式也可以直接绑定。\n",
    "\n",
    "\n",
    "\n",
    "3. 成员函数的调用：\n",
    "\n",
    "    - 变量 =  对象.函数(参数)\n",
    "    \n",
    "    \n",
    "\n",
    "\n",
    "4. 成员函数定义与使用的例子"
   ]
  },
  {
   "cell_type": "code",
   "execution_count": 23,
   "metadata": {},
   "outputs": [
    {
     "name": "stdout",
     "output_type": "stream",
     "text": [
      "100\n",
      "55\n",
      "4500\n",
      "100\n"
     ]
    }
   ],
   "source": [
    "class  ClsA:\n",
    "    def add(self, p1, p2):\n",
    "        return p1 + p2\n",
    "    \n",
    "\n",
    "def substract(self, p1, p2):\n",
    "    return p1 - p2\n",
    "\n",
    "ClsA.substract = substract    # 动态绑定\n",
    "\n",
    "ClsA.product = lambda self, p1, p2: p1*p2     # 这里可以体会lambda表达式字面值之美。\n",
    "\n",
    "obj_a = ClsA()\n",
    "re =obj_a.add(45, 55)\n",
    "print(re)\n",
    "print(obj_a.substract(100,45))\n",
    "print(obj_a.product(100,45))\n",
    "\n",
    "# re = sClsA.add(45,55)    # 不能通过类调用\n",
    "re = ClsA.add(obj_a, 45, 55)   # 除非传递一个对象（因为成员函数，成员变量都依赖对象才能运行）\n",
    "print(re)"
   ]
  },
  {
   "cell_type": "markdown",
   "metadata": {},
   "source": [
    "#### 特殊的构造器函数\n",
    "\n",
    "- 有一个特殊的函数，在对象定义的时候会自动调用，这就是构造器函数，其特殊之处在于:\n",
    "    - 很少显式调用，对象创建隐式自动调用（所以成为构造器函数）；\n",
    "    - 函数名固定，必须是：`__init__`；\n",
    "    - 参数与普通函数一样，可以随意；在创建对象的时候，传递相应的参数，参数使用规则与函数一样。\n",
    "    - 函数不需要返回值。\n",
    "    \n",
    "- 下面是构造器函数的使用例子"
   ]
  },
  {
   "cell_type": "code",
   "execution_count": 24,
   "metadata": {},
   "outputs": [
    {
     "name": "stdout",
     "output_type": "stream",
     "text": [
      "构造器： 888\n"
     ]
    }
   ],
   "source": [
    "class ClsA:\n",
    "    def __init__(self, p1):\n",
    "        print('构造器：', p1)\n",
    "\n",
    "obj_a = ClsA(888)\n"
   ]
  },
  {
   "cell_type": "markdown",
   "metadata": {},
   "source": [
    "- 尽管所有成员函数都可以传递参数，但是我们建议部分重要的参数还是通过构造器函数传递是最佳的。\n",
    "- 不像其他语言，Python不支持函数重载的语法（因为可选参数，默认值可以解决其他语言导入的重载语法功能），也不支持构造器函数重载。\n",
    "- 构造器函数也用作类型转换函数。比如int类，`a = int('20',10)`"
   ]
  },
  {
   "cell_type": "markdown",
   "metadata": {},
   "source": [
    "#### 成员变量\n",
    "\n",
    "1. 成员变量语法：\n",
    "    - 语法：`self.变量 = 值`\n",
    "    - 在类中任何成员函数中都可以定义成员变量（包含构造器函数），但不能在类下面直接定义成员变量。\n",
    "    \n",
    "    - 强烈建议成员变量的定义都最好集中在构造器函数中最佳 - 一种良好的编码规范。\n",
    "    \n",
    "\n",
    "2. 定义成员量的例子"
   ]
  },
  {
   "cell_type": "code",
   "execution_count": 25,
   "metadata": {},
   "outputs": [
    {
     "name": "stdout",
     "output_type": "stream",
     "text": [
      "88 30\n"
     ]
    }
   ],
   "source": [
    "class ClsA:\n",
    "    # self.m_c = 40    #  不允许在类下直接定义成员变量\n",
    "    def __init__(self):\n",
    "        self.m_a = 20\n",
    "    \n",
    "    def show(self):\n",
    "        self.m_b = 30\n",
    "\n",
    "obj_a = ClsA()\n",
    "obj_a.m_a =88                    # 修改成员变量。\n",
    "\n",
    "obj_a.show()                      # show不调用，m_b成员变量得不到定义。（这就是建议成员变量定义在构造器函数的原因）\n",
    "\n",
    "print(obj_a.m_a, obj_a.m_b)    # 访问成员变量。"
   ]
  },
  {
   "cell_type": "markdown",
   "metadata": {},
   "source": [
    "3. 关于self\n",
    "\n",
    "\n",
    "- self代表的实际是类的实例。类似于函数的参数，类没有实例化（没有使用类构建对象）时，self数不存在的；当类实例化一个对象，这个self就代表这个对象。\n",
    "\n",
    "    - 调用不同对象，self也不同。\n",
    "\n",
    "    - 在类中调用成员变量与函数的时候，就是用self表示对象。\n",
    "    \n",
    "    - 成员函数中的self与成员变量前的self是一样的作用与含义。"
   ]
  },
  {
   "cell_type": "markdown",
   "metadata": {},
   "source": [
    "4. 再论静态函数与类函数\n",
    "\n",
    "\n",
    "- 静态函数与类函数还有同一个区别，就是对self的处理。@classmethod可以把成员函数转换成类函数。这个时候，解释器会永远给类函数的self传递类本身，没有self就不传递。\n",
    "\n",
    "下面使用例子代码说明："
   ]
  },
  {
   "cell_type": "code",
   "execution_count": 26,
   "metadata": {},
   "outputs": [
    {
     "name": "stdout",
     "output_type": "stream",
     "text": [
      "<class '__main__.ClsA'>\n",
      "classmethod & staticmethod\n",
      "<class '__main__.ClsA'>\n",
      "classmethod & staticmethod\n",
      "display: <__main__.ClsA object at 0x107c59b00>\n"
     ]
    }
   ],
   "source": [
    "class   ClsA:\n",
    "    \n",
    "    @classmethod       # 不能使用@staticmethod\n",
    "    def show(self):       # 使用@classmethod，没self就是ClsA类本身，而不是实例本身，就算使用实例调用也是类本身\n",
    "        print(self)\n",
    "        print(\"classmethod & staticmethod\")\n",
    "        \n",
    "    def display(self):\n",
    "        print('display:', self)      # 注意这个self与上面的self不同。\n",
    "        \n",
    "\n",
    "ClsA.show()\n",
    "\n",
    "\n",
    "obj_a = ClsA()\n",
    "obj_a.show()\n",
    "obj_a.display()\n"
   ]
  },
  {
   "cell_type": "markdown",
   "metadata": {},
   "source": [
    "- **注意一**： \n",
    "    - 类下直接编写的语句，一般不具备self环境，是不能使用self的。self环境是解释器传递过来的。\n",
    "    - 说白了其实是一种实例动态绑定数据变量。\n",
    "    \n",
    "- **注意二**： \n",
    "    - 成员变量会随对象消失而消失，但是类变量本质是全局变量，不会随对象消失而消失。只要类加载了，他就存在，直到卸载类为止才消失。\n",
    "    - 遗憾的是Python在**Python3不再提供模块或者类的重新加载与卸载，除非重新启动Python**，所以大量使用类变量不是一个好的方式，这种模式只有在代码中显式使用del释放。不释放就意味着内存闲置（另外一种变相的**内存泄露**）\n",
    "    - 所有为了封装数据，最好采用成员变量。"
   ]
  },
  {
   "cell_type": "markdown",
   "metadata": {},
   "source": [
    "### 数据访问限制与私有"
   ]
  },
  {
   "cell_type": "markdown",
   "metadata": {},
   "source": [
    "- Python提供了一种约定（下划线）来限制对成员（成员变量，成员函数）的访问：\n",
    "    - `_xxx 不能用’from module import *’导入`\n",
    "    - `__xxx__ 系统定义名字`\n",
    "    - `__xxx 类中的私有变量名`"
   ]
  },
  {
   "cell_type": "markdown",
   "metadata": {},
   "source": [
    "#### 私有成员变量与成员函数\n",
    "\n",
    "- 所谓私有，只能在类内部访问。在类的作用域外访问就是非法语法。下面使用例子说明："
   ]
  },
  {
   "cell_type": "code",
   "execution_count": 27,
   "metadata": {},
   "outputs": [
    {
     "ename": "AttributeError",
     "evalue": "'ClsA' object has no attribute '__show'",
     "output_type": "error",
     "traceback": [
      "\u001b[0;31m---------------------------------------------------------------------------\u001b[0m",
      "\u001b[0;31mAttributeError\u001b[0m                            Traceback (most recent call last)",
      "\u001b[0;32m<ipython-input-27-623617688d55>\u001b[0m in \u001b[0;36m<module>\u001b[0;34m()\u001b[0m\n\u001b[1;32m      9\u001b[0m \u001b[0mobj_a\u001b[0m \u001b[0;34m=\u001b[0m \u001b[0mClsA\u001b[0m\u001b[0;34m(\u001b[0m\u001b[0;34m)\u001b[0m\u001b[0;34m\u001b[0m\u001b[0m\n\u001b[1;32m     10\u001b[0m \u001b[0;31m# print(obj_a.__m_a)     # 访问错误：AttributeError: 'ClsA' object has no attribute '__m_a'\u001b[0m\u001b[0;34m\u001b[0m\u001b[0;34m\u001b[0m\u001b[0m\n\u001b[0;32m---> 11\u001b[0;31m \u001b[0mobj_a\u001b[0m\u001b[0;34m.\u001b[0m\u001b[0m__show\u001b[0m\u001b[0;34m(\u001b[0m\u001b[0;34m)\u001b[0m             \u001b[0;31m# 访问错误：AttributeError: 'ClsA' object has no attribute '__show'\u001b[0m\u001b[0;34m\u001b[0m\u001b[0m\n\u001b[0m",
      "\u001b[0;31mAttributeError\u001b[0m: 'ClsA' object has no attribute '__show'"
     ]
    }
   ],
   "source": [
    "class ClsA:\n",
    "    def __init__(self):\n",
    "        self.__m_a =20\n",
    "    \n",
    "    def __show():\n",
    "        print('private member function!')\n",
    "\n",
    "\n",
    "obj_a = ClsA()\n",
    "# print(obj_a.__m_a)     # 访问错误：AttributeError: 'ClsA' object has no attribute '__m_a'\n",
    "obj_a.__show()             # 访问错误：AttributeError: 'ClsA' object has no attribute '__show'"
   ]
  },
  {
   "cell_type": "markdown",
   "metadata": {},
   "source": [
    "#### 访问私有成员的场景\n",
    "\n",
    "- 下面是一个例子说明，怎么访问私有成员，类中访问：\n",
    "    - 直接访问：使用self访问；\n",
    "    - 实例访问：使用对象访问；\n",
    "\n",
    "- 下面使用的是成员变量，对成员函数一样的道理。"
   ]
  },
  {
   "cell_type": "code",
   "execution_count": 28,
   "metadata": {},
   "outputs": [
    {
     "name": "stdout",
     "output_type": "stream",
     "text": [
      "False\n",
      "True\n"
     ]
    }
   ],
   "source": [
    "class  ClsA:\n",
    "    def __init__(self, v):\n",
    "        self.__m_a = v\n",
    "    \n",
    "    def is_equal(self, obj):\n",
    "        if self.__m_a == obj.__m_a:         # obj.__m_a使用实例访问私有    self.__m_a在类内部使用self直接访问\n",
    "            return True\n",
    "        else:\n",
    "            return False\n",
    "\n",
    "obj_a = ClsA(30)\n",
    "obj_b = ClsA(40)\n",
    "obj_c = ClsA(30)\n",
    "\n",
    "print(obj_a.is_equal(obj_b))\n",
    "print(obj_a.is_equal(obj_c))"
   ]
  },
  {
   "cell_type": "markdown",
   "metadata": {},
   "source": [
    "#### 访问是有类变量与类函数的例子\n",
    "\n",
    "- 对本质全局的类变量与类函数是否也一样有效呢？下面使用例子说明：\n"
   ]
  },
  {
   "cell_type": "code",
   "execution_count": 29,
   "metadata": {},
   "outputs": [
    {
     "name": "stdout",
     "output_type": "stream",
     "text": [
      "['_ClsA__cls_a', '_ClsA__func_a', '__class__', '__delattr__', '__dict__', '__dir__', '__doc__', '__eq__', '__format__', '__ge__', '__getattribute__', '__gt__', '__hash__', '__init__', '__init_subclass__', '__le__', '__lt__', '__module__', '__ne__', '__new__', '__reduce__', '__reduce_ex__', '__repr__', '__setattr__', '__sizeof__', '__str__', '__subclasshook__', '__weakref__', 'meth_a', 'meth_b']\n",
      "20\n",
      "20\n",
      "private\n"
     ]
    }
   ],
   "source": [
    "class ClsA:\n",
    "    __cls_a = 20\n",
    "    \n",
    "    def __func_a():\n",
    "        print('private')\n",
    "\n",
    "    def meth_a():\n",
    "        print(ClsA.__cls_a)       # 内部可以调用，函数一样的。\n",
    "     \n",
    "    @classmethod\n",
    "    def meth_b(self):\n",
    "        print(self.__cls_a)       # 内部可以调用，函数一样的。\n",
    "        self.__func_a();\n",
    "\n",
    "print(dir(ClsA))\n",
    "# print(ClsA.__cls_a)     # 无法调用\n",
    "ClsA.meth_a()\n",
    "ClsA.meth_b()"
   ]
  },
  {
   "cell_type": "markdown",
   "metadata": {},
   "source": [
    "### 数据与属性\n",
    "\n",
    "- 为什么计算机语言要引入这么奇怪的私有化语法，限制别人访问，这个是因为直接访问数据导致数据不安全：\n",
    "    - 比如：学生成绩，直接访问，没办法检测数据的合理性，有可能出现成绩为负数的可能性。\n",
    "    - 对函数私有化，主要不想暴露某些函数接口给用户，而是内部自己使用。\n"
   ]
  },
  {
   "cell_type": "markdown",
   "metadata": {},
   "source": [
    "#### 使用函数访问数据\n",
    "\n",
    "- 在私有化数据的情况，建议使用函数访问数据：\n",
    "    - 修改数据\n",
    "    - 获取数据\n",
    "    \n",
    "- 下面是这种访问方式的使用例子代码："
   ]
  },
  {
   "cell_type": "code",
   "execution_count": 30,
   "metadata": {},
   "outputs": [
    {
     "name": "stdout",
     "output_type": "stream",
     "text": [
      "<Louis,0.0>\n"
     ]
    }
   ],
   "source": [
    "class Stu:\n",
    "    def __init__(self):\n",
    "        self.__name = ''\n",
    "        self.__score =0.0\n",
    "    \n",
    "    def set_name(self, name_):\n",
    "        self.__name = name_\n",
    "        \n",
    "    def get_name(self):\n",
    "        return self.__name\n",
    "    \n",
    "    def set_score(self,score_):    \n",
    "        if 0 <= score_ <= 100:         # 直接访问就没有提供处理机制\n",
    "            self.__socre=score_\n",
    "        else:\n",
    "            self.__socre=0.0\n",
    "            # 或者抛出异常，等我们学习完异常后就这么干！\n",
    "            \n",
    "    def get_score(self):\n",
    "        return self.__score\n",
    "    \n",
    "    def __str__(self):\n",
    "        return F'<{self.__name},{self.__score}>'\n",
    "    \n",
    "    \n",
    "stu = Stu()\n",
    "stu.set_name('Louis')\n",
    "stu.set_score(200)\n",
    "\n",
    "print(stu)    # 数据得到检测处理"
   ]
  },
  {
   "cell_type": "markdown",
   "metadata": {},
   "source": [
    "#### 使用构造器提供数据初始化\n",
    "\n",
    "- 强烈建议对成员变量首选构造器初始化方式"
   ]
  },
  {
   "cell_type": "code",
   "execution_count": 31,
   "metadata": {},
   "outputs": [
    {
     "name": "stdout",
     "output_type": "stream",
     "text": [
      "<Louis,0.0>\n",
      "<Louis,98.0>\n"
     ]
    }
   ],
   "source": [
    "class Stu:\n",
    "    def __init__(self,name_= '', score_=0.0):\n",
    "        self.__name = name_\n",
    "        if 0 <= score_ <= 100:         \n",
    "            self.__score=score_\n",
    "        else:\n",
    "            self.__score=0.0\n",
    "    \n",
    "    def set_name(self, name_):\n",
    "        self.__name = name_\n",
    "        \n",
    "    def get_name(self):\n",
    "        return self.__name\n",
    "    \n",
    "    def set_score(self, score_):    \n",
    "        if 0 <= score_ <= 100:         # 直接访问就没有提供处理机制\n",
    "            self.__score = score_\n",
    "        else:\n",
    "            self.__score = 0.0\n",
    "            # 或者抛出异常，等我们学习完异常后就这么干！\n",
    "            \n",
    "    def get_score(self):\n",
    "        return self.__score\n",
    "    \n",
    "    def __str__(self):\n",
    "        return F'<{self.__name},{self.__score}>'\n",
    "    \n",
    "    \n",
    "stu = Stu('Louis', 200)\n",
    "print(stu)    # 数据得到检测处理\n",
    "\n",
    "stu.set_score(98.00)\n",
    "print(stu)"
   ]
  },
  {
   "cell_type": "markdown",
   "metadata": {},
   "source": [
    "#### 属性的定义与使用\n",
    "\n",
    "- 使用函数访问数据确实可以提供数据更多处理，确保数据安全，但是这种方式使用起来没有直接使用数据方便，所以某些语言提出的了属性的语法（Java就没有这种语法，C#有这种语法）\n",
    "    - 属性像函数一样可以处理数据的检测；\n",
    "    - 属性像公有成员变量一样方便使用；\n",
    "\n",
    "- 属性的语法实现依赖函数装饰器的语法，装饰器本身是函数，可以采用两种方式调用：\n",
    "    - 直接调用\n",
    "    - 装饰器调用"
   ]
  },
  {
   "cell_type": "markdown",
   "metadata": {},
   "source": [
    "1. 属性的定义\n",
    "\n",
    "```python\n",
    "    \n",
    "    属性名 = property(fget=None, fset=None, fdel=None, doc=None) \n",
    "\n",
    "```\n",
    "- 说明：\n",
    "    - 属性定义必须定义成类数据，不能定义成成员变量。\n",
    "\n",
    "\n",
    "\n",
    "2. property的帮助：\n",
    "\n",
    "```python\n",
    "\n",
    "class property(object)\n",
    "     |-   property(fget=None, fset=None, fdel=None, doc=None) -> property attribute\n",
    "            |- fget：访问函数\n",
    "            |- fset：修改函数\n",
    "            |- fdel：释放函数\n",
    "            |- fdel：注释文档\n",
    "\n",
    "```\n"
   ]
  },
  {
   "cell_type": "markdown",
   "metadata": {},
   "source": [
    "3. 属性的使用例子：时候在原有基础上直接添加"
   ]
  },
  {
   "cell_type": "code",
   "execution_count": 32,
   "metadata": {},
   "outputs": [
    {
     "name": "stdout",
     "output_type": "stream",
     "text": [
      "<Louis,0.0>\n",
      "<Jack,0.0>\n",
      "Jack\n",
      "Help on class Stu in module __main__:\n",
      "\n",
      "class Stu(builtins.object)\n",
      " |  Methods defined here:\n",
      " |  \n",
      " |  __init__(self, name_='', score_=0.0)\n",
      " |      Initialize self.  See help(type(self)) for accurate signature.\n",
      " |  \n",
      " |  __str__(self)\n",
      " |      Return str(self).\n",
      " |  \n",
      " |  get_name(self)\n",
      " |  \n",
      " |  get_score(self)\n",
      " |  \n",
      " |  set_name(self, name_)\n",
      " |  \n",
      " |  set_score(self, score_)\n",
      " |  \n",
      " |  ----------------------------------------------------------------------\n",
      " |  Data descriptors defined here:\n",
      " |  \n",
      " |  __dict__\n",
      " |      dictionary for instance variables (if defined)\n",
      " |  \n",
      " |  __weakref__\n",
      " |      list of weak references to the object (if defined)\n",
      " |  \n",
      " |  name\n",
      " |      Name属性\n",
      "\n"
     ]
    }
   ],
   "source": [
    "class Stu:\n",
    "    def __init__(self,name_= '', score_=0.0):\n",
    "        self.__name = name_\n",
    "        if 0 <= score_ <= 100:         \n",
    "            self.__score=score_\n",
    "        else:\n",
    "            self.__score=0.0\n",
    "    \n",
    "    def set_name(self, name_):\n",
    "        self.__name = name_\n",
    "        \n",
    "    def get_name(self):\n",
    "        return self.__name\n",
    "    \n",
    "    def set_score(self, score_):    \n",
    "        if 0 <= score_ <= 100:         # 直接访问就没有提供处理机制\n",
    "            self.__score = score_\n",
    "        else:\n",
    "            self.__score = 0.0\n",
    "            # 或者抛出异常，等我们学习完异常后就这么干！\n",
    "            \n",
    "    def get_score(self):\n",
    "        return self.__score\n",
    "    \n",
    "    def __str__(self):\n",
    "        return F'<{self.__name},{self.__score}>'\n",
    "    \n",
    "    # ----------------------------\n",
    "    name = property(get_name, set_name, None, \"Name属性\")     # 没有使用self，因为不需要实例\n",
    "    # ----------------------------\n",
    "    \n",
    "stu = Stu('Louis', 200)\n",
    "print(stu)    # 数据得到检测处理\n",
    "\n",
    "stu.name= 'Jack'\n",
    "print(stu)\n",
    "print(stu.name)\n",
    "help(Stu)    # 查看属性名"
   ]
  },
  {
   "cell_type": "markdown",
   "metadata": {},
   "source": [
    "4. 属性使用例子：装饰器方式（推荐方式，我个人喜欢上面那种）\n",
    "\n",
    "\n",
    "\n",
    "- 遵循规则：\n",
    "    - getter属性使用：@property装饰\n",
    "    - setter属性使用：@属性名.setter装饰\n",
    "    - deleter属性使用：@属性名.deleter装饰\n",
    "    - 属性注释文档：在getter函数中定义\n",
    "    \n",
    "    - 首先使用@property定义gtter，才能定义setter等。\n",
    "    - getter，setter，deleter使用相同的函数名\n",
    "    \n",
    "    - getter,setter,deleter不是全部都必须的\n",
    "        - 只有getter称为只读属性\n",
    "        - 有setter称为可写属性"
   ]
  },
  {
   "cell_type": "code",
   "execution_count": 33,
   "metadata": {},
   "outputs": [
    {
     "name": "stdout",
     "output_type": "stream",
     "text": [
      "<Louis,0.0>\n",
      "<Jack,0.0>\n",
      "Jack\n",
      "释放\n",
      "Help on class Stu in module __main__:\n",
      "\n",
      "class Stu(builtins.object)\n",
      " |  Methods defined here:\n",
      " |  \n",
      " |  __init__(self, name_='', score_=0.0)\n",
      " |      Initialize self.  See help(type(self)) for accurate signature.\n",
      " |  \n",
      " |  __str__(self)\n",
      " |      Return str(self).\n",
      " |  \n",
      " |  get_score(self)\n",
      " |  \n",
      " |  set_score(self, score_)\n",
      " |  \n",
      " |  ----------------------------------------------------------------------\n",
      " |  Data descriptors defined here:\n",
      " |  \n",
      " |  __dict__\n",
      " |      dictionary for instance variables (if defined)\n",
      " |  \n",
      " |  __weakref__\n",
      " |      list of weak references to the object (if defined)\n",
      " |  \n",
      " |  name\n",
      " |      这是装饰器属性\n",
      "\n"
     ]
    }
   ],
   "source": [
    "class Stu:\n",
    "    def __init__(self,name_= '', score_=0.0):\n",
    "        self.__name = name_\n",
    "        if 0 <= score_ <= 100:         \n",
    "            self.__score=score_\n",
    "        else:\n",
    "            self.__score=0.0\n",
    "    \n",
    "    @property\n",
    "    def name(self):\n",
    "        \"\"\"\n",
    "        这是装饰器属性\n",
    "        \"\"\"\n",
    "        return self.__name\n",
    "    \n",
    "    @name.setter\n",
    "    def name(self, name_):\n",
    "        self.__name = name_\n",
    "    \n",
    "    @name.deleter\n",
    "    def name(self):\n",
    "        print('释放')\n",
    "        del self.__name\n",
    "    \n",
    "    def set_score(self, score_):    \n",
    "        if 0 <= score_ <= 100:         # 直接访问就没有提供处理机制\n",
    "            self.__score = score_\n",
    "        else:\n",
    "            self.__score = 0.0\n",
    "            # 或者抛出异常，等我们学习完异常后就这么干！\n",
    "            \n",
    "    def get_score(self):\n",
    "        return self.__score\n",
    "    \n",
    "    def __str__(self):\n",
    "        return F'<{self.__name},{self.__score}>'\n",
    "\n",
    "stu = Stu('Louis', 200)\n",
    "print(stu)    # 数据得到检测处理\n",
    "\n",
    "stu.name= 'Jack'\n",
    "print(stu)\n",
    "print(stu.name)\n",
    "del stu.name\n",
    "help(Stu)    # 查看属性名"
   ]
  },
  {
   "cell_type": "markdown",
   "metadata": {},
   "source": [
    "### 运算符\n",
    "\n",
    "- Python有一大特色就是支持运算符重载，每个运算符对应一个系统函数\n",
    "    - 比如：`  +  `  对应  `  __add__  `\n",
    "\n",
    "- 想实现定制的运算符，就覆盖对应的函数即可。\n",
    "\n",
    "- 下面使用两个例子说明：\n",
    "    - 给上面的Stu实现一个乘法：数乘，来对乘积调整\n",
    "    - 我们前面讲过基本类型的一个运算符@没有实现，我们可以实现一个玩玩。"
   ]
  },
  {
   "cell_type": "markdown",
   "metadata": {},
   "source": [
    "#### 给类实现乘法运算"
   ]
  },
  {
   "cell_type": "code",
   "execution_count": 34,
   "metadata": {},
   "outputs": [
    {
     "name": "stdout",
     "output_type": "stream",
     "text": [
      "右乘\n",
      "<Louis,84.0>\n",
      "左乘\n",
      "<Louis,100.8>\n"
     ]
    }
   ],
   "source": [
    "class Stu:\n",
    "    def __init__(self,name_= '', score_=0.0):\n",
    "        self.__name = name_\n",
    "        if 0 <= score_ <= 100:         \n",
    "            self.__score=score_\n",
    "        else:\n",
    "            self.__score=0.0\n",
    "    \n",
    "    def set_name(self, name_):\n",
    "        self.__name = name_\n",
    "        \n",
    "    def get_name(self):\n",
    "        return self.__name\n",
    "    \n",
    "    def set_score(self, score_):    \n",
    "        if 0 <= score_ <= 100:         # 直接访问就没有提供处理机制\n",
    "            self.__score = score_\n",
    "        else:\n",
    "            self.__score = 0.0\n",
    "            # 或者抛出异常，等我们学习完异常后就这么干！\n",
    "            \n",
    "    def get_score(self):\n",
    "        return self.__score\n",
    "    \n",
    "    def del_score(self):\n",
    "        del self__score\n",
    "    \n",
    "    def __str__(self):\n",
    "        return F'<{self.__name},{self.__score}>'\n",
    "    # ----------------------------\n",
    "    def __mul__(self, value):   # 左乘（对象在左边）\n",
    "        self.__score *=value\n",
    "        print('左乘')\n",
    "        return self\n",
    "    def __rmul__(self, value):   # 左乘（对象在右边）\n",
    "        self.__score *=value\n",
    "        print('右乘')\n",
    "        return self\n",
    "    # ----------------------------\n",
    "    \n",
    "    # ----------------------------\n",
    "    name = property(get_name, set_name, None, \"Name属性\")     # 没有使用self，因为不需要实例\n",
    "    score = property(\n",
    "        fget=get_score,\n",
    "        fset=set_name, \n",
    "        fdel=del_score, \n",
    "        doc= \"Score属性\")     # 没有使用self，因为不需要实例\n",
    "    # ----------------------------\n",
    "    \n",
    "\n",
    "stu = Stu('Louis', 70)\n",
    "stu = 1.2 * stu \n",
    "print(stu)\n",
    "stu =  stu  * 1.2\n",
    "print(stu)"
   ]
  },
  {
   "cell_type": "markdown",
   "metadata": {},
   "source": [
    "#### 实现@运算符号\n",
    "\n",
    "- @符号在矩阵运算中表示内积，在矩阵中\\*表示哈马达积；"
   ]
  },
  {
   "cell_type": "code",
   "execution_count": 35,
   "metadata": {},
   "outputs": [
    {
     "name": "stdout",
     "output_type": "stream",
     "text": [
      "600\n"
     ]
    }
   ],
   "source": [
    "class mint(int):\n",
    "    def __matmul__(self, other):     \n",
    "        self = self * other              # 对标量，我们赋予内积就是普通乘积的运算操作\n",
    "        return self\n",
    "\n",
    "\n",
    "a = mint(20)\n",
    "b = mint(30)\n",
    "\n",
    "print(a @ b)"
   ]
  },
  {
   "cell_type": "markdown",
   "metadata": {},
   "source": [
    "### 成员绑定与\\_\\_slots\\_\\_\n",
    "\n",
    "- 上面可以看见，类的成员是可以随意绑定的，通过类绑定是类函数与变量，通过实例绑定的是成员变量与成员函数。\n",
    "- 绑定的成员，可以通过`dir`查看，或者直接访问`__dict__`。"
   ]
  },
  {
   "cell_type": "markdown",
   "metadata": {},
   "source": [
    "#### 类变量与类函数、静态函数绑定"
   ]
  },
  {
   "cell_type": "code",
   "execution_count": 36,
   "metadata": {},
   "outputs": [
    {
     "name": "stdout",
     "output_type": "stream",
     "text": [
      "20\n",
      "30\n",
      "show_1\n",
      "show_2\n",
      "show_2\n"
     ]
    }
   ],
   "source": [
    "class ClsA:\n",
    "    pass\n",
    "\n",
    "# 类变量\n",
    "ClsA.a = 20\n",
    "\n",
    "print(ClsA.a)\n",
    "\n",
    "# 绑定实例变量\n",
    "obj_a = ClsA()\n",
    "obj_a.m_a = 30\n",
    "print(obj_a.m_a)\n",
    "\n",
    "# 绑定静态函数\n",
    "def show_1():\n",
    "    print('show_1')\n",
    "ClsA.func_1 = show_1\n",
    "\n",
    "ClsA.func_1()\n",
    "# obj_a.func_1()\n",
    "\n",
    "\n",
    "# 绑定类函数\n",
    "@classmethod\n",
    "def show_2(self):\n",
    "    print('show_2')\n",
    "\n",
    "ClsA.func_2 = show_2\n",
    "obj_a.func_2()\n",
    "ClsA.func_2()"
   ]
  },
  {
   "cell_type": "markdown",
   "metadata": {},
   "source": [
    "#### 成员变量与函数绑定"
   ]
  },
  {
   "cell_type": "code",
   "execution_count": 37,
   "metadata": {},
   "outputs": [
    {
     "name": "stdout",
     "output_type": "stream",
     "text": [
      "30\n",
      "show_1 30\n"
     ]
    }
   ],
   "source": [
    "class ClsA:\n",
    "    pass\n",
    "\n",
    "# 绑定实例变量\n",
    "obj_a = ClsA()\n",
    "obj_a.m_a = 30\n",
    "print(obj_a.m_a)\n",
    "\n",
    "# 绑定静态函数\n",
    "def show_1(self):\n",
    "    print('show_1',self.m_a)\n",
    "    \n",
    "ClsA.func_1 = show_1     # 不能绑定对象（因为代码都在类中，不在函数中）\n",
    "obj_a.func_1()"
   ]
  },
  {
   "cell_type": "markdown",
   "metadata": {},
   "source": [
    "#### 使用`__slots__`限定属性绑定\n",
    "\n",
    "- `__slots__`用来限定属性绑定，无法限定函数的绑定，函数绑定在类代码空间的，不在对象中"
   ]
  },
  {
   "cell_type": "code",
   "execution_count": 38,
   "metadata": {},
   "outputs": [
    {
     "name": "stdout",
     "output_type": "stream",
     "text": [
      "30\n",
      "show_1 30\n"
     ]
    }
   ],
   "source": [
    "class ClsA:\n",
    "    __slots__ = ['m_a','func_2']      # 你绑定其他属性试试？\n",
    "\n",
    "# 绑定实例变量\n",
    "obj_a = ClsA()\n",
    "obj_a.m_a = 30\n",
    "print(obj_a.m_a)\n",
    "\n",
    "# 绑定静态函数\n",
    "def show_1(self):\n",
    "    print('show_1',self.m_a)\n",
    "    \n",
    "ClsA.func_1 = show_1     # 不能绑定对象（因为代码都在类中，不在函数中）\n",
    "obj_a.func_1()"
   ]
  },
  {
   "cell_type": "markdown",
   "metadata": {},
   "source": [
    "### 可调用对象\n",
    "\n",
    "- Python提供了一个语法机制，可以把对象当函数调用，这种语法现象在很多框架中大量存在。因为Python万事万物皆对象，所以可调用对象有很多；\n",
    "    - 函数（内置函数，标准库函数，用户定义函数，lambda表达式）\n",
    "    - 生成器（本质也是函数）\n",
    "    - 类下面的语句\n",
    "\n",
    "- 我们指的可调用对象是指类的实例可以像函数一样调用。\n",
    "    - 可调用对象的类中必须实现`__call__`，参数根据调用的数据来确定。\n",
    "    \n",
    "- 下面是例子"
   ]
  },
  {
   "cell_type": "code",
   "execution_count": 39,
   "metadata": {},
   "outputs": [
    {
     "name": "stdout",
     "output_type": "stream",
     "text": [
      "对象被当成函数调用： Hello\n"
     ]
    }
   ],
   "source": [
    "class CallableCls:\n",
    "    def __call__(self, p1):\n",
    "        print('对象被当成函数调用：', p1)\n",
    "        \n",
    "\n",
    "obj_a = CallableCls()\n",
    "obj_a('Hello')"
   ]
  },
  {
   "cell_type": "markdown",
   "metadata": {},
   "source": [
    "### 类文档注释\n",
    "\n",
    "- 在类下面的第一个字符串被当成文档注释处理，关于注释参考我们前面的知识讲解。"
   ]
  },
  {
   "cell_type": "code",
   "execution_count": 40,
   "metadata": {},
   "outputs": [
    {
     "name": "stdout",
     "output_type": "stream",
     "text": [
      "Help on class ClsA in module __main__:\n",
      "\n",
      "class ClsA(builtins.object)\n",
      " |  类注释文档，就是帮助咯。\n",
      " |  \n",
      " |  Data descriptors defined here:\n",
      " |  \n",
      " |  __dict__\n",
      " |      dictionary for instance variables (if defined)\n",
      " |  \n",
      " |  __weakref__\n",
      " |      list of weak references to the object (if defined)\n",
      "\n"
     ]
    }
   ],
   "source": [
    "class ClsA:\n",
    "    \"\"\"\n",
    "    类注释文档，就是帮助咯。\n",
    "    \"\"\"\n",
    "    \n",
    "help(ClsA)"
   ]
  },
  {
   "cell_type": "markdown",
   "metadata": {},
   "source": [
    "## 继承\n",
    "\n",
    "- 继承这个词准确的描述是扩展，在已经实现的类型基础上，扩展新的数据与功能函数。\n",
    "    - 被扩展的类称为父类\n",
    "    - 扩展的新类称为子类（有的也称诱导类）\n",
    "- Python的类的语法中提供扩展接口：\n",
    "    - `   class  类型(被扩展的类, .......):  `\n",
    "    \n",
    "- 继承最大的好处，可以在别人基础上轻松实现强大的功能\n",
    "    \n",
    "- 在继承中需要明确新增加的内容与原来的内容之间的冲突问题。\n",
    "    - 如果扩展的成员变量冲突怎么办？\n",
    "    - 如果扩展的成员函数冲突怎么办？\n",
    "    - 类变量，类函数，静态函数能否冲突？"
   ]
  },
  {
   "cell_type": "markdown",
   "metadata": {},
   "source": [
    "###  单重继承与多重继承\n",
    "\n",
    "- 实际上在Python中存在一个默认继承，就是所有类都默认继承object类。"
   ]
  },
  {
   "cell_type": "markdown",
   "metadata": {},
   "source": [
    " #### 继承的优点"
   ]
  },
  {
   "cell_type": "markdown",
   "metadata": {},
   "source": [
    "```python\n",
    "\n",
    "    from PyQt5.QtWidgets import *\n",
    "\n",
    "    # 继承窗体，我们就可以为继承的类添加新的功能\n",
    "    class MyWidget(QWidget):\n",
    "        pass\n",
    "\n",
    "\n",
    "    app = QApplication([])\n",
    "\n",
    "    widget = MyWidget()\n",
    "    widget.show()\n",
    "\n",
    "    app.exec()\n",
    "\n",
    "```"
   ]
  },
  {
   "cell_type": "markdown",
   "metadata": {},
   "source": [
    "#### 扩展数据"
   ]
  },
  {
   "cell_type": "markdown",
   "metadata": {},
   "source": [
    "- 扩展数据解决如下几个问题：\n",
    "    - 命名冲突问题;\n",
    "    - 子类对象化的时候，父类的构造器怎么得到调用（父类数据也需要初始化）；\n",
    "    - 子类对象调用的冲突成员变量的时候，怎么区分？\n",
    "    \n",
    "- 下面使用例子代码说明："
   ]
  },
  {
   "cell_type": "markdown",
   "metadata": {},
   "source": [
    "#### 继承中构造器的问题\n",
    "\n",
    "- 子类对象化，如果没有构造器器，可以调用父类构造器。\n",
    "- 子类对象化，如果子类存在构造器，不会自动调用父类构造器，必须显式调用父类构造器：\n",
    "    - 一般建议在子类构造器中调用；\n",
    "    - 调用语法：\n",
    "        - 直接调用父类构造器函数：`父类.__init__(self, 参数......)`(不推荐：耦合性太强，直接引用)\n",
    "        - 使用super函数：\n",
    "            - 老式调用： `super(父类或者子类, self).__init_(参数......)`（推荐：耦合性地低，间接引用）\n",
    "            \n",
    "            - 新式调用：`super(父类或者子类, self).__init_(参数......)`（推荐：耦合性地低，间接引用）"
   ]
  },
  {
   "cell_type": "markdown",
   "metadata": {},
   "source": [
    "1.  使用父类构造器初始化"
   ]
  },
  {
   "cell_type": "code",
   "execution_count": 41,
   "metadata": {},
   "outputs": [
    {
     "name": "stdout",
     "output_type": "stream",
     "text": [
      "父类初始化\n"
     ]
    }
   ],
   "source": [
    "\n",
    "class SuperCls:\n",
    "    def __init__(self, p_data):\n",
    "        print('父类初始化')\n",
    "        self.m_a = p_data\n",
    "\n",
    "\n",
    "class SubCls(SuperCls):\n",
    "    def show(self):\n",
    "        print(self.m_a)\n",
    "    \n",
    "        \n",
    "obj_sub = SubCls(888)\n"
   ]
  },
  {
   "cell_type": "markdown",
   "metadata": {},
   "source": [
    "2. 使用子类构造器初始化父类数据"
   ]
  },
  {
   "cell_type": "code",
   "execution_count": 42,
   "metadata": {},
   "outputs": [
    {
     "name": "stdout",
     "output_type": "stream",
     "text": [
      "父类初始化\n",
      "父类初始化\n",
      "父类初始化\n",
      "子类初始化\n"
     ]
    }
   ],
   "source": [
    "# 子类对象怎么初始化父类中成员变量？\n",
    "class SuperCls:\n",
    "    def __init__(self):\n",
    "        print('父类初始化')\n",
    "        self.m_a = 10\n",
    "\n",
    "\n",
    "class SubCls(SuperCls):\n",
    "    def __init__(self):\n",
    "        SuperCls.__init__(self)              # 方式一：（耦合性太高，父类改名，这个也要修改）\n",
    "        super(SubCls, self).__init__()    #方式二：如果有参数带参数（Python2）\n",
    "        super().__init__()                    #  方式三：这三种方式只需要一个即可（Python3）\n",
    "        print('子类初始化')\n",
    "        self.m_a = 20\n",
    "    \n",
    "        \n",
    "obj_sub = SubCls()\n",
    "\n"
   ]
  },
  {
   "cell_type": "markdown",
   "metadata": {},
   "source": [
    "#### super类\n",
    "\n",
    "- super类本质是一个代理，用于创建一个对象去调用父类的方法，其工作机制是通过python描述符工作，通过mro来查找父类的 其帮助如下：\n",
    "\n",
    "```python\n",
    "class super(object)\n",
    "     |  super() -> same as super(__class__, <first argument>)\n",
    "     |  super(type) -> unbound super object\n",
    "     |  super(type, obj) -> bound super object; requires isinstance(obj, type)\n",
    "     |  super(type, type2) -> bound super object; requires issubclass(type2, type)\n",
    "```\n",
    "\n",
    "- 因为我们这里还没有掌握mro与Python描述符的概念，所以不做深入的分析，能掌握应用方式即可。"
   ]
  },
  {
   "cell_type": "markdown",
   "metadata": {},
   "source": [
    "#### super与实例\n",
    "\n",
    "1.  super()不是对象实例，实际上属性访问的代理，通过属性描述符访问。\n",
    "    \n",
    "    - Python中属性的访问是通过对象字典`__dict__`来查找，对象的字典`__dict__`与类型的字典是有区别的。\n",
    "        - 对象字典存放实例的属性与方法；\n",
    "        - 类型字典存放类的属性与方法；\n",
    "        \n",
    "\n",
    "\n",
    "- 下面是一个例子代码："
   ]
  },
  {
   "cell_type": "code",
   "execution_count": 43,
   "metadata": {},
   "outputs": [
    {
     "name": "stdout",
     "output_type": "stream",
     "text": [
      "{'m_a': 20}\n",
      "{'__module__': '__main__', 'cls_a': 10, '__init__': <function ClsA.__init__ at 0x107c50ea0>, 'propa': <property object at 0x107c2a3b8>, 'show': <function ClsA.show at 0x107c500d0>, 'display': <classmethod object at 0x107c6bf60>, 'print': <staticmethod object at 0x107c6b2e8>, '__dict__': <attribute '__dict__' of 'ClsA' objects>, '__weakref__': <attribute '__weakref__' of 'ClsA' objects>, '__doc__': None}\n"
     ]
    }
   ],
   "source": [
    "class ClsA:\n",
    "    cls_a = 10\n",
    "    def __init__(self):\n",
    "        self.m_a = 20\n",
    "        \n",
    "    @property\n",
    "    def propa(self):\n",
    "        return self.m_a\n",
    "    \n",
    "    @propa.setter\n",
    "    def propa(self, value):\n",
    "        self.m_a = value\n",
    "    \n",
    "    @propa.deleter\n",
    "    def propa(self):\n",
    "        del self.m_a\n",
    "        \n",
    "    def show(self):\n",
    "        print(\"member method\")\n",
    "        \n",
    "    @classmethod\n",
    "    def display(self):\n",
    "        print('class method')\n",
    "    \n",
    "    @staticmethod\n",
    "    def print():\n",
    "        print('static method')\n",
    "\n",
    "obj_a = ClsA()\n",
    "print(obj_a.__dict__)\n",
    "print(ClsA.__dict__)"
   ]
  },
  {
   "cell_type": "markdown",
   "metadata": {},
   "source": [
    "2. 属性的访问过程\n",
    "    - 首先方法对象的字典\n",
    "    - 类型的字典\n",
    "    - 类型父类的字典（元类除外）"
   ]
  },
  {
   "cell_type": "code",
   "execution_count": 44,
   "metadata": {},
   "outputs": [
    {
     "name": "stdout",
     "output_type": "stream",
     "text": [
      "20\n",
      "member method\n",
      "class method\n",
      "static method\n"
     ]
    }
   ],
   "source": [
    "print(obj_a.m_a)   # 直接从对象字典访问\n",
    "obj_a.show()        # 先从对象字典，然后从类型字典访问\n",
    "obj_a.display()     # 先从对象字典，然后从类型字典访问\n",
    "\n",
    "ClsA.print()          # 直接从类型字典访问"
   ]
  },
  {
   "cell_type": "markdown",
   "metadata": {},
   "source": [
    "3. 使用字典访问属性\n",
    "    - 其中存在三个Python类型：\n",
    "        - function  ： 动态生成，不能使用help(function)查看帮助。\n",
    "        - staticmethod：查看帮助help(staticmethod)\n",
    "        - classmethod：查看帮助help(classmethod)\n",
    "   - 上述三个类型有一个共同的函数，可以得到对象的实例。\n",
    "       -  `__get__(self, instance, owner, /)`\n",
    "           - instance : 实例：可以是类型的实例-对象，也可以是元类的实例-类型。\n",
    "           \n",
    "\n",
    "\n",
    "- **说明**：\n",
    "    - 关于更多的类的内部访问与实现机制，这里不深入讲述，在类的高级编程技巧中会详细描述；"
   ]
  },
  {
   "cell_type": "code",
   "execution_count": 45,
   "metadata": {},
   "outputs": [
    {
     "name": "stdout",
     "output_type": "stream",
     "text": [
      "20\n",
      "10\n",
      "member method\n",
      "member method\n",
      "member method\n",
      "<classmethod object at 0x107c6bf60>\n",
      "class method\n",
      "class method\n",
      "<staticmethod object at 0x107c6b2e8>\n",
      "static method\n",
      "属性--------\n",
      "<property object at 0x107c2a3b8>\n",
      "20 <class 'int'>\n",
      "88\n"
     ]
    }
   ],
   "source": [
    "print(obj_a.__dict__['m_a'])     # 对象字典\n",
    "print(ClsA.__dict__['cls_a'])        # 类型字典\n",
    "\n",
    "# 成员函数\n",
    "# help(type(ClsA.__dict__['show']))\n",
    "ClsA.__dict__['show'](obj_a)\n",
    "ClsA.__dict__['show'].__call__(obj_a)\n",
    "\n",
    "ClsA.__dict__['show'].__get__(obj_a)  # 得到函数\n",
    "ClsA.__dict__['show'].__get__(obj_a)()\n",
    "\n",
    "# 类函数\n",
    "print(ClsA.__dict__['display'])\n",
    "# ClsA.__dict__['display'](ClsA)\n",
    "ClsA.__dict__['display'].__get__(ClsA,ClsA)  # 得到函数\n",
    "ClsA.__dict__['display'].__get__(ClsA,ClsA)()\n",
    "ClsA.__dict__['display'].__get__(obj_a,ClsA)  # 得到函数\n",
    "ClsA.__dict__['display'].__get__(obj_a,ClsA)()\n",
    "\n",
    "# 静态函数\n",
    "print(ClsA.__dict__['print'])\n",
    "ClsA.__dict__['print'].__get__(ClsA,ClsA)  # 得到函数\n",
    "ClsA.__dict__['print'].__get__(ClsA,ClsA)()\n",
    "\n",
    "print('属性--------')\n",
    "print(ClsA.__dict__['propa'])\n",
    "p = ClsA.__dict__['propa'].__get__(obj_a,ClsA)\n",
    "print(p, type(p))\n",
    "ClsA.__dict__['propa'].__set__(obj_a,88)\n",
    "print(obj_a.propa)\n",
    "# 删除\n",
    "ClsA.__dict__['propa'].__delete__(obj_a)"
   ]
  },
  {
   "cell_type": "markdown",
   "metadata": {},
   "source": [
    "#### 扩展功能\n",
    "\n",
    "    \n",
    "- 扩展功能应该解决几个问题：\n",
    "    - 新的函数命名相同的问题\n",
    "        - 同一个类不允许命名冲突，但父子类中函数名可以相同。\n",
    "    - 子类访问父类中成员变量的语法\n",
    "        - 父类与子类成员变量不冲突，直接访问即可；\n",
    "        - 父类与子类成员变量冲突，直接访问，子类优先；\n",
    "        - 父类与子类成员变量冲突，想访问父类成员变量，使用super关键字。\n",
    "        \n",
    "- 下面使用例子代码来说明："
   ]
  },
  {
   "cell_type": "code",
   "execution_count": 46,
   "metadata": {},
   "outputs": [
    {
     "name": "stdout",
     "output_type": "stream",
     "text": [
      "super_init\n",
      "sub_init\n",
      "['__class__', '__delattr__', '__dict__', '__dir__', '__doc__', '__eq__', '__format__', '__ge__', '__getattribute__', '__gt__', '__hash__', '__init__', '__init_subclass__', '__le__', '__lt__', '__module__', '__ne__', '__new__', '__reduce__', '__reduce_ex__', '__repr__', '__setattr__', '__sizeof__', '__str__', '__subclasshook__', '__weakref__', 'show']\n",
      "20\n",
      "Sub\n",
      "Super\n"
     ]
    }
   ],
   "source": [
    "class SuperCls:\n",
    "    def __init__(self):\n",
    "        print('super_init')\n",
    "        self.m_a = 10\n",
    "\n",
    "    def show(self):\n",
    "        print('Super')\n",
    "\n",
    "\n",
    "class SubCls(SuperCls):\n",
    "    def __init__(self):\n",
    "        super().__init__()\n",
    "        print('sub_init')\n",
    "        self.m_a = 20\n",
    "    \n",
    "    def show(self):\n",
    "        print('Sub')\n",
    "    \n",
    "    def call_super(self):\n",
    "#         print(super(SuperCls, self).m_a)\n",
    "        print(dir(SuperCls))\n",
    "        print(self.m_a)\n",
    "        self.show()\n",
    "        super().show()\n",
    "\n",
    "\n",
    "obj_sub = SubCls()\n",
    "obj_sub.call_super()"
   ]
  },
  {
   "cell_type": "markdown",
   "metadata": {},
   "source": [
    "### 多重继承\n",
    "#### 多重继承的问题\n",
    "    - 下面例子说明多重继承的问题，实际多重的继承的目的是解决功能扩展，不是数据扩展。\n",
    "    - 而且多重继承还要遵循一定的编程模式。\n",
    "    \n",
    "    \n",
    "\n",
    "- 下面是一个实际应用场景中的多重继承产生的问题例子："
   ]
  },
  {
   "cell_type": "code",
   "execution_count": 47,
   "metadata": {
    "scrolled": true
   },
   "outputs": [
    {
     "ename": "AttributeError",
     "evalue": "'MyWidget' object has no attribute 'start'",
     "output_type": "error",
     "traceback": [
      "\u001b[0;31m---------------------------------------------------------------------------\u001b[0m",
      "\u001b[0;31mAttributeError\u001b[0m                            Traceback (most recent call last)",
      "\u001b[0;32m<ipython-input-47-b4d080aef042>\u001b[0m in \u001b[0;36m<module>\u001b[0;34m()\u001b[0m\n\u001b[1;32m     20\u001b[0m \u001b[0;34m\u001b[0m\u001b[0m\n\u001b[1;32m     21\u001b[0m \u001b[0mapp\u001b[0m \u001b[0;34m=\u001b[0m \u001b[0mQApplication\u001b[0m\u001b[0;34m(\u001b[0m\u001b[0;34m[\u001b[0m\u001b[0;34m]\u001b[0m\u001b[0;34m)\u001b[0m\u001b[0;34m\u001b[0m\u001b[0m\n\u001b[0;32m---> 22\u001b[0;31m \u001b[0mwidget\u001b[0m \u001b[0;34m=\u001b[0m \u001b[0mMyWidget\u001b[0m\u001b[0;34m(\u001b[0m\u001b[0;34m)\u001b[0m\u001b[0;34m\u001b[0m\u001b[0m\n\u001b[0m\u001b[1;32m     23\u001b[0m \u001b[0;34m\u001b[0m\u001b[0m\n\u001b[1;32m     24\u001b[0m \u001b[0mapp\u001b[0m\u001b[0;34m.\u001b[0m\u001b[0mexec\u001b[0m\u001b[0;34m(\u001b[0m\u001b[0;34m)\u001b[0m\u001b[0;34m\u001b[0m\u001b[0m\n",
      "\u001b[0;32m<ipython-input-47-b4d080aef042>\u001b[0m in \u001b[0;36m__init__\u001b[0;34m(self, parent)\u001b[0m\n\u001b[1;32m      9\u001b[0m         \u001b[0msuper\u001b[0m\u001b[0;34m(\u001b[0m\u001b[0mMyWidget\u001b[0m\u001b[0;34m,\u001b[0m \u001b[0mself\u001b[0m\u001b[0;34m)\u001b[0m\u001b[0;34m.\u001b[0m\u001b[0m__init__\u001b[0m\u001b[0;34m(\u001b[0m\u001b[0mparent\u001b[0m\u001b[0;34m=\u001b[0m\u001b[0mparent\u001b[0m\u001b[0;34m)\u001b[0m\u001b[0;34m\u001b[0m\u001b[0m\n\u001b[1;32m     10\u001b[0m         \u001b[0msuper\u001b[0m\u001b[0;34m(\u001b[0m\u001b[0mMyWidget\u001b[0m\u001b[0;34m,\u001b[0m \u001b[0mself\u001b[0m\u001b[0;34m)\u001b[0m\u001b[0;34m.\u001b[0m\u001b[0m__init__\u001b[0m\u001b[0;34m(\u001b[0m\u001b[0mparent\u001b[0m\u001b[0;34m=\u001b[0m\u001b[0mparent\u001b[0m\u001b[0;34m)\u001b[0m\u001b[0;34m\u001b[0m\u001b[0m\n\u001b[0;32m---> 11\u001b[0;31m         \u001b[0mself\u001b[0m\u001b[0;34m.\u001b[0m\u001b[0mstart\u001b[0m\u001b[0;34m(\u001b[0m\u001b[0;34m)\u001b[0m\u001b[0;34m\u001b[0m\u001b[0m\n\u001b[0m\u001b[1;32m     12\u001b[0m         \u001b[0mself\u001b[0m\u001b[0;34m.\u001b[0m\u001b[0mshow\u001b[0m\u001b[0;34m(\u001b[0m\u001b[0;34m)\u001b[0m\u001b[0;34m\u001b[0m\u001b[0m\n\u001b[1;32m     13\u001b[0m \u001b[0;34m\u001b[0m\u001b[0m\n",
      "\u001b[0;31mAttributeError\u001b[0m: 'MyWidget' object has no attribute 'start'"
     ]
    }
   ],
   "source": [
    "from PyQt5.QtWidgets import *\n",
    "from PyQt5.QtCore import *\n",
    "\n",
    "\n",
    "class MyWidget(QWidget, QThread):\n",
    "    idx = 0\n",
    "\n",
    "    def __init__(self, parent=None):\n",
    "        super(MyWidget, self).__init__(parent=parent)\n",
    "        super(MyWidget, self).__init__(parent=parent)\n",
    "        self.start()\n",
    "        self.show()\n",
    "\n",
    "    def run(self):\n",
    "        while True:\n",
    "            self.setWindowTitle(F'{MyWidget.idx:08d}')\n",
    "            MyWidget.idx += 1\n",
    "            QThread.msleep(100)\n",
    "\n",
    "\n",
    "app = QApplication([])\n",
    "widget = MyWidget()\n",
    "\n",
    "app.exec()\n"
   ]
  },
  {
   "cell_type": "markdown",
   "metadata": {},
   "source": [
    "- 下面例子使用典型的钻石结构来说明多重继承中的问题与编程注意的问题。\n",
    "    - 数据扩展\n",
    "    - 功能扩展\n",
    "    \n",
    "- 下面是后面例子中使用的继承结构：\n",
    "    \n",
    "```\n",
    "        A\n",
    "      /  \\\n",
    "     /    \\\n",
    "    B     C\n",
    "    \\      /\n",
    "      \\   /\n",
    "        D\n",
    "```\n"
   ]
  },
  {
   "cell_type": "markdown",
   "metadata": {},
   "source": [
    "#### 多重继承中的构造器调用\n",
    "\n",
    "1. 多重继承中的构造器属于方法，Python采用方法解析顺序管理，每个类中提供一个__mro__来管理，使用super代理，super代理就按照MRO管理顺序调用。"
   ]
  },
  {
   "cell_type": "code",
   "execution_count": 21,
   "metadata": {},
   "outputs": [
    {
     "name": "stdout",
     "output_type": "stream",
     "text": [
      "A\n",
      "C\n",
      "B\n",
      "D\n",
      "10,20,30,40\n",
      "(<class '__main__.D'>, <class '__main__.B'>, <class '__main__.C'>, <class '__main__.A'>, <class 'object'>)\n",
      "(<class '__main__.C'>, <class '__main__.A'>, <class 'object'>)\n"
     ]
    }
   ],
   "source": [
    "class  A:\n",
    "    def __init__(self):\n",
    "        self.m_a = 10\n",
    "        print('A')\n",
    "\n",
    "class B(A):\n",
    "    def __init__(self):\n",
    "        super().__init__()\n",
    "        self.m_b = 20\n",
    "        print('B')\n",
    "\n",
    "class C(A):\n",
    "    def __init__(self):\n",
    "        super().__init__()\n",
    "        self.m_c = 30\n",
    "        print('C')\n",
    "\n",
    "class D(B,C):\n",
    "    def __init__(self):\n",
    "        super().__init__()\n",
    "        self.m_d = 40\n",
    "        print('D')\n",
    "\n",
    "obj_d = D()\n",
    "print(obj_d.m_a,obj_d.m_b,obj_d.m_c,obj_d.m_d,sep=',')\n"
   ]
  },
  {
   "cell_type": "markdown",
   "metadata": {},
   "source": [
    "2. 使用传统方式处理多重继承中的构造器调用\n",
    "\n",
    "\n",
    "- 传统构造器的调用，会导致父类构造器重复调用，但是可能更加直观。"
   ]
  },
  {
   "cell_type": "code",
   "execution_count": 22,
   "metadata": {},
   "outputs": [
    {
     "name": "stdout",
     "output_type": "stream",
     "text": [
      "A\n",
      "B\n",
      "A\n",
      "C\n",
      "D\n",
      "10,20,30,40\n"
     ]
    }
   ],
   "source": [
    "class  A:\n",
    "    def __init__(self):\n",
    "        self.m_a = 10\n",
    "        print('A')\n",
    "\n",
    "class B(A):\n",
    "    def __init__(self):\n",
    "        A.__init__(self)\n",
    "        self.m_b = 20\n",
    "        print('B')\n",
    "\n",
    "class C(A):\n",
    "    def __init__(self):\n",
    "        A.__init__(self)\n",
    "        self.m_c = 30\n",
    "        print('C')\n",
    "\n",
    "class D(B,C):\n",
    "    def __init__(self):\n",
    "        B.__init__(self)\n",
    "        C.__init__(self)\n",
    "        self.m_d = 40\n",
    "        print('D')\n",
    "\n",
    "obj_d = D()\n",
    "print(obj_d.m_a,obj_d.m_b,obj_d.m_c,obj_d.m_d,sep=',')"
   ]
  },
  {
   "cell_type": "markdown",
   "metadata": {},
   "source": [
    "#### 多重继承中数据扩展的冲突\n",
    "\n",
    "- 因为多重继承，两个父类中方法、属性、成员变量可能会产生冲突；在语法上，这种冲突是允许的，所以我们在编程中需要注意，形成自己的编程技巧。\n",
    "\n",
    "- 成员变量冲突的编程在新老调用方式上的注意事项："
   ]
  },
  {
   "cell_type": "markdown",
   "metadata": {},
   "source": [
    "1. 老式调用方式，覆盖方式由调用顺序决定。"
   ]
  },
  {
   "cell_type": "code",
   "execution_count": 25,
   "metadata": {},
   "outputs": [
    {
     "name": "stdout",
     "output_type": "stream",
     "text": [
      "A\n",
      "C\n",
      "A\n",
      "B\n",
      "D\n",
      "20\n"
     ]
    }
   ],
   "source": [
    "class  A:\n",
    "    def __init__(self):\n",
    "        self.m_a = 10\n",
    "        print('A')\n",
    "\n",
    "class B(A):\n",
    "    def __init__(self):\n",
    "        A.__init__(self)\n",
    "        self.m_a = 20\n",
    "        print('B')\n",
    "\n",
    "class C(A):\n",
    "    def __init__(self):\n",
    "        A.__init__(self)\n",
    "        self.m_a = 30\n",
    "        print('C')\n",
    "\n",
    "class D(B,C):\n",
    "    def __init__(self):\n",
    "        C.__init__(self)\n",
    "        B.__init__(self)\n",
    "        \n",
    "        # self.m_a = 40\n",
    "        print('D')\n",
    "\n",
    "obj_d = D()\n",
    "print(obj_d.m_a)"
   ]
  },
  {
   "cell_type": "markdown",
   "metadata": {},
   "source": [
    "2. 新式的覆盖由继承的顺序决定；继承顺序是从后往前。"
   ]
  },
  {
   "cell_type": "code",
   "execution_count": 28,
   "metadata": {},
   "outputs": [
    {
     "name": "stdout",
     "output_type": "stream",
     "text": [
      "A\n",
      "B\n",
      "C\n",
      "D\n",
      "30\n"
     ]
    }
   ],
   "source": [
    "class  A:\n",
    "    def __init__(self):\n",
    "        self.m_a = 10\n",
    "        print('A')\n",
    "\n",
    "class B(A):\n",
    "    def __init__(self):\n",
    "        super().__init__()\n",
    "        self.m_a = 20\n",
    "        print('B')\n",
    "\n",
    "class C(A):\n",
    "    def __init__(self):\n",
    "        super().__init__()\n",
    "        self.m_a = 30\n",
    "        print('C')\n",
    "\n",
    "class D(C,B):      # 继承的先后，继承顺序是从后往前\n",
    "    def __init__(self):\n",
    "        super().__init__()\n",
    "        self.m_a = 40\n",
    "        print('D')\n",
    "\n",
    "obj_d = D()\n",
    "print(obj_d.m_a)"
   ]
  },
  {
   "cell_type": "markdown",
   "metadata": {},
   "source": [
    "- 这种语法机制本身还是存在漏洞的，如果扩展函数的时候，容易产生不一致的情况。B中的函数可能调用C中的成员变量。\n",
    "- 下面我们来看看函数扩展的问题"
   ]
  },
  {
   "cell_type": "markdown",
   "metadata": {},
   "source": [
    "#### 多重继承中的功能扩展"
   ]
  },
  {
   "cell_type": "code",
   "execution_count": 32,
   "metadata": {},
   "outputs": [
    {
     "name": "stdout",
     "output_type": "stream",
     "text": [
      "A的方法： 40\n"
     ]
    }
   ],
   "source": [
    "class  A:\n",
    "    def __init__(self):\n",
    "        self.m_a = 10\n",
    "\n",
    "    def show(self):\n",
    "        print('A的方法：',self.m_a)\n",
    "\n",
    "class B(A):\n",
    "    def __init__(self):\n",
    "        super().__init__()\n",
    "        self.m_a = 20\n",
    "\n",
    "#     def show(self):\n",
    "#         print(self.m_a)\n",
    "\n",
    "class C(A):\n",
    "    def __init__(self):\n",
    "        super().__init__()\n",
    "        self.m_a = 30\n",
    "\n",
    "#     def show(self):\n",
    "#         print(self.m_a)\n",
    "\n",
    "class D(C,B):      # 继承的先后，继承顺序是从后往前\n",
    "    def __init__(self):\n",
    "        super().__init__()\n",
    "        self.m_a = 40\n",
    "#     def show(self):\n",
    "#         print(self.m_a)\n",
    "\n",
    "obj_d = D()\n",
    "obj_d.show()\n"
   ]
  },
  {
   "cell_type": "markdown",
   "metadata": {},
   "source": [
    "- 调用是A中定义的成员方法，实际上该方法使用的是D类的数据，因为这种多重继承中的覆盖，导致数据一些数据环境产生改变，从而导致运行问题。\n",
    "\n",
    "- 该怎么使用多重继承？一般根据经验，建议主要数据按照主线继承，需要扩展的方法，采用多重继承来实现，而且方法中使用的数据尽量不要冲突覆盖，这种编程模式称为继承组合模式【Mixin】（区别于依赖、聚合与组合关系）。"
   ]
  },
  {
   "cell_type": "markdown",
   "metadata": {},
   "source": [
    "### 类型与成员测定\n",
    "\n",
    "- Python提供了两个函数来对对象进行常见的测定：\n",
    "    - 获取类型\n",
    "        - type\n",
    "    - 实例的类型判定\n",
    "        - isinstance    "
   ]
  },
  {
   "cell_type": "markdown",
   "metadata": {},
   "source": [
    "#### type类型\n",
    "\n",
    "- type说明\n",
    "\n",
    "```python\n",
    "class type(object)\n",
    "     |  type(object_or_name, bases, dict)\n",
    "     |  type(object) -> the object's type\n",
    "     |  type(name, bases, dict) -> a new type\n",
    "```\n",
    "\n",
    "- 使用type创建类型在下面介绍，但是使用type可以返回对象的类型，该类型还可以继续创建对象。这是Python万事万物皆对象的理念，类型也是对象，类型的类型就是type，这是元类的概念。\n"
   ]
  },
  {
   "cell_type": "code",
   "execution_count": 35,
   "metadata": {},
   "outputs": [
    {
     "name": "stdout",
     "output_type": "stream",
     "text": [
      "255\n",
      "<class 'int'>\n",
      "15\n"
     ]
    }
   ],
   "source": [
    "a = int('FF', 16)\n",
    "print(a)\n",
    "cls = type(a)\n",
    "print(cls)\n",
    "\n",
    "b = cls('0X0F', 0)\n",
    "print(b)"
   ]
  },
  {
   "cell_type": "markdown",
   "metadata": {},
   "source": [
    "#### isinstance运算符\n",
    "\n",
    "- isinstance函数定义\n",
    "\n",
    "```\n",
    "isinstance(obj, class_or_tuple, /)\n",
    "    Return whether an object is an instance of a class or of a subclass thereof.\n",
    "```\n",
    "\n",
    "- 参数说明:\n",
    "    - obj：一个实例对象\n",
    "    - class_or_tuple：类型或者类型元组"
   ]
  },
  {
   "cell_type": "code",
   "execution_count": 38,
   "metadata": {},
   "outputs": [
    {
     "name": "stdout",
     "output_type": "stream",
     "text": [
      "False\n",
      "True\n"
     ]
    }
   ],
   "source": [
    "class  A:\n",
    "    pass\n",
    "\n",
    "class B(A):\n",
    "    pass\n",
    "\n",
    "class C(A):\n",
    "    pass\n",
    "\n",
    "class D(C,B): \n",
    "    pass\n",
    "\n",
    "obj_d = B()\n",
    "bl = isinstance(obj_d, (C, D))\n",
    "print(bl)\n",
    "bl = isinstance(obj_d, (A, B, C, D))\n",
    "print(bl)"
   ]
  },
  {
   "cell_type": "markdown",
   "metadata": {},
   "source": [
    "### 类接口与抽象类\n",
    "\n",
    "- 在很多语言中，有一种特殊的继承：接口，接口是为了降低类之间耦合度而提出的语法设计。但是在Python这种弱类型语言，接口的语法在Python中基本上没有意义。\n",
    "\n",
    "- 但是接口还具有另外一个应用需求：规范调用的方法\n",
    "    - 强制子类覆盖父类的方法，从而强制要求子类遵循父类定义的规范。\n",
    "\n",
    "- 抽象类：\n",
    "    - 定义方法规范的类称为接口或者抽象类，在Python中称呼抽象类会更加规范。因为接口与抽象类的在传统意义上还有有一些区别，接口是纯方法规范，抽象类一般是传统实现方法与规范接口方法混合。因为Python语法的特点，纯粹的接口规范类不存在。\n",
    "   \n",
    "- 抽象类的定义\n",
    "    - 抽象类的接口方法定义使用abc模块中的abstractmethod函数装饰器;\n",
    "    - 同时需要指定元类为abc.ABCMeta\n",
    "    \n",
    "```\n",
    "abstractmethod(funcobj)\n",
    "    A decorator indicating abstract methods.\n",
    "```"
   ]
  },
  {
   "cell_type": "code",
   "execution_count": 77,
   "metadata": {},
   "outputs": [
    {
     "ename": "IndentationError",
     "evalue": "expected an indented block (<ipython-input-77-5cd5007a98d3>, line 14)",
     "output_type": "error",
     "traceback": [
      "\u001b[0;36m  File \u001b[0;32m\"<ipython-input-77-5cd5007a98d3>\"\u001b[0;36m, line \u001b[0;32m14\u001b[0m\n\u001b[0;31m    obj = ImplementionCls()\u001b[0m\n\u001b[0m      ^\u001b[0m\n\u001b[0;31mIndentationError\u001b[0m\u001b[0;31m:\u001b[0m expected an indented block\n"
     ]
    }
   ],
   "source": [
    "import abc\n",
    "\n",
    "class AbstractCls(metaclass=abc.ABCMeta):\n",
    "    @abc.abstractmethod\n",
    "    def meth(self):\n",
    "        pass\n",
    "    \n",
    "\n",
    "class  ImplementionCls(AbstractCls):\n",
    "#      def meth(self):\n",
    "#         pass\n",
    "\n",
    "# obj = AbstractCls()\n",
    "obj = ImplementionCls()"
   ]
  },
  {
   "cell_type": "markdown",
   "metadata": {},
   "source": [
    "- 如果不实现抽象方法，则子类也是抽象类，抽象类是不能实例化的。"
   ]
  },
  {
   "cell_type": "markdown",
   "metadata": {},
   "source": [
    "### 抽象超类"
   ]
  },
  {
   "cell_type": "markdown",
   "metadata": {},
   "source": [
    "## 对象的内存管理\n",
    "\n",
    "- 因为Python使用虚拟机，实现自动内存管理，开发者实际上一般情况下是不需要关心内存的管理啊的。我们这里讲的对象的内存管理主要是对象的分配与释放。实际上在编程中还有很多内存相关的细节，这里不详细描述，比如：对bit的操作。"
   ]
  },
  {
   "cell_type": "markdown",
   "metadata": {},
   "source": [
    "### \\_\\_new\\_\\_运算符\n",
    "\n",
    "- 一般我们很少重载这个运算符，但在某些场合还是会使用new运算符，更主要的是要区别`__new__`与`__init__`。\n",
    "\n",
    "    - `__new__`负责内存分配；`__new__`是静态的！\n",
    "    - `__init__`负责数据初始化；在`__new__`调用后调用！\n",
    "    \n",
    "\n",
    "- 实际上Python不提供直接的内存分配，在object中提供一个内存分配的封装，当类没有提供`__new__`运算符的时候，都会调用父类的`__new__`，父类没有重载，在会一直逆源到object的`__new__`运算符。\n",
    "\n",
    "- 但是Python封装提供了一些内存相关的操作函数，在今后的学习中会逐步涉及。\n",
    "\n",
    "- 下面是`__new__`运算符重载的例子"
   ]
  },
  {
   "cell_type": "code",
   "execution_count": 78,
   "metadata": {},
   "outputs": [
    {
     "name": "stdout",
     "output_type": "stream",
     "text": [
      "内存分配器\n",
      "构造器\n"
     ]
    }
   ],
   "source": [
    "class ClsA(object):\n",
    "    def __init__(self):\n",
    "        print('构造器')\n",
    "        \n",
    "    def __new__(cls, *args, **kwargs):\n",
    "        print('内存分配器')  #  类型\n",
    "        return object.__new__(cls, *args, **kwargs)   \n",
    "    \n",
    "\n",
    "obj_a = ClsA()\n"
   ]
  },
  {
   "cell_type": "markdown",
   "metadata": {},
   "source": [
    "### 析构器\n",
    "\n",
    "- python也提供析构机制。\n",
    "    - Python的析构也是使用运算符`__del__`。\n",
    "    - `__del__`在对象释放时自动调用（垃圾回收器自动工作），或者调用del释放；主要用来提供对象内部的一些资源释放。比如在对象释放前：关闭网络，释放成员变量等。\n",
    "    \n",
    "\n",
    "- 下面是析构器使用例子"
   ]
  },
  {
   "cell_type": "code",
   "execution_count": 79,
   "metadata": {},
   "outputs": [
    {
     "name": "stdout",
     "output_type": "stream",
     "text": [
      "释放\n"
     ]
    }
   ],
   "source": [
    "class ClsA(object):\n",
    "    def __del__(self):\n",
    "        print('释放')\n",
    "\n",
    "\n",
    "obj_a = ClsA()\n",
    "del obj_a"
   ]
  },
  {
   "cell_type": "markdown",
   "metadata": {},
   "source": [
    "### 引用计数\n",
    "\n",
    "- Python的sys模块提供一个对象被引用的次数：\n"
   ]
  },
  {
   "cell_type": "code",
   "execution_count": 80,
   "metadata": {},
   "outputs": [
    {
     "name": "stdout",
     "output_type": "stream",
     "text": [
      "2\n"
     ]
    }
   ],
   "source": [
    "import sys\n",
    "\n",
    "class  A:\n",
    "    pass\n",
    "\n",
    "obj=A()\n",
    "print(sys.getrefcount(obj))\n",
    "#计数是2。与Python解释器有关\n",
    "#如果两个对象交叉引用，则很难释放，这时候垃圾回收器开始作用。"
   ]
  },
  {
   "cell_type": "markdown",
   "metadata": {},
   "source": [
    "### 垃圾回收\n",
    "\n",
    "- Python 采用垃圾回收机制来清理不再使用的对象；Python 提供gc模块释放不再使用的对象，Python 采用‘引用计数’ 的算法方式来处理回收，即：当某个对象在其作用域内不再被其他对象引用的时候，Python 就自动清除对象；Python 的函数collect()可以一次性收集所有待处理的对象(gc.collect())\n",
    "\n",
    "- gc模块说明：\n",
    "\n",
    "```python\n",
    "\n",
    "    enable() -- Enable automatic garbage collection.\n",
    "    disable() -- Disable automatic garbage collection.\n",
    "    isenabled() -- Returns true if automatic collection is enabled.\n",
    "    collect() -- Do a full collection right now.\n",
    "    get_count() -- Return the current collection counts.\n",
    "    get_stats() -- Return list of dictionaries containing per-generation stats.\n",
    "    set_debug() -- Set debugging flags.\n",
    "    get_debug() -- Get debugging flags.\n",
    "    set_threshold() -- Set the collection thresholds.\n",
    "    get_threshold() -- Return the current the collection thresholds.\n",
    "    get_objects() -- Return a list of all objects tracked by the collector.\n",
    "    is_tracked() -- Returns true if a given object is tracked.\n",
    "    get_referrers() -- Return the list of objects that refer to an object.\n",
    "    get_referents() -- Return the list of objects that an object refers to.\n",
    "    \n",
    "```"
   ]
  },
  {
   "cell_type": "code",
   "execution_count": 81,
   "metadata": {},
   "outputs": [
    {
     "name": "stdout",
     "output_type": "stream",
     "text": [
      "(2, 1, 1)\n",
      "__init__\n",
      "2\n",
      "[]\n",
      "[]\n",
      "[]\n",
      "__del__\n",
      "[]\n"
     ]
    }
   ],
   "source": [
    "#!/usr/bin/python\n",
    "#coding=utf-8\n",
    "#垃圾回收器，gc模块\n",
    "\n",
    "import  gc,sys\n",
    "gc.enable()\n",
    "print(gc.get_threshold())   #垃圾对象分代\n",
    "gc.set_threshold(2,1,1)\n",
    "class A:\n",
    "    def __init__(self):\n",
    "        print(\"__init__\")\n",
    "    def __del__(self):\n",
    "        print(\"__del__\")\n",
    "\n",
    "a=A()\n",
    "print(sys.getrefcount(a))\n",
    "\n",
    "b=a\n",
    "c=b\n",
    "d=c\n",
    "\n",
    "del a\n",
    "gc.collect()\n",
    "print(gc.garbage)\n",
    "del b\n",
    "gc.collect()\n",
    "print(gc.garbage)\n",
    "del c\n",
    "print (gc.garbage)\n",
    "del d\n",
    "#gc.collect()\n",
    "print(gc.garbage)\n",
    "#垃圾回收主要寻找循环引用并决定释放"
   ]
  },
  {
   "cell_type": "markdown",
   "metadata": {},
   "source": [
    "## 元类与类装饰器"
   ]
  },
  {
   "cell_type": "markdown",
   "metadata": {},
   "source": [
    "###  元类类型\n",
    "\n",
    "- 前面我们介绍过使用对象来得到type实例（类），从而判定对象的类型，实际上使用type构造类型。这种能构造类的类型就是元类（就是type类）。\n",
    "\n",
    "\n",
    "- type的帮助：\n",
    "\n",
    "```\n",
    "class type(object)\n",
    "     |  type(object_or_name, bases, dict)\n",
    "     |  type(name, bases, dict) -> a new type\n",
    "```\n",
    "\n",
    "- 说明：\n",
    "    - object_or_name 对象与对象名（字符串）\n",
    "    - bases父类（元组类型）\n",
    "    - dict ：字典属性（字典类型）\n",
    "\n",
    "- 下面是使用元类创建类的例子"
   ]
  },
  {
   "cell_type": "code",
   "execution_count": 82,
   "metadata": {},
   "outputs": [
    {
     "name": "stdout",
     "output_type": "stream",
     "text": [
      "20\n",
      "cls_name\n"
     ]
    }
   ],
   "source": [
    "class A:\n",
    "    pass\n",
    "\n",
    "class B:\n",
    "    pass\n",
    "\n",
    "TypeCls = type('cls_name', (A, B), {'m_a': 20})\n",
    "\n",
    "a = TypeCls()\n",
    "print(a.m_a)\n",
    "print(TypeCls.__name__)\n"
   ]
  },
  {
   "cell_type": "markdown",
   "metadata": {},
   "source": [
    "### 定制元类\n",
    "\n",
    "- type是Python解释器内置的元类，用户可以实现自己的元类；\n",
    "    - 继承type"
   ]
  },
  {
   "cell_type": "code",
   "execution_count": 83,
   "metadata": {},
   "outputs": [],
   "source": [
    "class Meta(type):\n",
    "    \n",
    "    def __new__(meta, *args, **kwargs):\n",
    "        print( '创建类：')\n",
    "        print( '\\t*args：', args)\n",
    "        print( '\\t**kwargs：', kwargs)\n",
    "        return super().__new__(meta, *args)\n",
    "\n",
    "    def __init__(cls, *args, **kwargs):\n",
    "        print('类型初始化')\n",
    "        print( '\\t*args：', args)\n",
    "        print( '\\t**kwargs：', kwargs)\n",
    "        super().__init__(*args)\n"
   ]
  },
  {
   "cell_type": "markdown",
   "metadata": {},
   "source": [
    "### 使用定制元类定义类\n",
    "\n",
    "- 使用metaclass指定元类。"
   ]
  },
  {
   "cell_type": "code",
   "execution_count": 84,
   "metadata": {},
   "outputs": [
    {
     "name": "stdout",
     "output_type": "stream",
     "text": [
      "创建类：\n",
      "\t*args： ('ClsA', (), {'__module__': '__main__', '__qualname__': 'ClsA', '__init__': <function ClsA.__init__ at 0x10fe83ea0>})\n",
      "\t**kwargs： {'p1': '参数值'}\n",
      "类型初始化\n",
      "\t*args： ('ClsA', (), {'__module__': '__main__', '__qualname__': 'ClsA', '__init__': <function ClsA.__init__ at 0x10fe83ea0>})\n",
      "\t**kwargs： {'p1': '参数值'}\n",
      "创建对象\n"
     ]
    }
   ],
   "source": [
    "class ClsA(metaclass=Meta, p1='参数值'):\n",
    "\n",
    "    def __init__(self, *args, **kwargs):\n",
    "        print('创建对象')\n",
    "\n",
    "\n",
    "        \n",
    "obj_a = ClsA()"
   ]
  },
  {
   "cell_type": "markdown",
   "metadata": {},
   "source": [
    "### 类装饰器\n",
    "\n",
    "- 上面通过元类类控制类的定义，实际也可以通过类装饰器来实现。\n",
    "- 类装饰器本质是函数，参数是类。\n",
    "    - 在装饰器函数中，可以对类进行处理，比如增加一些字典，属性等。\n",
    "    \n",
    "- 使用装饰器与函数一样，差别在于类装饰器使用在类的前面。\n",
    "    - `@ 装饰器名`"
   ]
  },
  {
   "cell_type": "code",
   "execution_count": 85,
   "metadata": {},
   "outputs": [
    {
     "name": "stdout",
     "output_type": "stream",
     "text": [
      "20\n"
     ]
    }
   ],
   "source": [
    "def decorate(cls):\n",
    "    cls.cls_a = 20\n",
    "    return cls\n",
    "\n",
    "\n",
    "@decorate\n",
    "class  ClsA:\n",
    "    pass\n",
    "\n",
    "\n",
    "print(ClsA.cls_a)"
   ]
  },
  {
   "cell_type": "markdown",
   "metadata": {},
   "source": [
    "## 使用UML描述类"
   ]
  },
  {
   "cell_type": "markdown",
   "metadata": {},
   "source": [
    "# 类图\n",
    "\n",
    "1.  工具：\n",
    "    - `https://www.processon.com`"
   ]
  },
  {
   "attachments": {
    "image.png": {
     "image/png": "[encoded data removed]"
    }
   },
   "cell_type": "markdown",
   "metadata": {},
   "source": [
    "2. 类图的UML表示\n",
    "    ![image.png](attachment:image.png)\n",
    "    "
   ]
  },
  {
   "cell_type": "markdown",
   "metadata": {},
   "source": [
    "3. 类图说明\n",
    "    - 区域说明：\n",
    "        - `类名：指定类名;`\n",
    "        - `数据成员：定义成员变量;`\n",
    "        - `函数成员：定义成员函数;`\n",
    "        \n",
    "    -符号说明：\n",
    "        - `+ 表示public；`\n",
    "        - `- 表示private；`\n",
    "        - `# 表示protected；`\n",
    "    \n",
    "    - 成员说明：\n",
    "        - 成员变量说明：`成员变量名：类型 = 默认值`\n",
    "        - 成员函数说明：`函数名(参数：类型，......)：返回类型`"
   ]
  },
  {
   "cell_type": "markdown",
   "metadata": {},
   "source": [
    "# 类关系"
   ]
  },
  {
   "cell_type": "markdown",
   "metadata": {},
   "source": [
    "## 关联关系"
   ]
  },
  {
   "attachments": {
    "image.png": {
     "image/png": "[encoded data removed]"
    }
   },
   "cell_type": "markdown",
   "metadata": {},
   "source": [
    "### 单向关联\n",
    "\n",
    "- 一般用来描述实体关系\n",
    "    - 实体ClsA 有 ClsB作为成员；\n",
    "    \n",
    "    - 比如：User类都有一个地址Address类型的数据；\n",
    "\n",
    "![image.png](attachment:image.png)"
   ]
  },
  {
   "attachments": {
    "image.png": {
     "image/png": "[encoded data removed]"
    }
   },
   "cell_type": "markdown",
   "metadata": {},
   "source": [
    "### 双向关联\n",
    "\n",
    "- 一般用来描述实体类关系：\n",
    "    - 表示双向的拥有关系；\n",
    "    \n",
    "    - 比如：User类都有一个购买Product列表；某个Product被哪个User购买；\n",
    "![image.png](attachment:image.png)"
   ]
  },
  {
   "attachments": {
    "image.png": {
     "image/png": "[encoded data removed]"
    }
   },
   "cell_type": "markdown",
   "metadata": {},
   "source": [
    "### 自关联\n",
    "- 一般用来描述实体；\n",
    "    - 自己拥有自己；\n",
    "        - 比如数据结构的链表节点，就是自己拥有自己；\n",
    "\n",
    "![image.png](attachment:image.png)"
   ]
  },
  {
   "attachments": {
    "image.png": {
     "image/png": "[encoded data removed]"
    }
   },
   "cell_type": "markdown",
   "metadata": {},
   "source": [
    "## 依赖关系\n",
    "\n",
    "- 一般用来描述调用关系\n",
    "    - ClsA的call需要ClsB的called才能工作；\n",
    "    - 一般是一个类的函数参数使用了另外一个类型的对象；\n",
    "\n",
    "![image.png](attachment:image.png)"
   ]
  },
  {
   "attachments": {
    "image.png": {
     "image/png": "[encoded data removed]"
    }
   },
   "cell_type": "markdown",
   "metadata": {},
   "source": [
    "## 聚合关系\n",
    "\n",
    "- 一般用来描述调用关系\n",
    "    -  ClsA的实现需要ClsB；\n",
    "    - 并且ClsB作为ClsA的成员变量，但是ClsB对象的构建不在ClsA中构建，ClsB对象可以独立存在，不会随ClsA对象的释放而释放。\n",
    "\n",
    "![image.png](attachment:image.png)"
   ]
  },
  {
   "attachments": {
    "image.png": {
     "image/png": "[encoded data removed]"
    }
   },
   "cell_type": "markdown",
   "metadata": {},
   "source": [
    "## 组合关系\n",
    "\n",
    "- 一般用来描述调用关系\n",
    "    -  ClsA的实现需要ClsB；\n",
    "    - 并且ClsB作为ClsA的成员变量，ClsB对象的构建在ClsA中构建；\n",
    "    - ClsB对象不是独立存在的，ClsA对象释放时，ClsB对象也会被释放。\n",
    "    \n",
    "![image.png](attachment:image.png)"
   ]
  },
  {
   "attachments": {
    "image.png": {
     "image/png": "[encoded data removed]"
    }
   },
   "cell_type": "markdown",
   "metadata": {},
   "source": [
    "## 继承关系\n",
    "\n",
    "- 继承关系是面向对象中最基本的关系了；\n",
    "\n",
    "![image.png](attachment:image.png)"
   ]
  },
  {
   "attachments": {
    "image.png": {
     "image/png": "[encoded data removed]"
    }
   },
   "cell_type": "markdown",
   "metadata": {},
   "source": [
    "## 接口继承关系\n",
    "\n",
    "- 这个关系在Python非常淡化，因为Python在语法上是弱类型语言（因为类型是动态判定的）；\n",
    "    - 但是在Python从编程技巧上，可以实现与接口类似的程序结构。\n",
    "\n",
    "![image.png](attachment:image.png)"
   ]
  }
 ],
 "metadata": {
  "kernelspec": {
   "display_name": "Python 3",
   "language": "python",
   "name": "python3"
  },
  "language_info": {
   "codemirror_mode": {
    "name": "ipython",
    "version": 3
   },
   "file_extension": ".py",
   "mimetype": "text/x-python",
   "name": "python",
   "nbconvert_exporter": "python",
   "pygments_lexer": "ipython3",
   "version": "3.6.6"
  },
  "toc": {
   "base_numbering": 1,
   "nav_menu": {},
   "number_sections": true,
   "sideBar": true,
   "skip_h1_title": false,
   "title_cell": "Table of Contents",
   "title_sidebar": "Contents",
   "toc_cell": false,
   "toc_position": {
    "height": "calc(100% - 180px)",
    "left": "10px",
    "top": "150px",
    "width": "318px"
   },
   "toc_section_display": true,
   "toc_window_display": true
  }
 },
 "nbformat": 4,
 "nbformat_minor": 2
}
