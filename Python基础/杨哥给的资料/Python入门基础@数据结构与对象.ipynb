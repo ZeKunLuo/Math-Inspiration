{
 "cells": [
  {
   "cell_type": "markdown",
   "metadata": {},
   "source": [
    "# 主题四：数据结构与对象-技术知识"
   ]
  },
  {
   "cell_type": "markdown",
   "metadata": {},
   "source": [
    "- **应用目标**\n",
    "    1. **阶段实战：利用数据结构的数据存储与操作功能，实现一个信息化管理系统**\n",
    "    2. **综合实战：利用数据结构与算法，初步实现决策树算法**\n",
    "    \n",
    "\n",
    "\n"
   ]
  },
  {
   "cell_type": "markdown",
   "metadata": {},
   "source": [
    "- **技能目标**\n",
    "    1. **能熟练实现各种基础算法并具备基础的算法思维**\n",
    "    2. **基本技术应用能力**\n",
    "        - `能使用各种内置数据结构；`\n",
    "        - `能实现各种基础算法：排序、查找等；`\n",
    "        - `能应用算法思想到数值计算中；`\n"
   ]
  },
  {
   "cell_type": "markdown",
   "metadata": {},
   "source": [
    "- **知识点目标**\n",
    "    1. **掌握对象概念与对象应用**\n",
    "        - `对象的概念；`\n",
    "        - `构造器与创建对象；`\n",
    "        - `对象的运算符；`\n",
    "        - `对象的方法；`\n",
    "        - `可迭代对象；`\n",
    "        - `可枚举对象；`\n",
    "\n",
    "    2. **掌握元组数据结构**\n",
    "        - `构建元组对象；`\n",
    "        - `元组运算符；`\n",
    "        - `元组数据操作；`\n",
    "\n",
    "    3. **掌握字符串数据结构**\n",
    "        - `构建字符串对象；`\n",
    "        - `字符串运算符；`\n",
    "        - `字符串数据操作；`\n",
    "\n",
    "    4. **掌握列表数据结构**\n",
    "        - `构建列表对象；`\n",
    "        - `列表运算符；`\n",
    "        - `列表数据操作；`\n",
    "\n",
    "    5. **掌握字典数据结构**\n",
    "        - `构建字典对象；`\n",
    "        - `字典运算符；`\n",
    "        - `字典数据操作；`\n",
    "\n",
    "    6. **掌握集合数据结构**\n",
    "        - `构建集合；`\n",
    "        - `集合运算符；`\n",
    "        - `集合数据操作；`\n",
    "\n",
    "    7. **掌握基础算法**\n",
    "        - `排序算法；`\n",
    "        - `查找算法；`"
   ]
  },
  {
   "cell_type": "markdown",
   "metadata": {},
   "source": [
    "## 对象的概念与应用"
   ]
  },
  {
   "cell_type": "markdown",
   "metadata": {},
   "source": [
    "### 对象的概念\n",
    "\n",
    "- 一提对象或者面向对象，大家都产生紧张的感觉，实际编程语言中的对象本质是一组数据，尤其在Python中更是万事万物皆对象，包括基本的数据类型与内置的数据结构都是对象。\n",
    "\n",
    "\n",
    "\n",
    "- 在前面接触到的数据要么是全局变量，要么是局部变量，这是两种极端的情况：\n",
    "    - 全局变量过多，影响程序的加载速度，并占用过多的系统内存。\n",
    "    - 局部变量过多，程序模块之间的数据处理流中的数据全靠参数传递，过多的参数传递，增加程序模块之间的耦合性（依赖关系更加紧密）\n",
    "\n",
    "\n",
    "- 对象实际是一组数据，具备如下两个特征：\n",
    "    - 数据生命周期整体性：对象作为一组数据的整体，创建一起创建，释放一起释放；\n",
    "    - 数据处理封闭性：对象的数据处理只对对象中的数据进行操作。数据也只服务于这些操作函数，其中的每个数据的作用域介于全局变量与局部变量之间：在对象存在的时候像全局，整个对象可以是局部的。\n",
    "    \n",
    "    \n",
    "- 所谓对象就是一组自带数据操作与运算的数据体，对象也是变量。\n",
    "    - 与变量一样也需要分配空间，初始化数据；\n",
    "    - 对象的数据处理两种方式，外部函数与运算处理，对象自己的函数处理。前提都是对象变量已经存在或者非空。\n",
    "    \n",
    "\n",
    "- 对象与一般的变量概念一样，也是有类型的，对象的类型也称为类。\n",
    "    - 对象的创建使用类型的构造器创建（类型的构造器也是一种运算符）。\n",
    "    "
   ]
  },
  {
   "cell_type": "markdown",
   "metadata": {},
   "source": [
    "### 构造器与对象创建"
   ]
  },
  {
   "cell_type": "markdown",
   "metadata": {},
   "source": [
    "#### Python中的构造器\n",
    "\n",
    "- Python的构造器有固定的名字：\n",
    "    - `__init__(赋给对象的数据或者数据列表)`\n",
    "    \n",
    "    \n",
    "- int类型的构造器\n",
    "    - `def __init__(self, x, base=10): `\n",
    "    \n",
    "   \n",
    "- 使用help查看帮助\n",
    "    -  `pydoc3 int`\n",
    "    "
   ]
  },
  {
   "cell_type": "markdown",
   "metadata": {},
   "source": [
    "#### 使用构造器构建对象\n",
    "\n",
    "- 尽管类型的构造器是`__init__`，但是创建对象使用的是类型名（调用的是`__init__`构造器）\n",
    "    - 对象变量名 =  类型名(数据列表)\n",
    "\n",
    "\n",
    "- 例子：\n",
    "\n",
    "```\n",
    "    # coding = utf-8\n",
    "\n",
    "    a = int('20', 8)\n",
    "    print(a)\n",
    "    \n",
    "```\n",
    "\n",
    "- 说明：\n",
    "    上面例子使用字符串'20'按照8进制构造了一个int（整数）对象。\n",
    "\n",
    "- 构造器本质是一个函数，所以上面的调用与函数一样，参数遵循函数的规则。"
   ]
  },
  {
   "cell_type": "markdown",
   "metadata": {},
   "source": [
    "### 对象的运算符\n",
    "\n",
    "- 在类型的帮助文档中，所有运算符都是一个函数的形式，都是两个下划线`__`开始与结束，比如加法运算符\n",
    "\n",
    "```python\n",
    "\n",
    "       __add__(self, value, /)\n",
    "          Return self+value.\n",
    "\n",
    "```\n",
    "\n",
    "- 对象支持哪些运算符，可以在类型的文档找到。\n",
    "\n",
    "\n",
    "- 例子：\n",
    "\n",
    "```\n",
    "\n",
    "    # coding = utf-8\n",
    "\n",
    "    a = int('20', 8)\n",
    "\n",
    "    print(a + 30)\n",
    "\n",
    "```\n",
    "\n",
    "- 说明：\n",
    "    - 上面例子中+ 运算符，调用的就是`__add__`函数。"
   ]
  },
  {
   "cell_type": "markdown",
   "metadata": {},
   "source": [
    "### 对象的方法\n",
    "\n",
    "- 对象方法分成两种：\n",
    "    - 普通的方法\n",
    "    - 属性方法\n",
    "    \n",
    "- 普通方法的调用：\n",
    "    - `对象.方法(参数.......)`\n",
    "    - `变量 = 对象.方法(参数.......)`\n",
    "    \n",
    "- 属性方法的调用：\n",
    "    - 获取值：`变量 = 对象.属性`\n",
    "    - 设置值：`对象.属性 = 值`\n",
    "    \n",
    "    - **说明：**\n",
    "        - 可赋值的属性，称为写属性；可取值的属性，称为可读属性。\n",
    "        - 有的属性不能赋值，称为**只读属性**\n",
    "        - 有的属性会与数据混淆在一起，要注意区分。\n",
    "\n",
    "- 方法调用例子：\n",
    "\n",
    "```\n",
    "    # coding = utf-8\n",
    "\n",
    "    a = int('20', 8)\n",
    "\n",
    "    print(a + 30)\n",
    "\n",
    "    print(a.bit_length())\n",
    "    print(a.to_bytes(a.bit_length(), 'big'))\n",
    "    \n",
    "```\n",
    "\n",
    "- 属性例子：\n",
    "\n",
    "```python\n",
    "\n",
    "import requests\n",
    "\n",
    "session = requests.Session()\n",
    "session.get('https://www.baidu.com')   # 对象方法\n",
    "\n",
    "print(session.cookies)    # 对象属性\n",
    "print(session.headers)\n",
    "\n",
    "```"
   ]
  },
  {
   "cell_type": "markdown",
   "metadata": {},
   "source": [
    "### 可迭代对象\n",
    "\n",
    "- 在初学Python的时候，有三个名词容易困扰入门者：可迭代对象，迭代器，生成器。"
   ]
  },
  {
   "cell_type": "markdown",
   "metadata": {},
   "source": [
    "#### 生成器\n",
    "\n",
    "- 我们在函数部分讲过，本质使用一段代码，在调用send函数的时候，代码执行，得到（生成）一个数据，还可以在调用代码生成数据的时候传递参数。\n",
    " \n",
    "\n",
    "- 生成器调用例子：\n",
    "\n",
    "```python\n",
    "\n",
    "    def mygenerator():\n",
    "\n",
    "        r = yield 20    # 返回第一次\n",
    "\n",
    "        yield r + 88    # 返回第二次\n",
    "\n",
    "\n",
    "    mg = mygenerator()\n",
    "    re = mg.send(None)    # 调用第一次\n",
    "    print(re)\n",
    "    re = mg.send(100)       # 调用第二次\n",
    "    print(re)\n",
    "\n",
    "```\n"
   ]
  },
  {
   "cell_type": "markdown",
   "metadata": {},
   "source": [
    "### 可迭代对象\n",
    "\n",
    "- 可迭代对象不是一种类型，本质是实现`def   __iter__(self)`函数的对象，通过这个函数可以得到迭代器（有的时候就是对象本身），只要看见`def   __iter__(self)`函数实现的对象都是可迭代对象。 `__iter__`函数返回的是迭代器对象。\n",
    "    \n",
    "- 凡事可以返回迭代器的对象都是可迭代对象。\n",
    "    - 内置数据结构\n",
    "    - 生成器\n",
    "    - 打开的文件对象\n",
    "\n",
    "- 判定可迭代对象的例子：\n",
    "\n",
    "```python\n",
    "\n",
    "        # encoding = utf-8\n",
    "        from collections import Iterable\n",
    "\n",
    "\n",
    "        def mygenerator():\n",
    "            yield '数据一'\n",
    "            yield '数据二'\n",
    "            yield '数据二'\n",
    "\n",
    "\n",
    "        mg = mygenerator()\n",
    "        a = [1, 2, 3, 4]\n",
    "        b = iter(a)\n",
    "\n",
    "\n",
    "        class A:\n",
    "            def __iter__(self):\n",
    "                return self\n",
    "\n",
    "\n",
    "        fd = open('ds01_int.py','r')\n",
    "\n",
    "        c = A()\n",
    "\n",
    "        re = isinstance(a, Iterable)      # True   内置数据结构\n",
    "        print(re)\n",
    "        re = isinstance(b, Iterable)      # True   迭代器对象\n",
    "        print(re)\n",
    "        re = isinstance(c, Iterable)      # True   用户实现的可迭代对象\n",
    "        print(re)\n",
    "        re = isinstance(mg, Iterable)      # True    生成器对象\n",
    "        print(re)\n",
    "        re = isinstance(fd, Iterable)      # True    打开的文件对象\n",
    "        print(re)\n",
    "```\n",
    "\n",
    "\n",
    "- for循环要求的对象必须是可迭代对象。下面是一个例子，在for使用不可迭代对象，会抛出`TypeError: 'int' object is not iterable`异常。\n",
    "\n",
    "```python\n",
    "\n",
    "        a = int(20)\n",
    "        for i in a:\n",
    "            print(i)\n",
    "\n",
    "```\n"
   ]
  },
  {
   "cell_type": "markdown",
   "metadata": {},
   "source": [
    "#### 迭代器\n",
    "\n",
    "- 迭代器是一种类型，这种类型还必须实现一个函数规范`__next__(self, /)`，没有实现`__next__`函数的都不是迭代器。\n",
    "\n",
    "\n",
    "- 迭代器可以使用next函数迭代调用。\n",
    "\n",
    "```python\n",
    "    class A:\n",
    "        def __next__(self):\n",
    "            return 20\n",
    "\n",
    "\n",
    "    a = A()\n",
    "    re = next(a)\n",
    "    print(re)\n",
    "```\n",
    "\n",
    "- for循环要求`__iter__`返回的对象是迭代器类型，下面对象尽管是可迭代对象，但会抛出异常`ypeError: iter() returned non-iterator of type 'A'`异常。\n",
    "\n",
    "```python\n",
    "\n",
    "    class A:\n",
    "        def __iter__(self):\n",
    "            return self\n",
    "\n",
    "\n",
    "    a = A()\n",
    "    for i in a:\n",
    "        print(i)\n",
    "\n",
    "```\n",
    "\n",
    "- 说明：\n",
    "    - for循环的对象需要满足是可迭代对象，意味着：\n",
    "        - 从这个可迭代对象可以得到一个迭代器。\n",
    "    \n",
    "    - 从语法结构来讲对象的`__iter__`返回的不是迭代器也可以称呼为可迭代对象，该对象只要实现了`__iter__`就是可迭代对象，但没有多大意义，因为`__iter__`本身就是用来获取容器的迭代器的（或者暴露容器迭代器的函数接口）。\n",
    "    \n",
    "    - 严格意来讲，只有通过`__iter__`返回一个迭代器的对象才称呼为可迭代对象。（我们后面都指的是严格意义的可迭代对象）\n",
    "    "
   ]
  },
  {
   "cell_type": "markdown",
   "metadata": {},
   "source": [
    "- 内置数据结构的迭代器类型\n",
    "    - 使用iter函数可以从可迭代对象得到迭代器对象。\n",
    "    \n",
    "```\n",
    "    def mygenerator():\n",
    "        yield '数据一'\n",
    "        yield '数据二'\n",
    "        yield '数据二'\n",
    "    \n",
    "    mg = mygenerator()\n",
    "    ds1 = (1, 2, 3, 4)\n",
    "    ds2 = [1, 2, 3, 4]\n",
    "    ds3 = {1, 2, 3, 4}\n",
    "    ds4 = {1: 'a', 2: 'b', 3: 'c', 4: 'd'}\n",
    "\n",
    "\n",
    "    print(iter(ds1))\n",
    "    print(iter(ds2))\n",
    "    print(iter(ds3))\n",
    "    print(iter(ds4))\n",
    "    print(iter(mg))\n",
    "\n",
    "```\n",
    "\n",
    "- 返回的迭代器类型如下：\n",
    "\n",
    "```shell\n",
    "\n",
    "    <tuple_iterator object at 0x10e206898>\n",
    "    <list_iterator object at 0x10e206898>\n",
    "    <set_iterator object at 0x10f585828>\n",
    "    <dict_keyiterator object at 0x10f57cc28>\n",
    "    <generator object mygenerator at 0x10f552468>\n",
    "\n",
    "```\n",
    "\n",
    "- 说明：\n",
    "    - iter对生成器返回的是生成器类型。\n",
    "    - 迭代器对数据迭代的方式不同。\n",
    "    - 可迭代对象是对对象本身的迭代。"
   ]
  },
  {
   "cell_type": "markdown",
   "metadata": {},
   "source": [
    "### 可枚举对象\n",
    "\n",
    "- 枚举对象是另外类型的迭代器，只是`__next__`返回的数据不同。因为枚举对象也实现了：\n",
    "    - `__iter__`\n",
    "    - `__next__`\n",
    "    \n",
    "- 枚举对象返回的值与迭代器不同，枚举对象包含位置索引（位置从0开始）\n",
    "\n",
    "```python\n",
    "\n",
    "        # encoding = utf-8\n",
    "\n",
    "\n",
    "        def mygenerator():\n",
    "            yield '数据一'\n",
    "            yield '数据二'\n",
    "            yield '数据二'\n",
    "\n",
    "\n",
    "        mg = mygenerator()\n",
    "\n",
    "        ds1 = (1, 2, 3, 4)\n",
    "        ds2 = [1, 2, 3, 4]\n",
    "        ds3 = {1, 2, 3, 4}\n",
    "        ds4 = {1: 'a', 2: 'b', 3: 'c', 4: 'd'}\n",
    "\n",
    "        e1 = enumerate(mg, start=0)\n",
    "        for e in e1:\n",
    "            print(e)\n",
    "        print('--------------')\n",
    "        e2 = enumerate(ds2, start=1)\n",
    "        for e in e2:\n",
    "            print(e)\n",
    "        print('--------------')\n",
    "        e4 = enumerate(ds4, start=2)\n",
    "        for e in e4:\n",
    "            print(e)\n",
    "\n",
    "```\n",
    "\n",
    "- 输出结果为：\n",
    "\n",
    "```shell\n",
    "\n",
    "        (0, '数据一')\n",
    "        (1, '数据二')\n",
    "        (2, '数据二')\n",
    "        --------------\n",
    "        (1, 1)\n",
    "        (2, 2)\n",
    "        (3, 3)\n",
    "        (4, 4)\n",
    "        --------------\n",
    "        (2, 1)\n",
    "        (3, 2)\n",
    "        (4, 3)\n",
    "        (5, 4)\n",
    "\n",
    "```\n",
    "\n",
    "\n",
    "- 枚举对象也是迭代器，也是可迭代对象。\n",
    "- 不管可迭代对象还是迭代器，都是提供数据结构的一种遍历方式，Python还专门提供for循环结构实现更加简洁的遍历方式。"
   ]
  },
  {
   "cell_type": "markdown",
   "metadata": {},
   "source": [
    "## 元组\n",
    "\n",
    "- 元组是内置内型使用关键字tuple表示，也是一个类型，也是一个类，该类享受的命名是关键字，不是用户标识字，也称`第一类对象`\n",
    "\n",
    "- 使用如下指令可以查看tuple的帮助：\n",
    "    - `pydoc3  tuple`"
   ]
  },
  {
   "cell_type": "markdown",
   "metadata": {},
   "source": [
    "### 构建元组对象\n",
    "\n",
    "- 构造器\n",
    "\n",
    "```python\n",
    "\n",
    " |  tuple() -> empty tuple\n",
    "        构建一个空的元组（通常没有意义）\n",
    " |  tuple(iterable) -> tuple initialized from iterable's items\n",
    "        使用可迭代对象来构建一个元组\n",
    "\n",
    "```\n",
    "\n",
    "- 问题说明：\n",
    "    - 迭代器与这些内置结构的区别在于，这些内置类型时数据容器，迭代器用来实现对容器中的数据遍历。\n",
    "    - 可迭代对象是泛指可以返回迭代器的对象（具有可迭代特征的对象），不是一种对象类型，迭代器是一种具体的类型，不同的迭代器对象，对不同格式的数据进行迭代；\n",
    "    - 枚举器是一种特殊的迭代器。\n",
    "    - iter函数用来返回容器的迭代器（调用`__iter__`函数）。\n",
    "    - next函数用来实现数据迭代（调用`__next__`函数）。\n",
    "    \n",
    "- 为什么要把可迭代对象转换成tuple等数据结构？\n",
    "    - tuple，list，dict，set具有比可迭代对象更强大的操作功能。可迭代对象可以返回一个迭代器，迭代器可以实现数据遍历，这是所有基础数据结构基本的功能，但数据结构不仅仅这么单一的功能。可以从下面运算符与函数操作中体验，这些运算符与函数式迭代器没有的。"
   ]
  },
  {
   "cell_type": "code",
   "execution_count": 3,
   "metadata": {},
   "outputs": [
    {
     "name": "stdout",
     "output_type": "stream",
     "text": [
      "(1, 2, 3, 4)\n"
     ]
    }
   ],
   "source": [
    "st = {1, 2, 3, 4}\n",
    "\n",
    "tp = tuple(st)\n",
    "\n",
    "print(tp)"
   ]
  },
  {
   "cell_type": "markdown",
   "metadata": {},
   "source": [
    "### 元组运算符\n",
    "\n",
    "- 运算运算的API（下面的各种数据结构以此类推）：\n",
    "\n",
    "```python\n",
    " |  __add__(self, value, /)\n",
    " |      Return self+value.\n",
    " |  __contains__(self, key, /)\n",
    " |      Return key in self.\n",
    " |  __eq__(self, value, /)\n",
    " |      Return self==value.\n",
    " |  __ge__(self, value, /)\n",
    " |      Return self>=value. \n",
    " |  __getitem__(self, key, /)\n",
    " |      Return self[key]. \n",
    " |  __gt__(self, value, /)\n",
    " |      Return self>value. \n",
    " |  __le__(self, value, /)\n",
    " |      Return self<=value. \n",
    " |  __len__(self, /)\n",
    " |      Return len(self). \n",
    " |  __lt__(self, value, /)\n",
    " |      Return self<value.\n",
    " |  __mul__(self, value, /)\n",
    " |      Return self*value.\n",
    " |  __ne__(self, value, /)\n",
    " |      Return self!=value.\n",
    " |  __repr__(self, /)\n",
    " |      Return repr(self).\n",
    " |  __rmul__(self, value, /)\n",
    " |      Return value*self.\n",
    " |  __iter__(self, /)\n",
    " |      Implement iter(self). \n",
    "```\n"
   ]
  },
  {
   "cell_type": "markdown",
   "metadata": {},
   "source": [
    "#### tuple不是迭代器\n",
    "\n",
    "- 从上面运算符，可以看出tuple不是迭代器：因为没有`__next__`函数。\n",
    "- 下面例子可以说明："
   ]
  },
  {
   "cell_type": "code",
   "execution_count": 4,
   "metadata": {},
   "outputs": [
    {
     "ename": "TypeError",
     "evalue": "'tuple' object is not an iterator",
     "output_type": "error",
     "traceback": [
      "\u001b[0;31m---------------------------------------------------------------------------\u001b[0m",
      "\u001b[0;31mTypeError\u001b[0m                                 Traceback (most recent call last)",
      "\u001b[0;32m<ipython-input-4-9b3e273d91fa>\u001b[0m in \u001b[0;36m<module>\u001b[0;34m()\u001b[0m\n\u001b[1;32m      1\u001b[0m \u001b[0mds1\u001b[0m \u001b[0;34m=\u001b[0m \u001b[0;34m(\u001b[0m\u001b[0;36m1\u001b[0m\u001b[0;34m,\u001b[0m \u001b[0;36m2\u001b[0m\u001b[0;34m,\u001b[0m \u001b[0;36m3\u001b[0m\u001b[0;34m,\u001b[0m \u001b[0;36m4\u001b[0m\u001b[0;34m)\u001b[0m\u001b[0;34m\u001b[0m\u001b[0m\n\u001b[0;32m----> 2\u001b[0;31m \u001b[0mnext\u001b[0m\u001b[0;34m(\u001b[0m\u001b[0mds1\u001b[0m\u001b[0;34m)\u001b[0m\u001b[0;34m\u001b[0m\u001b[0m\n\u001b[0m",
      "\u001b[0;31mTypeError\u001b[0m: 'tuple' object is not an iterator"
     ]
    }
   ],
   "source": [
    "ds1 = (1, 2, 3, 4)\n",
    "next(ds1)"
   ]
  },
  {
   "cell_type": "markdown",
   "metadata": {},
   "source": [
    "#### tuple具有迭代器\n",
    "\n",
    "- 使用`__iter__`函数返回一个迭代器，迭代器可以并不是本身，可以是其他迭代器来迭代容器的数据，一般容器本身也可以实现为迭代器（安全性不够高）。\n",
    "\n",
    "- 下面使用例子来说明，tuple的迭代器的类型"
   ]
  },
  {
   "cell_type": "code",
   "execution_count": 5,
   "metadata": {},
   "outputs": [
    {
     "name": "stdout",
     "output_type": "stream",
     "text": [
      "<class 'tuple_iterator'>\n",
      "<class 'tuple_iterator'>\n",
      "1\n",
      "2\n",
      "3\n",
      "4\n"
     ]
    },
    {
     "ename": "StopIteration",
     "evalue": "",
     "output_type": "error",
     "traceback": [
      "\u001b[0;31m---------------------------------------------------------------------------\u001b[0m",
      "\u001b[0;31mStopIteration\u001b[0m                             Traceback (most recent call last)",
      "\u001b[0;32m<ipython-input-5-917072c0321e>\u001b[0m in \u001b[0;36m<module>\u001b[0;34m()\u001b[0m\n\u001b[1;32m     13\u001b[0m \u001b[0mprint\u001b[0m\u001b[0;34m(\u001b[0m\u001b[0mnext\u001b[0m\u001b[0;34m(\u001b[0m\u001b[0mit\u001b[0m\u001b[0;34m)\u001b[0m\u001b[0;34m)\u001b[0m\u001b[0;34m\u001b[0m\u001b[0m\n\u001b[1;32m     14\u001b[0m \u001b[0mprint\u001b[0m\u001b[0;34m(\u001b[0m\u001b[0mnext\u001b[0m\u001b[0;34m(\u001b[0m\u001b[0mit\u001b[0m\u001b[0;34m)\u001b[0m\u001b[0;34m)\u001b[0m\u001b[0;34m\u001b[0m\u001b[0m\n\u001b[0;32m---> 15\u001b[0;31m \u001b[0mprint\u001b[0m\u001b[0;34m(\u001b[0m\u001b[0mnext\u001b[0m\u001b[0;34m(\u001b[0m\u001b[0mit\u001b[0m\u001b[0;34m)\u001b[0m\u001b[0;34m)\u001b[0m    \u001b[0;31m# 通过异常信息来判别迭代是否结束。\u001b[0m\u001b[0;34m\u001b[0m\u001b[0m\n\u001b[0m",
      "\u001b[0;31mStopIteration\u001b[0m: "
     ]
    }
   ],
   "source": [
    "ds1 = (1, 2, 3, 4)\n",
    "print(type(ds1.__iter__()))\n",
    "\n",
    "# 得到tuple的迭代器：不是本身。\n",
    "print(type(iter(ds1)))\n",
    "\n",
    "# 正宗的得到tuple的迭代器的方式。\n",
    "it = iter(ds1)\n",
    "\n",
    "# 对迭代器进行迭代\n",
    "print(next(it))\n",
    "print(next(it))\n",
    "print(next(it))\n",
    "print(next(it))\n",
    "print(next(it))    # 通过异常信息来判别迭代是否结束。"
   ]
  },
  {
   "cell_type": "markdown",
   "metadata": {},
   "source": [
    "#### 元组的加法运算\n",
    "\n",
    "-  加法的定义\n",
    "\n",
    "```python\n",
    "     |  __add__(self, value, /)\n",
    "     |      Return self+value.\n",
    "```\n",
    "\n",
    "- tuple的加法只支持元组间的加法，实际是两个元组的合并，\n",
    "\n",
    "- tuple加法的例子"
   ]
  },
  {
   "cell_type": "code",
   "execution_count": 6,
   "metadata": {},
   "outputs": [
    {
     "name": "stdout",
     "output_type": "stream",
     "text": [
      "(1, 2, 3, 4, 5, 6, 7, 8, 9)\n"
     ]
    },
    {
     "ename": "TypeError",
     "evalue": "can only concatenate tuple (not \"int\") to tuple",
     "output_type": "error",
     "traceback": [
      "\u001b[0;31m---------------------------------------------------------------------------\u001b[0m",
      "\u001b[0;31mTypeError\u001b[0m                                 Traceback (most recent call last)",
      "\u001b[0;32m<ipython-input-6-a5f660039775>\u001b[0m in \u001b[0;36m<module>\u001b[0;34m()\u001b[0m\n\u001b[1;32m      5\u001b[0m \u001b[0mprint\u001b[0m\u001b[0;34m(\u001b[0m\u001b[0mds3\u001b[0m\u001b[0;34m)\u001b[0m\u001b[0;34m\u001b[0m\u001b[0m\n\u001b[1;32m      6\u001b[0m \u001b[0;34m\u001b[0m\u001b[0m\n\u001b[0;32m----> 7\u001b[0;31m \u001b[0mds4\u001b[0m \u001b[0;34m=\u001b[0m \u001b[0mds1\u001b[0m \u001b[0;34m+\u001b[0m \u001b[0;36m5\u001b[0m\u001b[0;34m\u001b[0m\u001b[0m\n\u001b[0m",
      "\u001b[0;31mTypeError\u001b[0m: can only concatenate tuple (not \"int\") to tuple"
     ]
    }
   ],
   "source": [
    "ds1 = (1, 2, 3, 4)\n",
    "ds2 = (5, 6, 7, 8, 9)\n",
    "\n",
    "ds3 = ds1 + ds2 \n",
    "print(ds3)\n",
    "\n",
    "ds4 = ds1 + 5"
   ]
  },
  {
   "cell_type": "markdown",
   "metadata": {},
   "source": [
    "#### tuple的in运算\n",
    "\n",
    "- in运算符定义\n",
    "\n",
    "```python\n",
    "\n",
    "    |  __contains__(self, key, /)\n",
    "    |      Return key in self.\n",
    "\n",
    "```\n",
    "\n",
    "- 说明：\n",
    "    - key可以是任意类型，因为tuple容器可以容纳任意类型。\n",
    "    - in支持not复合\n",
    "    \n",
    "- 例子代码："
   ]
  },
  {
   "cell_type": "code",
   "execution_count": 7,
   "metadata": {},
   "outputs": [
    {
     "name": "stdout",
     "output_type": "stream",
     "text": [
      "True\n",
      "True\n",
      "True\n",
      "False\n",
      "False\n",
      "False\n"
     ]
    }
   ],
   "source": [
    "ds1 = (1, 2, 3, 4,(2,3), [2, 3])\n",
    "print( 2 in ds1)\n",
    "print( (2,3) in ds1)\n",
    "print( [2,3] in ds1)\n",
    "print( {2,3} in ds1)\n",
    "# not与in的结合\n",
    "print( not 2 in ds1)\n",
    "\n",
    "# not 与in的结合（推荐这种结合方式）\n",
    "print( 2 not in ds1)\n",
    "\n"
   ]
  },
  {
   "cell_type": "markdown",
   "metadata": {},
   "source": [
    "#### tuple的乘法运算\n",
    "\n",
    "- 乘法定义：\n",
    "\n",
    "```python\n",
    "\n",
    "     |  __rmul__(self, value, /)\n",
    "     |      Return value*self.\n",
    "     |\n",
    "     |  __mul__(self, value, /)\n",
    "     |      Return self*value.\n",
    "\n",
    "```\n",
    "\n",
    "- 说明：\n",
    "    - 上面包含左乘与右乘。\n",
    "    - 乘法运算只支持与整数运算。\n",
    "    - 乘法的函数是克隆，value用来指定克隆的次数。\n",
    "    - 左乘与右乘的功能一样，但是提供更加灵活的使用方式（数乘满足交换律）\n",
    "    \n",
    "    \n",
    "- 例子代码：    "
   ]
  },
  {
   "cell_type": "code",
   "execution_count": 8,
   "metadata": {},
   "outputs": [
    {
     "name": "stdout",
     "output_type": "stream",
     "text": [
      "(1, 2, 3, 4, [2, 3], 1, 2, 3, 4, [2, 3])\n",
      "(1, 2, 3, 4, [2, 3], 1, 2, 3, 4, [2, 3])\n"
     ]
    }
   ],
   "source": [
    "ds1 = (1, 2, 3, 4, [2, 3])\n",
    "ds2 = ds1 * 2\n",
    "ds3 = 2 * ds1\n",
    "print(ds2)\n",
    "print(ds3)"
   ]
  },
  {
   "cell_type": "markdown",
   "metadata": {},
   "source": [
    "#### tuple的下标运算\n",
    "\n",
    "- tuple下标运算的定义\n",
    "\n",
    "```python\n",
    "\n",
    "        |  __getitem__(self, key, /)\n",
    "        |      Return self[key].\n",
    "\n",
    "```\n",
    "\n",
    "- 说明：\n",
    "    - `__getitem__`表示取值； `__setitem__`表示修改值；\n",
    "    - tuple只有`__getitem__`，是只读下标；\n",
    "    - key表示元组中元素的位置，位置从0开始。\n",
    "    \n",
    "    \n",
    "- 例子代码："
   ]
  },
  {
   "cell_type": "code",
   "execution_count": 9,
   "metadata": {},
   "outputs": [
    {
     "name": "stdout",
     "output_type": "stream",
     "text": [
      "1\n",
      "3\n",
      "[2, 3]\n"
     ]
    },
    {
     "ename": "TypeError",
     "evalue": "'tuple' object does not support item assignment",
     "output_type": "error",
     "traceback": [
      "\u001b[0;31m---------------------------------------------------------------------------\u001b[0m",
      "\u001b[0;31mTypeError\u001b[0m                                 Traceback (most recent call last)",
      "\u001b[0;32m<ipython-input-9-2936e389db2b>\u001b[0m in \u001b[0;36m<module>\u001b[0;34m()\u001b[0m\n\u001b[1;32m      4\u001b[0m \u001b[0mprint\u001b[0m\u001b[0;34m(\u001b[0m \u001b[0mds1\u001b[0m\u001b[0;34m[\u001b[0m\u001b[0;36m4\u001b[0m\u001b[0;34m]\u001b[0m \u001b[0;34m)\u001b[0m\u001b[0;34m\u001b[0m\u001b[0m\n\u001b[1;32m      5\u001b[0m \u001b[0;34m\u001b[0m\u001b[0m\n\u001b[0;32m----> 6\u001b[0;31m \u001b[0mds1\u001b[0m\u001b[0;34m[\u001b[0m\u001b[0;36m1\u001b[0m\u001b[0;34m]\u001b[0m \u001b[0;34m=\u001b[0m \u001b[0;36m88\u001b[0m   \u001b[0;31m# 报错（因为tuple只读）\u001b[0m\u001b[0;34m\u001b[0m\u001b[0m\n\u001b[0m",
      "\u001b[0;31mTypeError\u001b[0m: 'tuple' object does not support item assignment"
     ]
    }
   ],
   "source": [
    "ds1 = (1, 2, 3, 4, [2, 3])\n",
    "print( ds1[0] )\n",
    "print( ds1[2] )\n",
    "print( ds1[4] )\n",
    "\n",
    "ds1[1] = 88   # 报错（因为tuple只读）"
   ]
  },
  {
   "cell_type": "markdown",
   "metadata": {},
   "source": [
    "#### tuple的数据长度\n",
    "\n",
    "- 长度运算的定义\n",
    "\n",
    "```python\n",
    "\n",
    "     |  __len__(self, /)\n",
    "     |      Return len(self).\n",
    "\n",
    "```\n",
    "\n",
    "- 说明：\n",
    "    - 这个运算对应的运算操作是len函数。\n",
    "    \n",
    "- 例子代码"
   ]
  },
  {
   "cell_type": "code",
   "execution_count": 10,
   "metadata": {},
   "outputs": [
    {
     "name": "stdout",
     "output_type": "stream",
     "text": [
      "5\n",
      "5\n"
     ]
    }
   ],
   "source": [
    "ds1 = (1, 2, 3, 4, [2, 3])\n",
    "\n",
    "print(len(ds1))    # 推荐方式\n",
    "\n",
    "print(ds1.__len__()) "
   ]
  },
  {
   "cell_type": "markdown",
   "metadata": {},
   "source": [
    "#### tuple的repr运算\n",
    "\n",
    "- repr运算定义：\n",
    "\n",
    "```\n",
    "        |  __repr__(self, /)\n",
    "        |      Return repr(self).\n",
    " \n",
    "```\n",
    "\n",
    "- 说明：\n",
    "    - 这个运算比较常用，就是在使用print函数输出，会自动调用该运算，该运算返回一个对象的字符串描述；\n",
    "    - repr运算使用repr函数调用。\n",
    "    \n",
    "- 注意：\n",
    "    - repr返回的字符串，可以使用eval转换为对象。\n",
    "    \n",
    "    - 如果`__str__`存在，print优先调用`__str__`运算；\n",
    "    \n",
    "- 例子代码"
   ]
  },
  {
   "cell_type": "code",
   "execution_count": 11,
   "metadata": {},
   "outputs": [
    {
     "name": "stdout",
     "output_type": "stream",
     "text": [
      "(1, 2, 3, 4)\n",
      "(1, 2, 3, 4)\n",
      "<class 'tuple'> (1, 2, 3, 4)\n"
     ]
    }
   ],
   "source": [
    "ds1 = (1, 2, 3, 4)\n",
    "\n",
    "re = repr(ds1)\n",
    "print(re)\n",
    "\n",
    "er = ds1.__repr__()\n",
    "print(er)\n",
    "\n",
    "v = eval(er)\n",
    "print(type(v), v)\n"
   ]
  },
  {
   "cell_type": "markdown",
   "metadata": {},
   "source": [
    "#### tuple的比较运算\n",
    "\n",
    "- 比较运算的定义（标准6大比较运算）\n",
    "\n",
    "```python\n",
    "\n",
    " |  __eq__(self, value, /)\n",
    " |      Return self==value.\n",
    " |  __ne__(self, value, /)\n",
    " |      Return self!=value.\n",
    "\n",
    " |  __ge__(self, value, /)\n",
    " |      Return self>=value.\n",
    " |  __gt__(self, value, /)\n",
    " |      Return self>value.\n",
    "\n",
    " |  __le__(self, value, /)\n",
    " |      Return self<=value.\n",
    " |  __lt__(self, value, /)\n",
    " |      Return self<value.\n",
    "\n",
    "\n",
    "```\n",
    "\n",
    "- tuple的比较运算采用的是取比较元组较短的作为比较范围，并对对应元素比较，多出的元素不比较，全部比较返回True，则比较返回True，一个返回False，停止比较，并返回False。\n",
    "    - `==`与`!=`含义是明确的\n",
    "    - `<`与`<=`与`>`与`>=`的\n"
   ]
  },
  {
   "cell_type": "code",
   "execution_count": 12,
   "metadata": {},
   "outputs": [
    {
     "name": "stdout",
     "output_type": "stream",
     "text": [
      "True\n",
      "True\n",
      "True\n",
      "True\n",
      "True\n",
      "True\n"
     ]
    }
   ],
   "source": [
    "ds1 = (3, 5, 1, 7)\n",
    "ds2 = (1, 1)\n",
    "ds3 = (-1,)\n",
    "ds4 = (3, 3, 1, 5, 9)\n",
    "\n",
    "print(ds2 <= ds1)\n",
    "print(ds3 <= ds1)\n",
    "print(ds4 <= ds1)\n",
    "\n",
    "print(ds2 < ds1)\n",
    "print(ds3 < ds1)\n",
    "print(ds4 < ds1)"
   ]
  },
  {
   "cell_type": "markdown",
   "metadata": {},
   "source": [
    "### 元组数据操作"
   ]
  },
  {
   "cell_type": "markdown",
   "metadata": {},
   "source": [
    "#### tuple的count操作\n",
    "\n",
    "- 定义：\n",
    "\n",
    "```python\n",
    "\n",
    " |  count(...)\n",
    " |      T.count(value) -> integer -- return number of occurrences of value\n",
    "\n",
    "```\n",
    "\n",
    "- 用来统计tuple中某个值出现的次数。\n",
    "    - 参数可以是任意类型；\n",
    "    \n",
    "    \n",
    "- 例子代码："
   ]
  },
  {
   "cell_type": "code",
   "execution_count": 13,
   "metadata": {},
   "outputs": [
    {
     "name": "stdout",
     "output_type": "stream",
     "text": [
      "2\n"
     ]
    }
   ],
   "source": [
    "ds = (3, 3, 1, 5, 9)\n",
    "\n",
    "print(ds.count(3))"
   ]
  },
  {
   "cell_type": "markdown",
   "metadata": {},
   "source": [
    "#### tuple的index操作\n",
    "\n",
    "- 定义：\n",
    "\n",
    "```python\n",
    "\n",
    "    |  index(...)\n",
    "    |      T.index(value, [start, [stop]]) -> integer -- return first index of value.\n",
    "    |      Raises ValueError if the value is not present.\n",
    "\n",
    "\n",
    "```\n",
    "\n",
    "- 说明：\n",
    "    - 用来搜索某个值在元组中的位置。可以指定搜索范围\\[start，stop\\]，\n",
    "        - value：被搜索值\n",
    "        - start：搜索开始位置，\n",
    "        - stop：搜索结束位置\n",
    "    \n",
    "    - 使用参数不能指定参数keyword。\n",
    "    - 搜索范围使用的是闭开区间\\[start, stop)。\n",
    "    - 如果搜索不到，会抛出异常`ValueError: tuple.index(x): x not in tuple`。\n",
    "    \n",
    "    - 找到后停止搜索，并返回下标；\n",
    "    \n",
    "- 例子代码："
   ]
  },
  {
   "cell_type": "code",
   "execution_count": 14,
   "metadata": {},
   "outputs": [
    {
     "name": "stdout",
     "output_type": "stream",
     "text": [
      "0\n",
      "4\n",
      "3\n"
     ]
    },
    {
     "ename": "ValueError",
     "evalue": "tuple.index(x): x not in tuple",
     "output_type": "error",
     "traceback": [
      "\u001b[0;31m---------------------------------------------------------------------------\u001b[0m",
      "\u001b[0;31mValueError\u001b[0m                                Traceback (most recent call last)",
      "\u001b[0;32m<ipython-input-14-5298d29b0c18>\u001b[0m in \u001b[0;36m<module>\u001b[0;34m()\u001b[0m\n\u001b[1;32m     10\u001b[0m \u001b[0mprint\u001b[0m\u001b[0;34m(\u001b[0m\u001b[0mds\u001b[0m\u001b[0;34m.\u001b[0m\u001b[0mindex\u001b[0m\u001b[0;34m(\u001b[0m\u001b[0;36m5\u001b[0m\u001b[0;34m,\u001b[0m \u001b[0;36m0\u001b[0m\u001b[0;34m,\u001b[0m \u001b[0;36m4\u001b[0m\u001b[0;34m)\u001b[0m\u001b[0;34m)\u001b[0m\u001b[0;34m\u001b[0m\u001b[0m\n\u001b[1;32m     11\u001b[0m \u001b[0;34m\u001b[0m\u001b[0m\n\u001b[0;32m---> 12\u001b[0;31m \u001b[0mprint\u001b[0m\u001b[0;34m(\u001b[0m\u001b[0mds\u001b[0m\u001b[0;34m.\u001b[0m\u001b[0mindex\u001b[0m\u001b[0;34m(\u001b[0m\u001b[0;36m5\u001b[0m\u001b[0;34m,\u001b[0m \u001b[0;36m0\u001b[0m\u001b[0;34m,\u001b[0m \u001b[0;36m3\u001b[0m\u001b[0;34m)\u001b[0m\u001b[0;34m)\u001b[0m\u001b[0;34m\u001b[0m\u001b[0m\n\u001b[0m",
      "\u001b[0;31mValueError\u001b[0m: tuple.index(x): x not in tuple"
     ]
    }
   ],
   "source": [
    "ds = (3, 3, 1, 5, 9)\n",
    "\n",
    "print(ds.index(3))\n",
    "\n",
    "print(ds.index(9))\n",
    "\n",
    "# print(ds.index(8))\n",
    "\n",
    "\n",
    "print(ds.index(5, 0, 4))\n",
    "\n",
    "print(ds.index(5, 0, 3))"
   ]
  },
  {
   "cell_type": "markdown",
   "metadata": {},
   "source": [
    "## 字符串\n",
    "\n",
    "- 真正意义上，字符串实际是一个特殊的元组。不过处理的数据是字符罢了。\n",
    "- 练习：\n",
    "    - 使用pydoc 查看str类型的帮助。"
   ]
  },
  {
   "cell_type": "markdown",
   "metadata": {},
   "source": [
    "### 构建字符串对象\n",
    "\n",
    "- 构造器定义：\n",
    "\n",
    "```python\n",
    "\n",
    "    class str(object)\n",
    "     |  str(object='') -> str\n",
    "     |  str(bytes_or_buffer[, encoding[, errors]]) -> str\n",
    "\n",
    "```\n",
    "\n",
    "- 说明：\n",
    "    - str构造器两种用法：\n",
    "        - 可以使用任意对象构建字符串（或者说把任意对象转换为字符串对象）\n",
    "        - 可以使用字节流（字节数组）构建字符串（需要指定编码格式）\n",
    "    - 使用引号是Python解释器自动构造。(这个是常用的方式)"
   ]
  },
  {
   "cell_type": "markdown",
   "metadata": {},
   "source": [
    "### 字符串运算符\n",
    "\n",
    "- 元组有的运算符，字符串基本上都有，作用与用法与一样，但是字符串有自己独特的运算符：\n",
    "\n",
    "```\n",
    "|  __mod__(self, value, /)\n",
    "|      Return self%value.\n",
    "|  __rmod__(self, value, /)\n",
    "|      Return value%self.\n",
    "\n",
    "|  __sizeof__(...)\n",
    "|      S.__sizeof__() -> size of S in memory, in bytes\n",
    "\n",
    "|  __str__(self, /)\n",
    "|      Return str(self).\n",
    "```"
   ]
  },
  {
   "cell_type": "markdown",
   "metadata": {},
   "source": [
    "#### 字符串的%运算符\n",
    "\n",
    "- 字符串的%运算符，不是求余的功能，而是格式化的功能。\n",
    "\n",
    "- 例子代码:"
   ]
  },
  {
   "cell_type": "code",
   "execution_count": 15,
   "metadata": {},
   "outputs": [
    {
     "name": "stdout",
     "output_type": "stream",
     "text": [
      "Hello %d\n",
      "Hello 30\n",
      "world hello\n"
     ]
    }
   ],
   "source": [
    "s = 'Hello %d'\n",
    "print(s)\n",
    "\n",
    "# print(20 % s)     # __rmod__歧义\n",
    "print(s % 30)\n",
    "\n",
    "\n",
    "\n",
    "t = 'world %s'\n",
    "u = 'hello'\n",
    "print(u.__rmod__(t))     # 防止歧义，没有对应的%应用于这个运算符\n"
   ]
  },
  {
   "cell_type": "markdown",
   "metadata": {},
   "source": [
    "#### 字符串的__sizeof__运算\n",
    "\n",
    "- 定义：\n",
    "\n",
    "```python\n",
    "\n",
    "|  __sizeof__(...)\n",
    "|      S.__sizeof__() -> size of S in memory, in bytes\n",
    "\n",
    "```\n",
    "\n",
    "- 说明：\n",
    "    - 用来返回字符串占用的内存大小\n",
    "    \n",
    "\n",
    "- 例子代码"
   ]
  },
  {
   "cell_type": "code",
   "execution_count": 16,
   "metadata": {},
   "outputs": [
    {
     "name": "stdout",
     "output_type": "stream",
     "text": [
      "54\n"
     ]
    }
   ],
   "source": [
    "s = 'hello'\n",
    "print(s.__sizeof__())"
   ]
  },
  {
   "cell_type": "markdown",
   "metadata": {},
   "source": [
    "### 字符串数据操作\n",
    "\n",
    "- 字符串的操作比较多，这里按照功能分类来说明；\n",
    "- 其中count与index在元组使用过，这里不做说明。\n",
    "\n",
    "\n",
    "- **强调说明**：\n",
    "    >**下面的所有操作，不影响字符串本身，结果都是在克隆上的操作。**"
   ]
  },
  {
   "cell_type": "markdown",
   "metadata": {},
   "source": [
    "#### 字符串大小写操作\n",
    "\n",
    "- 提供三种大写操作\n",
    "    - `S.capitalize() -> str`    \n",
    "        - 首字母大写\n",
    "    - `S.lower() -> str`\n",
    "        - 全部小写\n",
    "    - `S.upper() -> str`\n",
    "        - 全部大写\n",
    "    - `S.casefold() -> str`\n",
    "        - 无大小写比较的字符串\n",
    "    - `S.swapcase() -> str`\n",
    "        - 大小写转换\n",
    "    - ` S.title() -> str`\n",
    "        - 标题字符串（每个单词的首字母大写）\n",
    "\n",
    "    \n",
    "- 例子代码"
   ]
  },
  {
   "cell_type": "code",
   "execution_count": 17,
   "metadata": {},
   "outputs": [
    {
     "name": "stdout",
     "output_type": "stream",
     "text": [
      "This is a very good day!\n",
      "this is a very good day!\n",
      "THIS IS A VERY GOOD DAY!\n",
      "this is a very good day!\n",
      "THIS IS A VERY GOOD DaY!\n",
      "This Is A Very Good Day!\n"
     ]
    }
   ],
   "source": [
    "s = 'this is a very good dAy!'\n",
    "\n",
    "print(s.capitalize())\n",
    "print(s.lower())\n",
    "print(s.upper())\n",
    "print(s.casefold())\n",
    "print(s.swapcase())\n",
    "print(s.title())     "
   ]
  },
  {
   "cell_type": "markdown",
   "metadata": {},
   "source": [
    "#### 字符串的字符类别判定\n",
    "\n",
    "- 字符串提供对字符类别判别：\n",
    "    - `S.isalnum() -> bool`\n",
    "        - 是否是字母数字\n",
    "    - `S.isalpha() -> bool`\n",
    "        - 是否是字母\n",
    "    - `S.isdecimal() -> bool`\n",
    "        - 是否是十进制数\n",
    "    - `S.isdigit() -> bool`\n",
    "        - 是否是数字\n",
    "    - `S.isidentifier() -> bool`\n",
    "        - 是否是标识符\n",
    "    - `S.islower() -> bool`\n",
    "        - 是否是小写\n",
    "    - `S.isnumeric() -> bool`\n",
    "        - 是否是数字字符\n",
    "    - `S.isprintable() -> bool`\n",
    "        - 是否是可打印字符\n",
    "    - `S.isspace() -> bool`\n",
    "        - 是否是空格\n",
    "    - `S.istitle() -> bool`\n",
    "        - 是否是标题字符\n",
    "    - `S.isupper() -> bool`\n",
    "        - 是否是大写\n",
    "\n",
    "- 使用例子："
   ]
  },
  {
   "cell_type": "code",
   "execution_count": 18,
   "metadata": {},
   "outputs": [
    {
     "name": "stdout",
     "output_type": "stream",
     "text": [
      "True\n",
      "True\n",
      "True\n",
      "True\n",
      "True\n",
      "True\n",
      "True\n",
      "False\n",
      "True\n",
      "True\n",
      "True\n"
     ]
    }
   ],
   "source": [
    "print('a2'.isalnum())\n",
    "print('a'.isalpha())\n",
    "print('012'.isdecimal())\n",
    "print('0123456789'.isdigit())\n",
    "print('name_'.isidentifier())\n",
    "print('abcd1'.islower())\n",
    "print('012'.isnumeric())\n",
    "print('\\t'.isprintable())\n",
    "print('\\t'.isspace())\n",
    "print('Abc'.istitle())\n",
    "print('ABC'.isupper())"
   ]
  },
  {
   "cell_type": "markdown",
   "metadata": {},
   "source": [
    "#### 字符串查找与替换\n",
    "\n",
    "- 查找\n",
    "    - `S.find(sub[, start[, end]]) -> int`\n",
    "        - 在指定位置查找sub字符串，没有找到返回-1。\n",
    "    - `S.index(sub[, start[, end]]) -> int`\n",
    "        - 在指定位置查找sub字符串，没有找到返回`ValueError`异常\n",
    "    - `S.partition(sep) -> (head, sep, tail)`\n",
    "        - 查找sep分隔符，并返回分隔符前面，与后面的字符串。\n",
    "    - ------\n",
    "    - `S.rfind(sub[, start[, end]]) -> int`\n",
    "        - find的逆序版本\n",
    "    - `S.rindex(sub[, start[, end]]) -> int`\n",
    "        - index的逆序版本\n",
    "    - `S.rpartition(sep) -> (head, sep, tail)`\n",
    "        - partition的逆序版本\n",
    "- 替换\n",
    "    - `S.replace(old, new[, count]) -> str`\n",
    "        - 使用new替换old，count指定替换次数；\n",
    "    - `S.translate(table) -> str`\n",
    "        - 使用table中的字符替换（翻译）。要求table对象实现lookup/indexing方法，比如`__getitem__()`下标运算，字典，列表也可以（列表的元素应该是元组），其中字典中的key必须是unicode码，value可以是unicode码，字符串或者None。\n",
    "        - table可以使用str的一个工具函数`maketrans(x, y=None, z=None, /)`构造。\n",
    "    - `S.expandtabs(tabsize=8) -> str`\n",
    "        - 把tab替换成空格  \n",
    "        \n",
    "- str的静态函数maketrans\n",
    "\n",
    "    - 函数定义：`maketrans(x, y=None, z=None, /)`\n",
    "    - 这个函数主要创建translate使用的翻译表。\n",
    "\n",
    "    - 使用方式：\n",
    "        1. 一个参数，必须是字典，用来创建unicode映射\n",
    "        2. 两个参数，必须是两个长度相等的字符串，用来产生一个unicode字典；\n",
    "        3. 三个参数，最后一个参数就映射为None\n",
    "        \n",
    "- 查找的例子："
   ]
  },
  {
   "cell_type": "code",
   "execution_count": 19,
   "metadata": {},
   "outputs": [
    {
     "name": "stdout",
     "output_type": "stream",
     "text": [
      "2\n",
      "-1\n"
     ]
    }
   ],
   "source": [
    "s = 'this is s very good day'\n",
    "\n",
    "print(s.find('is',0, len(s) +1 ))   # 位置从0开始\n",
    "print(s.find('kill',0, len(s) +1 ))   # 位置从0开始"
   ]
  },
  {
   "cell_type": "code",
   "execution_count": 20,
   "metadata": {},
   "outputs": [
    {
     "name": "stdout",
     "output_type": "stream",
     "text": [
      "2\n"
     ]
    },
    {
     "ename": "ValueError",
     "evalue": "substring not found",
     "output_type": "error",
     "traceback": [
      "\u001b[0;31m---------------------------------------------------------------------------\u001b[0m",
      "\u001b[0;31mValueError\u001b[0m                                Traceback (most recent call last)",
      "\u001b[0;32m<ipython-input-20-4ba73c89e7e4>\u001b[0m in \u001b[0;36m<module>\u001b[0;34m()\u001b[0m\n\u001b[1;32m      1\u001b[0m \u001b[0ms\u001b[0m \u001b[0;34m=\u001b[0m \u001b[0;34m'this is s very good day'\u001b[0m\u001b[0;34m\u001b[0m\u001b[0m\n\u001b[1;32m      2\u001b[0m \u001b[0mprint\u001b[0m\u001b[0;34m(\u001b[0m\u001b[0ms\u001b[0m\u001b[0;34m.\u001b[0m\u001b[0mindex\u001b[0m\u001b[0;34m(\u001b[0m\u001b[0;34m'is'\u001b[0m\u001b[0;34m,\u001b[0m\u001b[0;36m0\u001b[0m\u001b[0;34m,\u001b[0m \u001b[0mlen\u001b[0m\u001b[0;34m(\u001b[0m\u001b[0ms\u001b[0m\u001b[0;34m)\u001b[0m \u001b[0;34m+\u001b[0m\u001b[0;36m1\u001b[0m \u001b[0;34m)\u001b[0m\u001b[0;34m)\u001b[0m   \u001b[0;31m# 位置从0开始\u001b[0m\u001b[0;34m\u001b[0m\u001b[0m\n\u001b[0;32m----> 3\u001b[0;31m \u001b[0mprint\u001b[0m\u001b[0;34m(\u001b[0m\u001b[0ms\u001b[0m\u001b[0;34m.\u001b[0m\u001b[0mindex\u001b[0m\u001b[0;34m(\u001b[0m\u001b[0;34m'kill'\u001b[0m\u001b[0;34m,\u001b[0m\u001b[0;36m0\u001b[0m\u001b[0;34m,\u001b[0m \u001b[0mlen\u001b[0m\u001b[0;34m(\u001b[0m\u001b[0ms\u001b[0m\u001b[0;34m)\u001b[0m \u001b[0;34m+\u001b[0m\u001b[0;36m1\u001b[0m \u001b[0;34m)\u001b[0m\u001b[0;34m)\u001b[0m   \u001b[0;31m# 位置从0开始\u001b[0m\u001b[0;34m\u001b[0m\u001b[0m\n\u001b[0m",
      "\u001b[0;31mValueError\u001b[0m: substring not found"
     ]
    }
   ],
   "source": [
    "s = 'this is s very good day'\n",
    "print(s.index('is',0, len(s) +1 ))   # 位置从0开始\n",
    "print(s.index('kill',0, len(s) +1 ))   # 位置从0开始"
   ]
  },
  {
   "cell_type": "code",
   "execution_count": 21,
   "metadata": {},
   "outputs": [
    {
     "name": "stdout",
     "output_type": "stream",
     "text": [
      "('this is s ', 'very', ' good day')\n"
     ]
    }
   ],
   "source": [
    "s = 'this is s very good day'\n",
    "print(s.partition('very'))"
   ]
  },
  {
   "cell_type": "markdown",
   "metadata": {},
   "source": [
    "- 替换的例子"
   ]
  },
  {
   "cell_type": "code",
   "execution_count": 22,
   "metadata": {},
   "outputs": [
    {
     "name": "stdout",
     "output_type": "stream",
     "text": [
      "thIS IS s very good day\n",
      "thIS is s very good day\n",
      "thIS IS s very good day\n"
     ]
    }
   ],
   "source": [
    "s = 'this is s very good day'\n",
    "print(s.replace('is', 'IS', 3))    # 最多替换3次\n",
    "print(s.replace('is', 'IS', 1))     # 最多替换1次\n",
    "print(s.replace('is', 'IS', -1))   # 全部替换"
   ]
  },
  {
   "cell_type": "code",
   "execution_count": 23,
   "metadata": {},
   "outputs": [
    {
     "name": "stdout",
     "output_type": "stream",
     "text": [
      "!@is is s v^&* goo() ()*\n"
     ]
    }
   ],
   "source": [
    "s = 'this is s very good day'\n",
    "table = {\n",
    "    ord('t'): ord('!'),\n",
    "    ord('h'): ord('@'),\n",
    "    ord('e'): ord('^'),\n",
    "    ord('r'): ord('&'),\n",
    "    ord('y'): '*',\n",
    "    ord('d'): '()',\n",
    "    ord('a'): None,     # a字符被删除\n",
    "}\n",
    "\n",
    "print(s.translate(table))   # 全部替换"
   ]
  },
  {
   "cell_type": "code",
   "execution_count": 24,
   "metadata": {},
   "outputs": [
    {
     "name": "stdout",
     "output_type": "stream",
     "text": [
      "{97: 42, 101: 38, 105: 37, 111: 36, 117: 35}\n",
      "th%s %s * v&ry g$$d  d*y....w$w!!!\n"
     ]
    }
   ],
   "source": [
    "intab = \"aeiou\"\n",
    "outtab = \"*&%$#\"\n",
    "trantab = str.maketrans(intab,outtab)\n",
    "\n",
    "str = \"this is a very good  day....wow!!!\"\n",
    "print(trantab)\n",
    "print(str.translate(trantab))"
   ]
  },
  {
   "cell_type": "code",
   "execution_count": 25,
   "metadata": {},
   "outputs": [
    {
     "name": "stdout",
     "output_type": "stream",
     "text": [
      "{116: '!', 104: '@', 97: None}\n"
     ]
    }
   ],
   "source": [
    "in_table = {\n",
    "    't': '!',\n",
    "    'h': '@',\n",
    "    'a': None,     # a字符被删除\n",
    "}\n",
    "trantab = str.maketrans(in_table)\n",
    "print(trantab)"
   ]
  },
  {
   "cell_type": "code",
   "execution_count": 26,
   "metadata": {},
   "outputs": [
    {
     "name": "stdout",
     "output_type": "stream",
     "text": [
      "{97: 42, 101: 38, 105: 37, 111: 36, 117: 35, 109: None, 108: None, 115: None, 116: None}\n"
     ]
    }
   ],
   "source": [
    "intab = \"aeiou\"\n",
    "outtab = \"*&%$#\"\n",
    "third = 'mlst'\n",
    "trantab = str.maketrans(intab,outtab, third)\n",
    "print(trantab)"
   ]
  },
  {
   "cell_type": "markdown",
   "metadata": {},
   "source": [
    "#### 字符串空格与填充操作\n",
    "\n",
    "- 字符串提供的空格操作有：\n",
    "    - `S.center(width[, fillchar]) -> str`\n",
    "        - 扩大字符串长度，原来的字符串居中，两边填充空格或者fillchar\n",
    "    - `S.ljust(width[, fillchar]) -> str`\n",
    "        - 扩大字符串长度，原来的字符串居左，两边填充空格或者fillchar\n",
    "    - `S.rjust(width[, fillchar]) -> str`\n",
    "        - 扩大字符串长度，原来的字符串居右，两边填充空格或者fillchar\n",
    "    - ----\n",
    "    - `S.strip([chars]) -> str`\n",
    "        - 得到一个去掉两边空格的字符串\n",
    "    - `S.rstrip([chars]) -> str`\n",
    "        - 得到一个去掉右边空格的字符串\n",
    "    - `S.lstrip([chars]) -> str`\n",
    "        - 得到一个去掉左边空格的字符串\n",
    "    - ----\n",
    "    - `S.zfill(width) -> str`\n",
    "        - 对数字字符串，指定长度，前边填充0。\n",
    "\n",
    "- 例子代码："
   ]
  },
  {
   "cell_type": "code",
   "execution_count": 27,
   "metadata": {},
   "outputs": [
    {
     "name": "stdout",
     "output_type": "stream",
     "text": [
      "        欢迎大家        \n",
      "欢迎大家                \n",
      "                欢迎大家\n",
      "欢迎大家\n",
      "        欢迎大家\n",
      "欢迎大家        \n",
      "0000000000000000欢迎大家\n"
     ]
    }
   ],
   "source": [
    "s = '欢迎大家'\n",
    "\n",
    "print(s.center(20))\n",
    "print(s.ljust(20))\n",
    "print(s.rjust(20))\n",
    "\n",
    "t = s.center(20)\n",
    "print(t.strip())\n",
    "print(t.rstrip())\n",
    "print(t.lstrip())\n",
    "\n",
    "print(s.zfill(20))"
   ]
  },
  {
   "cell_type": "markdown",
   "metadata": {},
   "source": [
    "#### 字符串开始与结束判定\n",
    "\n",
    "- 这种操作用的最多的应用场景是：文件名操作。\n",
    "    - `S.startswith(prefix[, start[, end]]) -> bool`\n",
    "        - 判定字符串是否以prefix开始。\n",
    "    - `S.endswith(suffix[, start[, end]]) -> bool`\n",
    "        - 判定字符串是否以suffix结束。\n",
    "\n",
    "\n",
    "- 例子代码"
   ]
  },
  {
   "cell_type": "code",
   "execution_count": 28,
   "metadata": {},
   "outputs": [
    {
     "name": "stdout",
     "output_type": "stream",
     "text": [
      "True\n",
      "True\n"
     ]
    }
   ],
   "source": [
    "s = 'example.py'\n",
    "\n",
    "print(s.startswith('example'))\n",
    "print(s.endswith('.py'))"
   ]
  },
  {
   "cell_type": "markdown",
   "metadata": {},
   "source": [
    "#### 字符串分隔与合并\n",
    "\n",
    "- 字符串使用比较多的是字符串合并与分隔：\n",
    "    - `S.join(iterable) -> str`\n",
    "        - 合并iterable中的字符串，使用S作为分隔符号。\n",
    "    - ----\n",
    "    - `S.split(sep=None, maxsplit=-1) -> list of strings`\n",
    "        - 使用sep作为分隔符，对字符串进行分隔，返回分隔以后的字符串。\n",
    "        - 可以使用maxsplit指定最大分隔次数。\n",
    "        - 如果没有指定sep参数，默认是空格；maxsplit的默认是-1，表示全部分隔。\n",
    "    - `S.rsplit(sep=None, maxsplit=-1) -> list of strings`\n",
    "        - 同上：分隔从结束位置开始。是split的逆序版本。\n",
    "    - `S.splitlines([keepends]) -> list of strings`\n",
    "        - 使用换行符或者回车作为分隔符，参数keepends=True可以保留分隔符。\n",
    "        - 一般的换行是`\\n`,`\\r`。不同操作系统可能不同。有的使用`\\r`,`\\n`,`\\r\\n`。\n",
    "    "
   ]
  },
  {
   "cell_type": "markdown",
   "metadata": {},
   "source": [
    "- 合并的例子"
   ]
  },
  {
   "cell_type": "code",
   "execution_count": 29,
   "metadata": {},
   "outputs": [
    {
     "name": "stdout",
     "output_type": "stream",
     "text": [
      "food！， sky！， sea！\n"
     ]
    }
   ],
   "source": [
    "s = '， '\n",
    "t = ['food！', 'sky！', 'sea！']\n",
    "\n",
    "result = s.join(t)\n",
    "print(result)"
   ]
  },
  {
   "cell_type": "markdown",
   "metadata": {},
   "source": [
    "- 拆分的例子"
   ]
  },
  {
   "cell_type": "code",
   "execution_count": 30,
   "metadata": {},
   "outputs": [
    {
     "name": "stdout",
     "output_type": "stream",
     "text": [
      "['this', 'is', 's', 'a', 'good', 'day,', 'I', 'want', 'to', 'travel']\n",
      "['this is s a good day', ' I want to travel']\n",
      "['this', 'is', 's', 'a', 'good', 'day,', 'I', 'want', 'to', 'travel']\n",
      "['this is s a good day', ' I want to travel']\n",
      "['', 'This is a good day!', 'I want to travel!']\n",
      "['\\n', 'This is a good day!\\n', 'I want to travel!\\n']\n",
      "['This is a good day!', 'I want to travel!', 'Go ', 'on!']\n",
      "['This is a good day!\\r', 'I want to travel!\\n', 'Go \\r\\n', 'on!']\n"
     ]
    }
   ],
   "source": [
    "s = 'this is s a good day, I want to travel'\n",
    "\n",
    "print(s.split())\n",
    "print(s.split(','))\n",
    "\n",
    "print(s.rsplit())\n",
    "print(s.rsplit(','))\n",
    "\n",
    "t = '''\n",
    "This is a good day!\n",
    "I want to travel!\n",
    "'''\n",
    "\n",
    "print(t.splitlines(keepends=False))\n",
    "print(t.splitlines(keepends=True))\n",
    "\n",
    "\n",
    "u = '''This is a good day!\\rI want to travel!\\nGo \\r\\non!'''\n",
    "print(u.splitlines(keepends=False))\n",
    "print(u.splitlines(keepends=True))"
   ]
  },
  {
   "cell_type": "markdown",
   "metadata": {},
   "source": [
    "### 字符串的格式化\n",
    "\n",
    "- 字符串的格式化比较复杂，选择常用的相对比较简单，同时在Python3增加了F前缀内置格式字符串，这个语法提供更加方便的格式化操作\n",
    "\n",
    "- 字符串格式提供三种方式：\n",
    "    - 内置格式化\n",
    "    - %运算符格式化\n",
    "    - format格式化函数"
   ]
  },
  {
   "cell_type": "markdown",
   "metadata": {},
   "source": [
    "#### 字符串格式化方式1：%运算符格式化\n",
    "\n",
    "1. 语法：\n",
    "    > '  % 格式规范'  % (被格式化数据，......)\n",
    "    \n",
    "    \n",
    "2. 例子代码"
   ]
  },
  {
   "cell_type": "code",
   "execution_count": 31,
   "metadata": {
    "scrolled": false
   },
   "outputs": [
    {
     "name": "stdout",
     "output_type": "stream",
     "text": [
      "格式化数据：+0000020\n"
     ]
    }
   ],
   "source": [
    "a = 20\n",
    "print('格式化数据：%+08d' % (a))"
   ]
  },
  {
   "attachments": {
    "image.png": {
     "image/png": "[encoded data removed]"
    }
   },
   "cell_type": "markdown",
   "metadata": {},
   "source": [
    "3. %格式化的格式支持比较少，已经被下面的格式化替换。\n",
    "    - %支持的格式是传统的格式。在Linux系统可以通过查看print的帮助得到。这个格式已经与Python的格式不兼容了。\n",
    "    ![image.png](attachment:image.png)"
   ]
  },
  {
   "cell_type": "markdown",
   "metadata": {},
   "source": [
    "4. %的格式与下面的格式已经不兼容\n",
    "    - % 的精度指的是小数以后的位数，新的精度指的是有效位数。下面是例子。"
   ]
  },
  {
   "cell_type": "code",
   "execution_count": 32,
   "metadata": {},
   "outputs": [
    {
     "name": "stdout",
     "output_type": "stream",
     "text": [
      "   78.89\n",
      "***78.89\n"
     ]
    },
    {
     "ename": "TypeError",
     "evalue": "* wants int",
     "output_type": "error",
     "traceback": [
      "\u001b[0;31m---------------------------------------------------------------------------\u001b[0m",
      "\u001b[0;31mTypeError\u001b[0m                                 Traceback (most recent call last)",
      "\u001b[0;32m<ipython-input-32-f3f0813e9e63>\u001b[0m in \u001b[0;36m<module>\u001b[0;34m()\u001b[0m\n\u001b[1;32m      4\u001b[0m \u001b[0mprint\u001b[0m\u001b[0;34m(\u001b[0m\u001b[0;34mF'{78.8888883:*>8.2f}'\u001b[0m\u001b[0;34m)\u001b[0m\u001b[0;34m\u001b[0m\u001b[0m\n\u001b[1;32m      5\u001b[0m \u001b[0;34m\u001b[0m\u001b[0m\n\u001b[0;32m----> 6\u001b[0;31m \u001b[0mprint\u001b[0m\u001b[0;34m(\u001b[0m\u001b[0;34m'%*>8.2f'\u001b[0m\u001b[0;34m%\u001b[0m\u001b[0;36m78.8888883\u001b[0m\u001b[0;34m)\u001b[0m      \u001b[0;31m# 错误\u001b[0m\u001b[0;34m\u001b[0m\u001b[0m\n\u001b[0m",
      "\u001b[0;31mTypeError\u001b[0m: * wants int"
     ]
    }
   ],
   "source": [
    "print('%8.2f'%78.8888883)    # \n",
    "\n",
    "# 新的格式规范效果\n",
    "print(F'{78.8888883:*>8.2f}')  \n",
    "\n",
    "print('%*>8.2f'%78.8888883)      # 错误"
   ]
  },
  {
   "cell_type": "markdown",
   "metadata": {},
   "source": [
    "#### 字符串格式化方式2：内置格式化\n",
    "\n",
    "1. 语法：\n",
    "    > F\"... { 被格式化数据！数据转换方式：格式规范 } ... \"       \n",
    "    > **数据转换方式：**s（调用str转换）,r（调用repr转换）,a（调用ascii转换）      \n",
    "    >**格式规范**：字符串格式规范，日期格式规范      \n",
    "    >具体的字符串格式规范见下面。     "
   ]
  },
  {
   "cell_type": "markdown",
   "metadata": {},
   "source": [
    "2. 例子代码"
   ]
  },
  {
   "cell_type": "code",
   "execution_count": 33,
   "metadata": {},
   "outputs": [
    {
     "name": "stdout",
     "output_type": "stream",
     "text": [
      "整数格式化： 0X14\n",
      "小数格式化：    88.89\n",
      "小数格式化：      8.9e+01\n",
      "字符串格式化： '\\u9a6c\\u54e5\\u6559\\u80b2'\n"
     ]
    }
   ],
   "source": [
    "a = 20\n",
    "print(F'整数格式化： 0X{a:-0X}')     # 格式要与数据类型匹配\n",
    "\n",
    "b = 88.88888888\n",
    "print(F'小数格式化： {b:8.2f}')\n",
    "precise = 2\n",
    "print(F'小数格式化： {b:-{12}.{precise}}')   # 嵌套\n",
    "\n",
    "c = '马哥教育'\n",
    "print(F'字符串格式化： {c!a}')"
   ]
  },
  {
   "cell_type": "markdown",
   "metadata": {},
   "source": [
    "#### 字符串格式化方式3：format格式化函数\n",
    "\n",
    "1. 函数定义：\n",
    "    - |- `S.format(*args, **kwargs) -> str`\n",
    "    - |- `S.format_map(mapping) -> str`\n",
    "\n",
    "2. 格式\n",
    "    - `\"...{：格式规范}...{：格式规范}\".format(被格式化数据，......)`       ：按照默认顺序作为位置。\n",
    "    - `\"...{位置：格式规范}...{位置：格式规范}\".format(被格式化数据，......)`    ： 使用指定位置的参数格式化。\n",
    "    - `\"...{名字：格式规范}...{位置：格式规范}\".format(名字=被格式化数据，......)`    ： 使用指定位置的参数格式化。\n",
    "    \n",
    "    - `\"...{名字.成员或者运算符：格式规范}...{位置：格式规范}\".format(名字=被格式化数据，......)`    ： 使用指定位置的参数格式化。\n",
    "    \n",
    "3.例子代码"
   ]
  },
  {
   "cell_type": "code",
   "execution_count": 34,
   "metadata": {},
   "outputs": [
    {
     "name": "stdout",
     "output_type": "stream",
     "text": [
      "格式化数据：+0000020\n",
      "格式化数据：+0000020\n",
      "格式化数据：+0000020\n",
      "格式化数据：+00088.0\n",
      "格式化数据：+00088.0\n"
     ]
    }
   ],
   "source": [
    "a = 20\n",
    "print('格式化数据：{:+08}'.format(a)) \n",
    "print('格式化数据：{1:+08}'.format(88, a))     # 位置从0开始\n",
    "print('格式化数据：{p2:+08}'.format(p1=88, p2=a))     # keyword参数\n",
    "print('格式化数据：{p1.real:+08}'.format(p1=88+3j, p2=a))     # keyword成员\n",
    "print('格式化数据：{0.real:+08}'.format(88+3j, p2=a))     # 位置的成员"
   ]
  },
  {
   "cell_type": "markdown",
   "metadata": {},
   "source": [
    "#### 格式化规范语言\n",
    "\n",
    "- 在官方文档中为：\n",
    "    - Format Specification Mini-Language\n",
    "\n",
    "- 格式化规范语言的官方帮助为\n",
    "\n",
    "```python\n",
    "\n",
    "format_spec     ::=  [[fill]align][sign][#][0][width][grouping_option][.precision][type]\n",
    "fill            ::=  <any character>\n",
    "align           ::=  \"<\" | \">\" | \"=\" | \"^\"\n",
    "sign            ::=  \"+\" | \"-\" | \" \"\n",
    "width           ::=  digit+\n",
    "grouping_option ::=  \"_\" | \",\"\n",
    "precision       ::=  digit+\n",
    "type            ::=  \"b\" | \"c\" | \"d\" | \"e\" | \"E\" | \"f\" | \"F\" | \"g\" | \"G\" | \"n\" | \"o\" | \"s\" | \"x\" | \"X\" | \"%\"\n",
    "\n",
    "```\n",
    "\n",
    "- 说明\n",
    "    - fill：当输出内容的长度小于输出长度的时候，该格式可以指定填充的字符。\n",
    "        - 数据：任意字符。默认是空\n",
    "    - align：当输出内容的长度小于输出长度的时候，该格式可以指定对齐方式。\n",
    "        - 数据： \"<\" （右对齐） \">\" （左对齐） \"=\" （在符号与数字之间补填充字符，默认是0） \"^\"（居中）\n",
    "        - 如果没有align，就不能指定fill。\n",
    "        \n",
    "    - sign：指定输出符号，符号只对数值有效。\n",
    "        - 数据：+ （整数显示正号）-（负数显示符号：缺省的） 空格（整数显示空格，负数显示减号）\n",
    "        \n",
    "    - \\# ：表示可选输出格式，只对整数，小数，复数有效。\n",
    "        - 数据：比如整数使用二进制，会自动输出0b或者0B\n",
    "        \n",
    "    - 0：表示自动填充0，类似第一个填充符号\n",
    "    \n",
    "    - width：输出宽度\n",
    "        - 数据：整数\n",
    "    - grouping_option：分组选项\n",
    "        -  数据：在python3.6以后还增加了逗号（分组显示），下划线表示分组。\n",
    "        \n",
    "    - .precision：输出精度，就是小数的位数\n",
    "        - 数据：整数\n",
    "    \n",
    "    - type：指定输出的数据类型，一定要匹配。\n",
    "        - 字符串：s\n",
    "        - 整数：见附录\n",
    "        - 小数：见附录"
   ]
  },
  {
   "cell_type": "markdown",
   "metadata": {},
   "source": [
    "**附录一**：整数类型"
   ]
  },
  {
   "cell_type": "markdown",
   "metadata": {},
   "source": [
    "Type\t|Meaning\n",
    "-|-\n",
    "'b'\t|Binary format. Outputs the number in base 2.\n",
    "'c'\t|Character. Converts the integer to the corresponding unicode character before printing.\n",
    "'d'\t|Decimal Integer. Outputs the number in base 10.\n",
    "'o'\t|Octal format. Outputs the number in base 8.\n",
    "'x'\t|Hex format. Outputs the number in base 16, using lower- case letters for the digits above 9.\n",
    "'X'\t|Hex format. Outputs the number in base 16, using upper- case letters for the digits above 9.\n",
    "'n'\t|Number. This is the same as 'd', except that it uses the current locale setting to insert the appropriate number separator characters.\n",
    "None\t|The same as 'd'."
   ]
  },
  {
   "cell_type": "markdown",
   "metadata": {},
   "source": [
    "**附录二**：小数类型"
   ]
  },
  {
   "cell_type": "markdown",
   "metadata": {},
   "source": [
    "Type\t|Meaning\n",
    "-|-\n",
    "'e'\t|Exponent notation. Prints the number in scientific notation using the letter ‘e’ to indicate the exponent. The default precision is 6.\n",
    "'E'\t|Exponent notation. Same as 'e' except it uses an upper case ‘E’ as the separator character.\n",
    "'f'\t|Fixed-point notation. Displays the number as a fixed-point number. The default precision is 6.\n",
    "'F'\t|Fixed-point notation. Same as 'f', but converts nan to NAN and inf to INF.\n",
    "'g'\t| <p>General format. For a given precision p >= 1, this rounds the number to p significant digits and then formats the result in either fixed-point format or in scientific notation, depending on its magnitude.</p><p>The precise rules are as follows: suppose that the result formatted with presentation type 'e' and precision p-1 would have exponent exp. Then if -4 <= exp < p, the number is formatted with presentation type 'f' and precision p-1-exp. Otherwise, the number is formatted with presentation type 'e' and precision p-1. In both cases insignificant trailing zeros are removed from the significand, and the decimal point is also removed if there are no remaining digits following it.</p><p>Positive and negative infinity, positive and negative zero, and nans, are formatted as inf, -inf, 0, -0 and nan respectively, regardless of the precision.</p><p>A precision of 0 is treated as equivalent to a precision of 1. The default precision is 6.</p>\n",
    "'G'\t|General format. Same as 'g' except switches to 'E' if the number gets too large. The representations of infinity and NaN are uppercased, too.\n",
    "'n'\t|Number. This is the same as 'g', except that it uses the current locale setting to insert the appropriate number separator characters.\n",
    "'%'\t|Percentage. Multiplies the number by 100 and displays in fixed ('f') format, followed by a percent sign.\n",
    "None\t|Similar to 'g', except that fixed-point notation, when used, has at least one digit past the decimal point. The default precision is as high as needed to represent the particular value. The overall effect is to match the output of str() as altered by the other format modifiers."
   ]
  },
  {
   "cell_type": "markdown",
   "metadata": {},
   "source": [
    "1. fill与align格式例子"
   ]
  },
  {
   "cell_type": "code",
   "execution_count": 35,
   "metadata": {},
   "outputs": [
    {
     "name": "stdout",
     "output_type": "stream",
     "text": [
      "*********45.78450000\n",
      "*********45.78450000\n",
      "*********45.78450000\n",
      "*********45.78450000\n"
     ]
    },
    {
     "ename": "ValueError",
     "evalue": "Invalid format specifier",
     "output_type": "error",
     "traceback": [
      "\u001b[0;31m---------------------------------------------------------------------------\u001b[0m",
      "\u001b[0;31mValueError\u001b[0m                                Traceback (most recent call last)",
      "\u001b[0;32m<ipython-input-35-988d1562164b>\u001b[0m in \u001b[0;36m<module>\u001b[0;34m()\u001b[0m\n\u001b[1;32m      8\u001b[0m \u001b[0;34m\u001b[0m\u001b[0m\n\u001b[1;32m      9\u001b[0m \u001b[0;31m# 下面是错的：因为指定填充符号，必须要指定对齐方式\u001b[0m\u001b[0;34m\u001b[0m\u001b[0;34m\u001b[0m\u001b[0m\n\u001b[0;32m---> 10\u001b[0;31m \u001b[0mprint\u001b[0m\u001b[0;34m(\u001b[0m\u001b[0;34mF\"{a:*20.8f}\"\u001b[0m\u001b[0;34m)\u001b[0m\u001b[0;34m\u001b[0m\u001b[0m\n\u001b[0m",
      "\u001b[0;31mValueError\u001b[0m: Invalid format specifier"
     ]
    }
   ],
   "source": [
    "a = 45.7845\n",
    "\n",
    "print(F\"{a:*>20.8f}\")\n",
    "\n",
    "print(\"{a:*>20.8f}\".format(a=a))\n",
    "print(\"{:*>20.8f}\".format(a))\n",
    "print(\"{0:*>20.8f}\".format(a))\n",
    "\n",
    "# 下面是错的：因为指定填充符号，必须要指定对齐方式\n",
    "print(F\"{a:*20.8f}\")"
   ]
  },
  {
   "cell_type": "markdown",
   "metadata": {},
   "source": [
    "2. sign格式的例子"
   ]
  },
  {
   "cell_type": "code",
   "execution_count": 36,
   "metadata": {},
   "outputs": [
    {
     "name": "stdout",
     "output_type": "stream",
     "text": [
      "**************+45.78\n"
     ]
    }
   ],
   "source": [
    "a = 45.7845\n",
    "\n",
    "print(F\"{a:*>+20.2f}\")"
   ]
  },
  {
   "cell_type": "markdown",
   "metadata": {},
   "source": [
    "3. \\# 格式的例子"
   ]
  },
  {
   "cell_type": "code",
   "execution_count": 37,
   "metadata": {},
   "outputs": [
    {
     "name": "stdout",
     "output_type": "stream",
     "text": [
      "*************+101101\n",
      "***********+0b101101\n"
     ]
    }
   ],
   "source": [
    "a = 45\n",
    "print(F\"{a:*>+20b}\")\n",
    "print(F\"{a:*>+#20b}\")"
   ]
  },
  {
   "cell_type": "markdown",
   "metadata": {},
   "source": [
    "4. 0格式的使用例子"
   ]
  },
  {
   "cell_type": "code",
   "execution_count": 38,
   "metadata": {},
   "outputs": [
    {
     "name": "stdout",
     "output_type": "stream",
     "text": [
      "+0000000000004572334\n"
     ]
    }
   ],
   "source": [
    "a = 4572334\n",
    "\n",
    "print(F\"{a:+020d}\")    # 使用填充符号达到一样的效果。"
   ]
  },
  {
   "cell_type": "markdown",
   "metadata": {},
   "source": [
    "5. grouping_option：逗号与_格式的使用例子"
   ]
  },
  {
   "cell_type": "code",
   "execution_count": 39,
   "metadata": {},
   "outputs": [
    {
     "name": "stdout",
     "output_type": "stream",
     "text": [
      "+4,572,334\n",
      "45_C4AE\n",
      "4572334\n"
     ]
    }
   ],
   "source": [
    "a = 4572334\n",
    "\n",
    "print(F\"{a:+10,d}\")    # 不能使用x类型，三个一分组\n",
    "print(F\"{a:_X}\")       # 对十进制三个分组，对x是4个一分组。\n",
    "\n",
    "print(F\"{a:#}\")"
   ]
  },
  {
   "cell_type": "markdown",
   "metadata": {},
   "source": [
    "#### 日期格式化"
   ]
  },
  {
   "cell_type": "markdown",
   "metadata": {},
   "source": [
    "Directive\t|Meaning\t|Example\t\n",
    "-|-|-\n",
    "%a\t|Weekday as locale’s abbreviated name.\t|Sun, Mon, …, Sat (en_US);<br>So, Mo, …, Sa (de_DE)\n",
    "%A\t|Weekday as locale’s full name.\t|Sunday, Monday, …, Saturday (en_US);<br>Sonntag, Montag, …, Samstag (de_DE)\n",
    "%w\t|Weekday as a decimal number, where 0 is Sunday and 6 is Saturday.\t|0, 1, …, 6\t \n",
    "%d\t|Day of the month as a zero-padded decimal number.\t|01, 02, …, 31\t \n",
    "%b\t|Month as locale’s abbreviated name.\t|Jan, Feb, …, Dec (en_US);<br>Jan, Feb, …, Dez (de_DE)\n",
    "%B\t|Month as locale’s full name.\t|January, February, …, December (en_US);<br>Januar, Februar, …, Dezember (de_DE)\n",
    "%m\t|Month as a zero-padded decimal number.\t|01, 02, …, 12\t \n",
    "%y\t|Year without century as a zero-padded decimal number.\t|00, 01, …, 99\t \n",
    "%Y\t|Year with century as a decimal number.\t0001, 0002, …, |2013, 2014, …, 9998, 9999\t\n",
    "%H\t|Hour (24-hour clock) as a zero-padded decimal number.\t|00, 01, …, 23\t \n",
    "%I\t|Hour (12-hour clock) as a zero-padded decimal number.\t|01, 02, …, 12\t \n",
    "%p\t|Locale’s equivalent of either |AM or PM.\t<br>AM, PM (en_US);<br>am, pm (de_DE)\n",
    "%M\t|Minute as a zero-padded decimal number.\t|00, 01, …, 59\t \n",
    "%S\t|Second as a zero-padded decimal number.\t|00, 01, …, 59\t\n",
    "%f\t|Microsecond as a decimal number, zero-padded on the left.\t|000000, 000001, …, 999999\t\n",
    "%z\t|UTC offset in the form +HHMM or -HHMM (empty string if the object is naive).\t|(empty), +0000, -0400, +1030\t\n",
    "%Z\t|Time zone name (empty string if the object is naive).\t|(empty), UTC, EST, CST\t \n",
    "%j\t|Day of the year as a zero-padded decimal number.\t|001, 002, …, 366\t \n",
    "%U\t|Week number of the year (Sunday as the first day of the week) as a zero padded decimal number. All days in a new year preceding the first Sunday are considered to be in week 0.\t|00, 01, …, 53\t(7)\n",
    "%W\t|Week number of the year (Monday as the first day of the week) as a decimal number. All days in a new year preceding the first Monday are considered to be in week 0.\t|00, 01, …, 53\t\n",
    "%c\t|Locale’s appropriate date and time representation.\t|Tue Aug 16 21:30:00 1988 (en_US);<br>Di 16 Aug 21:30:00 1988 (de_DE)\n",
    "%x\t|Locale’s appropriate date representation.\t|08/16/88 (None);<br>08/16/1988 (en_US);<br>16.08.1988 (de_DE)\n",
    "%X\t|Locale’s appropriate time representation.\t|21:30:00 (en_US);<br>21:30:00 (de_DE)\n",
    "%%\t|A literal '%' character.\t|%\t "
   ]
  },
  {
   "cell_type": "markdown",
   "metadata": {},
   "source": [
    "- 日期在字符串格式化使用例子"
   ]
  },
  {
   "cell_type": "code",
   "execution_count": 40,
   "metadata": {},
   "outputs": [
    {
     "name": "stdout",
     "output_type": "stream",
     "text": [
      "2019-03-21 16:28:44.752040\n",
      " 2019年03月21日\n"
     ]
    }
   ],
   "source": [
    "import datetime\n",
    "\n",
    "dt = datetime.datetime.now()\n",
    "print(dt)\n",
    "\n",
    "print(F'{dt: %Y年%m月%d日}')"
   ]
  },
  {
   "cell_type": "markdown",
   "metadata": {},
   "source": [
    "## 列表\n",
    "\n",
    "- 列表与元组类型差不多，但元组是immutable（稳定的：不可修改，所有操作都是在克隆上操作返回），但list的mutable（不稳定的，可以直接在list对象上操作），所有在运算符与操作都存在一定差别。"
   ]
  },
  {
   "cell_type": "markdown",
   "metadata": {},
   "source": [
    "### 构建列表对象\n",
    "\n",
    "1. 构造器定义\n",
    "\n",
    "```python\n",
    "    class list(object)\n",
    "         |  list() -> new empty list\n",
    "         |  list(iterable) -> new list initialized from iterable's items\n",
    "\n",
    "```\n",
    "\n",
    "- 构造器也tuple也差不不多，一般我们还是使用内置的\\[ ...\\] 来构造list对象。为了方便，也可以使用构造器把其他可迭代对象转换为list类型，提供给用户更加方便的数据访问与操作。\n",
    "\n",
    "2. 构造器使用的例子"
   ]
  },
  {
   "cell_type": "code",
   "execution_count": 41,
   "metadata": {},
   "outputs": [
    {
     "name": "stdout",
     "output_type": "stream",
     "text": [
      "import os\n",
      "\n",
      "\n",
      "def list_dir(d, depth):\n",
      "    fd = os.path.basename(d)\n",
      "    print('  ' * depth, fd, sep='|-')\n",
      "    v = []\n",
      "    if os.path.isdir(d):\n",
      "        files = os.listdir(d)\n",
      "        for file in files:\n",
      "            file_path = os.path.join(d, file)\n",
      "            r = list_dir(file_path, depth + 1)\n",
      "            v.append(r)\n",
      "    return {d: v}\n",
      "\n",
      "\n",
      "re = list_dir('.', 1)\n",
      "print(re)\n",
      "\n"
     ]
    }
   ],
   "source": [
    "fd = open('recurit.py', 'r')\n",
    "lst_fd = list(fd)                  # <---把可迭代的fd对象转换为list对象\n",
    "fd.close()\n",
    "\n",
    "for line in lst_fd:\n",
    "    print(line, end='')"
   ]
  },
  {
   "cell_type": "markdown",
   "metadata": {},
   "source": [
    "### 列表运算符\n",
    "\n",
    "- 在tuple中介绍过的运算符在list同样可以使用，下面是tuple中没有的运算符介绍。\n",
    "\n",
    "#### 下标运算\\_\\_setitem\\_\\_与\\_\\_delitem\\_\\_\n",
    "```\n",
    "     |  __setitem__(self, key, value, /)\n",
    "     |      Set self[key] to value.\n",
    "     |  __delitem__(self, key, /)\n",
    "     |      Delete self[key].\n",
    "     \n",
    "     \n",
    "     |  __sizeof__(...)\n",
    "     |      L.__sizeof__() -- size of L in memory, in bytes\n",
    "\n",
    "```\n",
    "\n",
    "- 说明：\n",
    "    - 可以通过\\[...\\]实现对list中数据的修改。\n",
    "    \n",
    "- 例子代码： "
   ]
  },
  {
   "cell_type": "code",
   "execution_count": 42,
   "metadata": {},
   "outputs": [
    {
     "name": "stdout",
     "output_type": "stream",
     "text": [
      "[1, 2, 88, 4, 5]\n",
      "[1, 2, 4, 5]\n"
     ]
    }
   ],
   "source": [
    "lst = [1, 2, 3, 4, 5]\n",
    "lst[2] = 88            # 对元组而言，没有这个运算符号。\n",
    "\n",
    "print(lst)     # 修改\\_\\_setitem\\_\\_\n",
    "del lst[2]    # 删除\\_\\_delitem\\_\\_\n",
    "print(lst)\n"
   ]
  },
  {
   "cell_type": "markdown",
   "metadata": {},
   "source": [
    "#### \\_\\_sizeof\\_\\_运算"
   ]
  },
  {
   "cell_type": "code",
   "execution_count": 43,
   "metadata": {},
   "outputs": [
    {
     "name": "stdout",
     "output_type": "stream",
     "text": [
      "80\n",
      "80\n",
      "(1, 2, 3, 4, 5)\n",
      "64\n"
     ]
    }
   ],
   "source": [
    "lst = [1, 2, 3, 4, 5]\n",
    "print(lst.__sizeof__())\n",
    "del lst[2]   \n",
    "print(lst.__sizeof__())     # 占用内存\n",
    "\n",
    "ds = tuple((1, 2, 3, 4, 5))\n",
    "print(ds)\n",
    "print(ds.__sizeof__())   # tuple也有__sizeof__运算，但该运算来自object，调用获取的信息是来自object。"
   ]
  },
  {
   "cell_type": "markdown",
   "metadata": {},
   "source": [
    "#### \\+\\=与\\*\\=运算符号\n",
    "\n",
    "- 因为list可变，所以+=这样的复合运算的含义与tuple有差别。\n",
    "\n",
    "1. 定义：\n",
    "\n",
    "```python\n",
    "     |  __iadd__(self, value, /)\n",
    "     |      Implement self+=value.\n",
    "     |  \n",
    "     |  __imul__(self, value, /)\n",
    "     |      Implement self*=value.\n",
    "\n",
    "```\n",
    "\n",
    "2. 使用例子："
   ]
  },
  {
   "cell_type": "code",
   "execution_count": 44,
   "metadata": {},
   "outputs": [
    {
     "name": "stdout",
     "output_type": "stream",
     "text": [
      "[1, 2, 3, 4, 5, 6, 7, 8]\n",
      "[1, 2, 3, 4, 5, 6, 7, 8, 1, 2, 3, 4, 5, 6, 7, 8]\n",
      "(1, 2, 3, 4, 5, 6, 7, 8)\n",
      "(1, 2, 3, 4, 5, 6, 7, 8, 1, 2, 3, 4, 5, 6, 7, 8)\n"
     ]
    }
   ],
   "source": [
    "lst = [1, 2, 3, 4, 5]\n",
    "tup= (1, 2, 3, 4, 5)\n",
    "\n",
    "lst += [6, 7, 8]\n",
    "print(lst)\n",
    "\n",
    "lst *= 2\n",
    "print(lst)\n",
    "\n",
    "# 注意：对元组的+=运算，明显有差别，tuple中的+= 来自object，是对象克隆，list的是在本身的操作\n",
    "tup += (6, 7, 8)\n",
    "print(tup)\n",
    "\n",
    "tup *= 2\n",
    "print(tup)"
   ]
  },
  {
   "cell_type": "markdown",
   "metadata": {},
   "source": [
    "### 列表数据操作\n",
    "\n",
    "- tuple中的操作在list中都支持，下面列出list独有的操作函数。"
   ]
  },
  {
   "cell_type": "markdown",
   "metadata": {},
   "source": [
    "#### 添加操作\n",
    "\n",
    "1. 末尾添加数据\n",
    "\n",
    "```python\n",
    "    L.append(object) -> None -- append object to end\n",
    "```\n",
    "\n",
    "2. 指定位置插入数据\n",
    "\n",
    "```python\n",
    "    L.insert(index, object) -- insert object before index\n",
    "```\n",
    "3.  扩展数据\n",
    "\n",
    "```python\n",
    "    L.extend(iterable) -> None -- extend list by appending elements from the iterable\n",
    "```\n",
    "\n",
    "4. 数据添加例子"
   ]
  },
  {
   "cell_type": "code",
   "execution_count": 45,
   "metadata": {},
   "outputs": [
    {
     "name": "stdout",
     "output_type": "stream",
     "text": [
      "[1, 2, 3, 4, 5, 6]\n",
      "[1, 2, 3, 4, 5, 6, [7, 8]]\n",
      "[1, 2, 888, 3, 4, 5, 6, [7, 8]]\n",
      "[1, 2, 888, 3, 4, 5, 6, [7, 8], 55, 66]\n"
     ]
    }
   ],
   "source": [
    "lst = [1, 2, 3, 4, 5]\n",
    "\n",
    "lst.append(6)\n",
    "print(lst)\n",
    "\n",
    "# 追加元素，对列表也是当成一个元素\n",
    "lst.append([7, 8])\n",
    "print(lst)\n",
    "\n",
    "\n",
    "# 在指定位置添加\n",
    "lst.insert(2,888)\n",
    "print(lst)\n",
    "\n",
    "# 扩展，等价于 +=\n",
    "lst.extend([55,66])\n",
    "print(lst)"
   ]
  },
  {
   "cell_type": "markdown",
   "metadata": {},
   "source": [
    "#### 删除操作\n",
    "\n",
    "1. 全部清空\n",
    "\n",
    "```python\n",
    "\n",
    "    L.clear() -> None -- remove all items from L\n",
    "```\n",
    "\n",
    "2. 删除指定位置的元素，\n",
    "    - 不指定位置，默认是最后一个。\n",
    "    - list为空，会抛出异常。\n",
    "    - 删除的值会被返回\n",
    "\n",
    "```python\n",
    "\n",
    "    L.pop([index]) -> item -- remove and return item at index (default last).\n",
    "        Raises IndexError if list is empty or index is out of range.\n",
    "\n",
    "```\n",
    "\n",
    "3. 按照值删除\n",
    "    - 只删除第一个，不会反复迭代删除。\n",
    "\n",
    "```python\n",
    "\n",
    "    L.remove(value) -> None -- remove first occurrence of value.\n",
    "        Raises ValueError if the value is not present.\n",
    "\n",
    "```\n",
    "\n",
    "4. 删除的例子代码"
   ]
  },
  {
   "cell_type": "code",
   "execution_count": 46,
   "metadata": {},
   "outputs": [
    {
     "name": "stdout",
     "output_type": "stream",
     "text": [
      "5 , [1, 2, 3, 4]\n",
      "2 , [1, 3, 4]\n",
      "[1, 4]\n",
      "[]\n"
     ]
    }
   ],
   "source": [
    "lst = [1, 2, 3, 4, 5]\n",
    "\n",
    "item = lst.pop()\n",
    "print(item, \",\", lst)\n",
    "item = lst.pop(1)\n",
    "print(item, \",\", lst)\n",
    "\n",
    "lst.remove(3)\n",
    "print(lst)\n",
    "\n",
    "lst.clear()\n",
    "print(lst)"
   ]
  },
  {
   "cell_type": "markdown",
   "metadata": {},
   "source": [
    "#### 排序与逆序操作\n",
    "\n",
    "1. 排序\n",
    "    - 对列表排序\n",
    "\n",
    "```python\n",
    "\n",
    "    L.sort(key=None, reverse=False) -> None -- stable sort *IN PLACE*\n",
    "        key 使用一个函数，用来定制排序规则, 这个多整数，小数元素意义不大，但元素是元组、对象等就有意义了。\n",
    "        使用key的时候，必须使用keyword参数。\n",
    "```\n",
    "\n",
    "2. 逆序\n",
    "    - 得到相反顺序的列表\n",
    "\n",
    "```python\n",
    "\n",
    "    L.reverse() -- reverse *IN PLACE*\n",
    "\n",
    "```\n",
    "\n",
    "3. 例子代码"
   ]
  },
  {
   "cell_type": "code",
   "execution_count": 47,
   "metadata": {},
   "outputs": [
    {
     "name": "stdout",
     "output_type": "stream",
     "text": [
      "[6, 4, 3, 5, 8]\n",
      "[3, 4, 5, 6, 8]\n"
     ]
    }
   ],
   "source": [
    "lst = [8, 5, 3, 4, 6]\n",
    "\n",
    "lst.reverse()   # 逆序\n",
    "print(lst)\n",
    "\n",
    "lst.sort()\n",
    "print(lst)"
   ]
  },
  {
   "cell_type": "code",
   "execution_count": 48,
   "metadata": {},
   "outputs": [
    {
     "name": "stdout",
     "output_type": "stream",
     "text": [
      "('Rose', 8)\n",
      "('Jack', 2)\n",
      "('Tom', 5)\n",
      "('Bob', 3)\n",
      "('Obama', 6)\n",
      "[('Jack', 2), ('Bob', 3), ('Tom', 5), ('Obama', 6), ('Rose', 8)]\n"
     ]
    }
   ],
   "source": [
    "def sort_key(value):\n",
    "    print(value)\n",
    "    return value[1]\n",
    "\n",
    "lst = [('Rose', 8), ('Jack', 2), ('Tom', 5), ('Bob', 3), ('Obama', 6)]\n",
    "\n",
    "lst.sort(key = sort_key)\n",
    "print(lst)"
   ]
  },
  {
   "cell_type": "markdown",
   "metadata": {},
   "source": [
    "#### copy操作\n",
    "- 因为list是mutable的，为了防止数据变动，经常会采用copy拷贝后，再操作数据。\n",
    "\n",
    "1. copy的定义：\n",
    "\n",
    "```python\n",
    "\n",
    "    L.copy() -> list -- a shallow copy of L\n",
    "\n",
    "```\n",
    "\n",
    "- 说明：\n",
    "    - copy与=有很大差异，尽管在某些场合效果一样。尤其在和面讲到copy可以实现深度拷贝。=运算符号是做不到深度拷贝的。\n",
    "\n",
    "2. 例子代码"
   ]
  },
  {
   "cell_type": "code",
   "execution_count": 49,
   "metadata": {},
   "outputs": [
    {
     "name": "stdout",
     "output_type": "stream",
     "text": [
      "('Rose', 8)\n",
      "('Jack', 2)\n",
      "('Tom', 5)\n",
      "('Bob', 3)\n",
      "('Obama', 6)\n",
      "[('Rose', 8), ('Jack', 2), ('Tom', 5), ('Bob', 3), ('Obama', 6)]\n",
      "[('Jack', 2), ('Bob', 3), ('Tom', 5), ('Obama', 6), ('Rose', 8)]\n"
     ]
    }
   ],
   "source": [
    "def sort_key(value):\n",
    "    print(value)\n",
    "    return value[1]\n",
    "\n",
    "lst = [('Rose', 8), ('Jack', 2), ('Tom', 5), ('Bob', 3), ('Obama', 6)]\n",
    "\n",
    "lst_copy = lst.copy()\n",
    "lst_copy.sort(key = sort_key)\n",
    "print(lst)\n",
    "print(lst_copy)"
   ]
  },
  {
   "cell_type": "markdown",
   "metadata": {},
   "source": [
    "## 字典\n",
    "\n",
    "- 字典也属于mutable对象，尽管与list结构不同，但list的很对运算与操作，字典也有。因为数据格式不同，所以也存在差异。"
   ]
  },
  {
   "cell_type": "markdown",
   "metadata": {},
   "source": [
    "### 构建字典对象"
   ]
  },
  {
   "cell_type": "markdown",
   "metadata": {},
   "source": [
    "1. 字典类型的构造器定义：\n",
    "\n",
    "```python\n",
    " |  dict() -> new empty dictionary\n",
    "    构建空的字典，等价于{}。\n",
    " |  dict(mapping) -> new dictionary initialized from a mapping object's\n",
    " |      (key, value) pairs\n",
    "    使用mapping类型\n",
    " |  dict(iterable) -> new dictionary initialized as if via:\n",
    " |      d = {}\n",
    " |      for k, v in iterable:\n",
    " |          d[k] = v\n",
    "    使用元组格式的key-value对构建字典。\n",
    " |  dict(**kwargs) -> new dictionary initialized with the name=value pairs\n",
    " |      in the keyword argument list.  For example:  dict(one=1, two=2)\n",
    "\n",
    "```\n",
    "\n",
    "2. 构建字典的例子"
   ]
  },
  {
   "cell_type": "code",
   "execution_count": 50,
   "metadata": {},
   "outputs": [
    {
     "name": "stdout",
     "output_type": "stream",
     "text": [
      "{}\n",
      "{'name': 'Louis', 'age': 20}\n",
      "{'name': 'Louis', 'age': 20}\n",
      "{'name': 'Louis', 'age': 20}\n",
      "{'name': 'Louis', 'age': 20}\n"
     ]
    }
   ],
   "source": [
    "dt = {'name': 'Louis', 'age':20}\n",
    "\n",
    "dt1 = dict()\n",
    "dt2 = dict(dt)    # dt就是一个mapping类型，\n",
    "dt3 = dict([('name','Louis'), ('age', 20)])    # 函数的返回值也行\n",
    "dt4 = dict(name='Louis', age=20)\n",
    "\n",
    "print(dt1)\n",
    "print(dt2)\n",
    "print(dt3)\n",
    "print(dt4)\n",
    "\n",
    "dt5 = dict(dt.items())\n",
    "print(dt5)     # dt5与dt2是有区别的\n"
   ]
  },
  {
   "cell_type": "markdown",
   "metadata": {},
   "source": [
    "### 字典运算符\n",
    "\n",
    "- 字典的运算与list完全一样，但因为数据格式的变化，所以有的运算的使用也存在变化。\n",
    "\n",
    "- 字典本身不支持+= 与 *=，不支持+ 与 *运算（因为怕可以重复。list不存在这个问题）\n"
   ]
  },
  {
   "cell_type": "code",
   "execution_count": 51,
   "metadata": {},
   "outputs": [],
   "source": [
    "dt = {'name': 'Louis', 'age':20}  \n",
    "# print(dt+dt)   # 支持"
   ]
  },
  {
   "cell_type": "markdown",
   "metadata": {},
   "source": [
    "#### 字典的\\_\\_setitem\\_\\_,\\_\\_getitem\\_\\_,delitem\\_\\_运算\n",
    "\n",
    "- 字典的下标不支持切片\n",
    "- 下标中不支持索引，只能使用key。\n",
    "- \\_\\_setitem\\_\\_有两重功能：修改（存在key）与添加（不存在key）"
   ]
  },
  {
   "cell_type": "code",
   "execution_count": 52,
   "metadata": {},
   "outputs": [
    {
     "name": "stdout",
     "output_type": "stream",
     "text": [
      "Louis\n",
      "{'name': 'Jack', 'age': 20}\n",
      "{'name': 'Jack', 'age': 20, 'favor': 'Swim'}\n",
      "{'name': 'Jack', 'age': 20}\n"
     ]
    }
   ],
   "source": [
    "dt = {'name': 'Louis', 'age':20}\n",
    "\n",
    "print(dt['name'])    # 访问\n",
    "# print(dt[0])    # 不支持\n",
    "dt['name'] = 'Jack'       # 修改\n",
    "print(dt)\n",
    "dt['favor'] = 'Swim'    # 添加\n",
    "print(dt)\n",
    "\n",
    "del dt['favor']    # 删除\n",
    "print(dt)"
   ]
  },
  {
   "cell_type": "markdown",
   "metadata": {},
   "source": [
    "#### 字典的迭代器对象\n",
    "\n",
    "- 因为字典的数据格式，需要明白字典的迭代器怎么工作的。\n",
    "    - 迭代器类型\n",
    "    - 迭代器返回的数据类型与格式"
   ]
  },
  {
   "cell_type": "code",
   "execution_count": 53,
   "metadata": {},
   "outputs": [
    {
     "name": "stdout",
     "output_type": "stream",
     "text": [
      "<class 'dict_keyiterator'>\n",
      "<class 'str'> name\n"
     ]
    }
   ],
   "source": [
    "dt = {'name': 'Louis', 'age':20}\n",
    "iterator = iter(dt)   # 返回字典迭代\n",
    "print(type(iterator))\n",
    "\n",
    "re = next(iterator)\n",
    "print(type(re), re)"
   ]
  },
  {
   "cell_type": "markdown",
   "metadata": {},
   "source": [
    "- 说明：\n",
    "    - 字典迭代器只对key迭代。"
   ]
  },
  {
   "cell_type": "markdown",
   "metadata": {},
   "source": [
    "#### 字典的in运算\n",
    "\n",
    "- 字典的in对key判定"
   ]
  },
  {
   "cell_type": "code",
   "execution_count": 54,
   "metadata": {},
   "outputs": [
    {
     "name": "stdout",
     "output_type": "stream",
     "text": [
      "True\n",
      "False\n"
     ]
    }
   ],
   "source": [
    "dt = {'name': 'Louis', 'age':20}\n",
    "print('name' in dt)    # True\n",
    "print('Louis' in dt)    # False"
   ]
  },
  {
   "cell_type": "markdown",
   "metadata": {},
   "source": [
    "### 字典数据操作"
   ]
  },
  {
   "cell_type": "markdown",
   "metadata": {},
   "source": [
    "#### 数据访问\n",
    "\n",
    "1. key访问\n",
    "\n",
    "```python\n",
    "    D.keys() -> a set-like object providing a view on D's keys\n",
    "```"
   ]
  },
  {
   "cell_type": "markdown",
   "metadata": {},
   "source": [
    "2. values访问\n",
    "\n",
    "```python\n",
    "    D.values() -> an object providing a view on D's values\n",
    "```"
   ]
  },
  {
   "cell_type": "markdown",
   "metadata": {},
   "source": [
    "3. items访问\n",
    "\n",
    "```python\n",
    "    D.items() -> a set-like object providing a view on D's items\n",
    "```"
   ]
  },
  {
   "cell_type": "markdown",
   "metadata": {},
   "source": [
    "4. get取值访问\n",
    "\n",
    "```python\n",
    "    D.get(k[,d]) -> D[k] if k in D, else d.  d defaults to None.\n",
    "```"
   ]
  },
  {
   "cell_type": "markdown",
   "metadata": {},
   "source": [
    "5. 例子代码"
   ]
  },
  {
   "cell_type": "code",
   "execution_count": 55,
   "metadata": {},
   "outputs": [
    {
     "name": "stdout",
     "output_type": "stream",
     "text": [
      "dict_keys(['name', 'age']) <class 'dict_keys'>\n",
      "dict_values(['Louis', 20]) <class 'dict_values'>\n",
      "dict_items([('name', 'Louis'), ('age', 20)]) <class 'dict_items'>\n",
      "Louis\n",
      "为空时的缺省值\n"
     ]
    }
   ],
   "source": [
    "dt = {'name': 'Louis', 'age':20}\n",
    "print(dt.keys(), type(dt.keys()))\n",
    "print(dt.values() ,type(dt.values()))\n",
    "print(dt.items(),type(dt.items()))\n",
    "\n",
    "print(dt.get('name', '为空时的缺省值'))\n",
    "print(dt.get('name2', '为空时的缺省值'))"
   ]
  },
  {
   "cell_type": "markdown",
   "metadata": {},
   "source": [
    "- 说明\n",
    "    - 返回的数据都是类似集合的对象。在collections.abc中对容器定义了很多规范。"
   ]
  },
  {
   "cell_type": "markdown",
   "metadata": {},
   "source": [
    "#### 字典的删除数据操作\n",
    "\n",
    "1. 操作函数定义\n",
    "\n",
    "```python\n",
    "\n",
    "    |- D.clear() -> None.  Remove all items from D.\n",
    "    |     |- 全部删除\n",
    "    |- D.pop(k[,d]) -> v, remove specified key and return the corresponding value.If key is not found, d is returned if given, otherwise KeyError is raised\n",
    "    |     |- 按照key删除，并返回删除的数据，当key不存在，可以指定返回的替代值；key不存在，且不指定替代值，则会抛出KeyError异常。\n",
    "    |- D.popitem() -> (k, v), remove and return some (key, value) pair as a 2-tuple; but raise KeyError if D is empty.\n",
    "    |     |- 删除末尾上（栈顶）的数据，并返回key-values值对。\n",
    "    \n",
    "```"
   ]
  },
  {
   "cell_type": "code",
   "execution_count": 56,
   "metadata": {},
   "outputs": [
    {
     "name": "stdout",
     "output_type": "stream",
     "text": [
      "Louis {'age': 20}\n",
      "('age', 20) {}\n"
     ]
    }
   ],
   "source": [
    "dt = {'name': 'Louis', 'age':20}\n",
    "v = dt.pop('name')\n",
    "print(v, dt)\n",
    "\n",
    "v = dt.popitem()\n",
    "print(v, dt)"
   ]
  },
  {
   "cell_type": "markdown",
   "metadata": {},
   "source": [
    "#### 设置key不存在的替代值\n",
    "\n",
    "- 函数定义\n",
    "    - `D.setdefault(k[,d]) -> D.get(k,d), also set D[k]=d if k not in D`"
   ]
  },
  {
   "cell_type": "markdown",
   "metadata": {},
   "source": [
    "#### 字典的update操作\n",
    "\n",
    "- 函数定义：\n",
    "\n",
    "```python\n",
    "\n",
    "    |  update(...)\n",
    "    |        D.update([E, ]**F) -> None.  Update D from dict/iterable E and F.\n",
    "    |        If E is present and has a .keys() method, then does:  for k in E: D[k] = E[k]\n",
    "    |        If E is present and lacks a .keys() method, then does:  for k, v in E: D[k] = v\n",
    "    |        In either case, this is followed by: for k in F:  D[k] = F[k]\n",
    "\n",
    "```\n",
    "\n",
    "- 上面函数的说明中已经告诉我们这函数的三种使用方法，下面使用例子说明："
   ]
  },
  {
   "cell_type": "markdown",
   "metadata": {},
   "source": [
    "1. 参数具有keys()函数的对象\n",
    "    - 等于两个字典合并；\n",
    "    - 重复的key会被替换修改。"
   ]
  },
  {
   "cell_type": "code",
   "execution_count": 57,
   "metadata": {},
   "outputs": [
    {
     "name": "stdout",
     "output_type": "stream",
     "text": [
      "{'name': 'Louis', 'age': 20, 'favor': 'swim'}\n"
     ]
    }
   ],
   "source": [
    "dt = {'name': 'Louis', 'age':20}\n",
    "pt = {'favor': 'swim'}\n",
    "\n",
    "dt.update(pt)\n",
    "print(dt)"
   ]
  },
  {
   "cell_type": "markdown",
   "metadata": {},
   "source": [
    "2. 参数没有keys对象\n",
    "    - 一般使用元组形式的值对。"
   ]
  },
  {
   "cell_type": "code",
   "execution_count": 58,
   "metadata": {},
   "outputs": [
    {
     "name": "stdout",
     "output_type": "stream",
     "text": [
      "{'name': 'Louis', 'age': 20, 'favor': 'swim'}\n"
     ]
    }
   ],
   "source": [
    "dt = {'name': 'Louis', 'age':20}\n",
    "pt= [ ('favor', 'swim') ]\n",
    "\n",
    "dt.update(pt)\n",
    "print(dt)\n"
   ]
  },
  {
   "cell_type": "markdown",
   "metadata": {},
   "source": [
    "3. 使用\\*\\*F参数的情况\n",
    "    - 如果第一参数不是值对，就可以使用命名参数的方式更新字典\n",
    "    - 可以与第一个可选参数混用。"
   ]
  },
  {
   "cell_type": "code",
   "execution_count": 59,
   "metadata": {},
   "outputs": [
    {
     "name": "stdout",
     "output_type": "stream",
     "text": [
      "{'name': 'Louis', 'age': 20, 'favor': 'swim', 'tall': 1.89}\n"
     ]
    }
   ],
   "source": [
    "dt = {'name': 'Louis', 'age':20}\n",
    "pt = [ ('favor','swim') ]\n",
    "\n",
    "\n",
    "dt.update(pt, tall=1.89)\n",
    "print(dt)"
   ]
  },
  {
   "cell_type": "markdown",
   "metadata": {},
   "source": [
    "#### 字典静态fromkeys操作\n",
    "\n",
    "- 使用可迭代对象构建值统一的字典；函数定义如下;\n",
    "    - `fromkeys(iterable, value=None, /)`\n",
    "\n",
    "- 例子代码"
   ]
  },
  {
   "cell_type": "code",
   "execution_count": 60,
   "metadata": {},
   "outputs": [
    {
     "name": "stdout",
     "output_type": "stream",
     "text": [
      "{'jack': 100.0, 'rose': 100.0, 'tom': 100.0}\n"
     ]
    }
   ],
   "source": [
    "ite = ['jack', 'rose', 'tom']\n",
    "\n",
    "dt = dict.fromkeys(ite ,100.00)\n",
    "print(dt)"
   ]
  },
  {
   "cell_type": "markdown",
   "metadata": {},
   "source": [
    "## 集合\n",
    "\n",
    "- 集合分成mutable与immutable。\n",
    "    - set   (mutable)\n",
    "    - frozenset (immutable)\n",
    "    \n",
    "- set使用比较多，下面以set为主讲解。set中的运算与函数只要对set有影响的，在frozenset中都不能使用。\n",
    "\n",
    "\n",
    "- set实际是对应数学意义上的集合的概念，所以后面的运算与操作都可以从高中数学的集合中得到常识经验去理解。\n",
    "\n",
    "\n",
    "- **重点强调:**\n",
    "    - 初学者不太明白set与list的区别，以及set的意义。感觉都是一组数据值，但两个的区别非常大。\n",
    "        - list，tuple是数据序列，数据是有顺序的，所以数据重复也没有问题。但是set本质采用树管理，所以key是**不能重复的**；\n",
    "        - 因为set采用树管理，为了便于数据查询，其key是按序管理，所以set的**数据是有序的**。\n",
    "        \n",
    "        - 有的语言中，也实现无序set，也实现可重复set。"
   ]
  },
  {
   "cell_type": "markdown",
   "metadata": {},
   "source": [
    "### 构建集合对象\n",
    "\n",
    "1. 构造器定义\n",
    "\n",
    "```python\n",
    "class set(object)\n",
    " |  set() -> new empty set object\n",
    " |  set(iterable) -> new set object\n",
    "```\n",
    "\n",
    "- 说明任何可迭代的对象都可以用来构造器集合，字典使用key构建。\n",
    "    - 一般还是使用{}构建。"
   ]
  },
  {
   "cell_type": "code",
   "execution_count": 61,
   "metadata": {},
   "outputs": [
    {
     "name": "stdout",
     "output_type": "stream",
     "text": [
      "<class 'set'> {1, 2, 4, 5, 7, 8, 9}\n",
      "{1, 2, 4, 6, 7, 8}\n"
     ]
    }
   ],
   "source": [
    "st = {1,4,5,7,2,9,8,8}\n",
    "print(type(st) ,st)     # 不是frozenset类型\n",
    "\n",
    "st2 = set([1,4,7,2,6,8,8])    # 重复的数据，消失\n",
    "print(st2)     "
   ]
  },
  {
   "cell_type": "markdown",
   "metadata": {},
   "source": [
    "- set对象也是可迭代对象，也可以使用集合构建集合。"
   ]
  },
  {
   "cell_type": "code",
   "execution_count": 62,
   "metadata": {},
   "outputs": [
    {
     "name": "stdout",
     "output_type": "stream",
     "text": [
      "<class 'frozenset'> frozenset({1, 2, 4, 6, 7, 8})\n",
      "<set_iterator object at 0x10ab6a5e8>\n"
     ]
    }
   ],
   "source": [
    "fst = frozenset([1,4,7,2,6,8,8])    # 重复的数据，消失\n",
    "print(type(fst) ,fst)  \n",
    "print(iter(fst))    # set与frozenset集合的迭代器类型一样。"
   ]
  },
  {
   "cell_type": "markdown",
   "metadata": {},
   "source": [
    "### 集合运算符"
   ]
  },
  {
   "attachments": {
    "u=2771588957,548602995&fm=26&gp=0.jpg": {
     "image/jpeg": "[encoded data removed]"
    }
   },
   "cell_type": "markdown",
   "metadata": {},
   "source": [
    "#### 集合的四大标准运算\n",
    "\n",
    "- 集合的四大运算：\n",
    "    - 交集\n",
    "    - 并集\n",
    "    - 差集\n",
    "    - 对称差集\n",
    "    \n",
    "    ![集合4大运算](attachment:u=2771588957,548602995&fm=26&gp=0.jpg)"
   ]
  },
  {
   "attachments": {},
   "cell_type": "markdown",
   "metadata": {},
   "source": [
    "1. 交集运算 \n",
    "\n",
    "- 交集运算使用的是&运算符号，先看从定义开始：\n",
    "    - 只能集合对集合进行交集运算：\n",
    "\n",
    "```python\n",
    " |  __and__(self, value, /)\n",
    " |      Return self&value.\n",
    "\n",
    " |  __rand__(self, value, /)\n",
    " |      Return value&self.\n",
    "\n",
    " |  __iand__(self, value, /)\n",
    " |      Return self&=value.\n",
    "\n",
    "```\n",
    "\n",
    "- 例子代码"
   ]
  },
  {
   "cell_type": "code",
   "execution_count": 63,
   "metadata": {},
   "outputs": [
    {
     "name": "stdout",
     "output_type": "stream",
     "text": [
      "{3, 4, 5}\n",
      "{3, 4, 5}\n"
     ]
    }
   ],
   "source": [
    "st1 = {1,4,5,7,3}\n",
    "st2 = {8,3,2,5,4,9}\n",
    "st = st1 & st2\n",
    "print(st)\n",
    "\n",
    "st1 &= st2\n",
    "print(st1)"
   ]
  },
  {
   "attachments": {},
   "cell_type": "markdown",
   "metadata": {},
   "source": [
    "2. 并集运算\n",
    "\n",
    "- 运算符定义\n",
    "\n",
    "```python\n",
    " |  __or__(self, value, /)\n",
    " |      Return self|value.\n",
    " |  __ror__(self, value, /)\n",
    " |      Return value|self.\n",
    " |  __ior__(self, value, /)\n",
    " |      Return self|=value.\n",
    "\n",
    "```\n",
    "\n",
    "- 例子代码"
   ]
  },
  {
   "cell_type": "code",
   "execution_count": 64,
   "metadata": {},
   "outputs": [
    {
     "name": "stdout",
     "output_type": "stream",
     "text": [
      "{1, 2, 3, 4, 5, 7, 8, 9}\n",
      "{1, 2, 3, 4, 5, 7, 8, 9}\n"
     ]
    }
   ],
   "source": [
    "st1 = {1,4,5,7,3}\n",
    "st2 = {8,3,2,5,4,9}\n",
    "st = st1 | st2\n",
    "print(st)\n",
    "\n",
    "st1 |= st2\n",
    "print(st1)"
   ]
  },
  {
   "cell_type": "markdown",
   "metadata": {},
   "source": [
    "3. 差集运算\n",
    "\n",
    "- 运算符定义\n",
    "\n",
    "```python\n",
    "\n",
    " |  __sub__(self, value, /)\n",
    " |      Return self-value.\n",
    " |  __rsub__(self, value, /)\n",
    " |      Return value-self.\n",
    " |  __isub__(self, value, /)\n",
    " |      Return self-=value.\n",
    "\n",
    "```\n",
    "\n",
    "- 例子代码："
   ]
  },
  {
   "cell_type": "code",
   "execution_count": 65,
   "metadata": {},
   "outputs": [
    {
     "name": "stdout",
     "output_type": "stream",
     "text": [
      "{1, 7}\n",
      "{1, 7}\n"
     ]
    }
   ],
   "source": [
    "st1 = {1,4,5,7,3}\n",
    "st2 = {8,3,2,5,4,9}\n",
    "st = st1 - st2\n",
    "print(st)\n",
    "\n",
    "st1 -= st2\n",
    "print(st1)"
   ]
  },
  {
   "cell_type": "markdown",
   "metadata": {},
   "source": [
    "4. 对称差运算\n",
    "\n",
    "\n",
    "- 运算符定义\n",
    "\n",
    "```python\n",
    "\n",
    " |  __xor__(self, value, /)\n",
    " |      Return self^value.\n",
    " |  __rxor__(self, value, /)\n",
    " |      Return value^self.\n",
    " |  __ixor__(self, value, /)\n",
    " |      Return self^=value.\n",
    "```\n",
    "\n",
    "- 例子代码：\n"
   ]
  },
  {
   "cell_type": "code",
   "execution_count": 66,
   "metadata": {},
   "outputs": [
    {
     "name": "stdout",
     "output_type": "stream",
     "text": [
      "{1, 2, 7, 8, 9}\n",
      "{1, 2, 7, 8, 9}\n"
     ]
    }
   ],
   "source": [
    "st1 = {1,4,5,7,3}\n",
    "st2 = {8,3,2,5,4,9}\n",
    "st = st1 ^ st2\n",
    "print(st)\n",
    "\n",
    "st1 ^= st2\n",
    "print(st1)"
   ]
  },
  {
   "cell_type": "markdown",
   "metadata": {},
   "source": [
    "#### 集合的in运算\n",
    "\n",
    "- in运算判定某个元素是否在集合中。\n",
    "- 集合的in运算符定义：\n",
    "\n",
    "```python\n",
    "\n",
    " |  __contains__(...)\n",
    " |      x.__contains__(y) <==> y in x.\n",
    "\n",
    "```\n",
    "\n",
    "- 例子代码"
   ]
  },
  {
   "cell_type": "code",
   "execution_count": 67,
   "metadata": {},
   "outputs": [
    {
     "name": "stdout",
     "output_type": "stream",
     "text": [
      "True\n",
      "True\n",
      "True\n"
     ]
    }
   ],
   "source": [
    "st1 = {1,4,5,7,3}\n",
    "print( 1 in st1 )\n",
    "print( not 6 in st1 )\n",
    "print( 6 not in st1 )"
   ]
  },
  {
   "cell_type": "markdown",
   "metadata": {},
   "source": [
    "#### 集合的比较运算\n",
    "\n",
    "- 等于与不等于的含义都是明确的，明白小于与大于运算即可。比较运算对集合来讲，就是包含运算：\n",
    "\n",
    "\n",
    "集合运算 | 数学符号\n",
    "-|-\n",
    "`<` | $\\subset$\n",
    "`<=` | $\\subseteq$\n",
    "`>` | $\\supset$\n",
    "`>=` | $\\supseteq$\n",
    "\n",
    "\n",
    "\n",
    "- 比较运算定义\n",
    "\n",
    "\n",
    "```python\n",
    "\n",
    " |  __eq__(self, value, /)\n",
    " |      Return self==value.\n",
    " |  __ge__(self, value, /)\n",
    " |      Return self>=value.\n",
    " |  __gt__(self, value, /)\n",
    " |      Return self>value.\n",
    " |  __le__(self, value, /)\n",
    " |      Return self<=value.\n",
    " |  __lt__(self, value, /)\n",
    " |      Return self<value.\n",
    " |  __ne__(self, value, /)\n",
    " |      Return self!=value.\n",
    "\n",
    "```\n",
    "\n",
    "- 例子代码"
   ]
  },
  {
   "cell_type": "code",
   "execution_count": 68,
   "metadata": {},
   "outputs": [
    {
     "name": "stdout",
     "output_type": "stream",
     "text": [
      "{8, 1, 3}\n",
      "{8, 1}\n",
      "False\n"
     ]
    }
   ],
   "source": [
    "st1 = {8,1,3}\n",
    "st2 = {1,8}\n",
    "print(st1)\n",
    "print(st2)\n",
    "print (st1 <= st2)\n"
   ]
  },
  {
   "cell_type": "markdown",
   "metadata": {},
   "source": [
    "#### 集合的其他运算\n",
    "\n",
    "- len运算\n",
    "    - 元素个数\n",
    "- \\_\\_sizeof\\_\\_运算\n",
    "    - 占用内存大小\n",
    "- repr运算\n",
    "    - 对象的解释器可读字符串\n",
    "_ \\_\\_reduce\\_\\_运算\n",
    "    - 序列化信息状态(新式类中，用来返回一个值，用来说明如何序列化（在面向对象的时候详细阐述)\n",
    "    - 该函数要么返回字符串，要么返回一个元组。\n",
    "    \n",
    "    \n",
    "- 例子代码："
   ]
  },
  {
   "cell_type": "code",
   "execution_count": 69,
   "metadata": {},
   "outputs": [
    {
     "name": "stdout",
     "output_type": "stream",
     "text": [
      "5\n",
      "712\n",
      "{1, 3, 5, 8, 9}\n",
      "(<class 'set'>, ([1, 3, 5, 8, 9],), None)\n"
     ]
    }
   ],
   "source": [
    "st = {8, 1, 3, 5, 9}\n",
    "\n",
    "print(len(st))\n",
    "print(st.__sizeof__())\n",
    "print(repr(st))\n",
    "print(st.__reduce__())"
   ]
  },
  {
   "cell_type": "markdown",
   "metadata": {},
   "source": [
    "### 集合数据操作"
   ]
  },
  {
   "cell_type": "markdown",
   "metadata": {},
   "source": [
    "#### 集合元素add添加操作"
   ]
  },
  {
   "cell_type": "markdown",
   "metadata": {},
   "source": [
    "1. add函数定义\n",
    "\n",
    "```python\n",
    "\n",
    "|  add(...)\n",
    "|      Add an element to a set.\n",
    "|      \n",
    "|      This has no effect if the element is already present.\n",
    "\n",
    "```\n",
    "\n",
    "- 说明：\n",
    "    - 只有具有hash函数的对象可以添加\n",
    "    \n",
    "    \n",
    "2. 例子代码"
   ]
  },
  {
   "cell_type": "code",
   "execution_count": 70,
   "metadata": {},
   "outputs": [
    {
     "name": "stdout",
     "output_type": "stream",
     "text": [
      "{1, 3, 4, 5, 8, 9}\n",
      "{1, 3, 4, 5, 8, 9, (88, 99)}\n"
     ]
    }
   ],
   "source": [
    "st = {8, 1, 3, 5, 9}\n",
    "st.add(4)\n",
    "print(st)\n",
    "st.add((88,99))    #  不能添加set，list，因为不能hashable。\n",
    "print(st)"
   ]
  },
  {
   "cell_type": "markdown",
   "metadata": {},
   "source": [
    "#### 删除集合元素操作"
   ]
  },
  {
   "cell_type": "markdown",
   "metadata": {},
   "source": [
    "1. clear\n",
    "    - 全部清空\n",
    "\n",
    "```python\n",
    "\n",
    " |  clear(...)\n",
    " |      Remove all elements from this set.\n",
    "\n",
    "```"
   ]
  },
  {
   "cell_type": "markdown",
   "metadata": {},
   "source": [
    "2. remove与discard，pop函数\n",
    "\n",
    "- discard函数\n",
    "    - 如果是成员就删除，不是就不操作\n",
    "```python\n",
    "\n",
    " |  discard(...)\n",
    " |      Remove an element from a set if it is a member.\n",
    " |      \n",
    " |      If the element is not a member, do nothing.\n",
    "\n",
    "```\n",
    "\n",
    "- remove函数\n",
    "    - 如果是成员就删除，不是就抛出异常KeyError\n",
    "\n",
    "```python\n",
    "\n",
    " |  remove(...)\n",
    " |      Remove an element from a set; it must be a member.\n",
    " |      \n",
    " |      If the element is not a member, raise a KeyError.\n",
    "\n",
    "```\n",
    "\n",
    "- pop函数\n",
    "    - 与remove差不多，只是会返回删除的元素。\n",
    "\n",
    "```python\n",
    " |  pop(...)\n",
    " |      Remove and return an arbitrary set element.\n",
    " |      Raises KeyError if the set is empty.\n",
    "\n",
    "```"
   ]
  },
  {
   "cell_type": "markdown",
   "metadata": {},
   "source": [
    "#### 集合的更新update操作\n",
    "\n",
    "- update函数定义：\n",
    "\n",
    "```python\n",
    "\n",
    " |  update(...)\n",
    " |      Update a set with the union of itself and others\n",
    "\n",
    " |  \n",
    " |  difference_update(...)\n",
    " |      Remove all elements of another set from this set.\n",
    "    \n",
    " |  symmetric_difference(...)\n",
    " |      Return the symmetric difference of two sets as a new set.\n",
    " |      \n",
    " |      (i.e. all elements that are in exactly one of the sets.)\n",
    "\n",
    "\n",
    "```\n",
    "\n",
    "- 使用两个集合的并集更新，下面是例子代码"
   ]
  },
  {
   "cell_type": "code",
   "execution_count": 71,
   "metadata": {},
   "outputs": [
    {
     "name": "stdout",
     "output_type": "stream",
     "text": [
      "{1, 3, 4, 5, 7, 8, 9}\n"
     ]
    }
   ],
   "source": [
    "st = {8, 1, 3, 5, 9}\n",
    "st.update({4,7,9})\n",
    "print(st)"
   ]
  },
  {
   "cell_type": "markdown",
   "metadata": {},
   "source": [
    "#### 集合运算符对应的函数操作"
   ]
  },
  {
   "cell_type": "markdown",
   "metadata": {},
   "source": [
    "1. 并集操作\n",
    "    - 支持多个集合并集运算。\n",
    "    \n",
    "```python\n",
    "\n",
    " |  union(...)\n",
    " |      Return the union of sets as a new set.\n",
    " |      \n",
    " |      (i.e. all elements that are in either set.)\n",
    "\n",
    "```"
   ]
  },
  {
   "cell_type": "markdown",
   "metadata": {},
   "source": [
    "2. 交集操作\n",
    "\n",
    "```python\n",
    "\n",
    "|  \n",
    " |  intersection(...)\n",
    " |      Return the intersection of two sets as a new set.\n",
    " |      \n",
    " |      (i.e. all elements that are in both sets.)\n",
    "\n",
    "```"
   ]
  },
  {
   "cell_type": "markdown",
   "metadata": {},
   "source": [
    "3. 差集操作\n",
    "\n",
    "```python\n",
    " |  difference(...)\n",
    " |      Return the difference of two or more sets as a new set.\n",
    " |      \n",
    " |      (i.e. all elements that are in this set but not the others.)\n",
    "```"
   ]
  },
  {
   "cell_type": "markdown",
   "metadata": {},
   "source": [
    "4. 对等差操作\n",
    "    - 只能使用一个参数\n",
    "\n",
    "```python\n",
    "\n",
    " |  symmetric_difference(...)\n",
    " |      Return the symmetric difference of two sets as a new set.\n",
    " |      \n",
    " |      (i.e. all elements that are in exactly one of the sets.)\n",
    "\n",
    "\n",
    "```\n",
    "\n",
    "5. 例子代码"
   ]
  },
  {
   "cell_type": "code",
   "execution_count": 72,
   "metadata": {
    "scrolled": true
   },
   "outputs": [
    {
     "data": {
      "text/plain": [
       "{1, 3, 4, 5, 7, 8}"
      ]
     },
     "execution_count": 72,
     "metadata": {},
     "output_type": "execute_result"
    }
   ],
   "source": [
    "st = {8, 1, 3, 5, 9}\n",
    "st.union({4,7,9}, {88,99})\n",
    "\n",
    "st.intersection({4,7,9}, {1,9})\n",
    "st.difference({4,7,9}, {1,9})\n",
    "\n",
    "st.symmetric_difference({4,7,9})"
   ]
  },
  {
   "cell_type": "markdown",
   "metadata": {},
   "source": [
    "6. 集合判定操作\n",
    "\n",
    "\n",
    "- isdisjoint函数\n",
    "    - 集合是否不想交，不交为True，想交为False\n",
    "    \n",
    "```python\n",
    "\n",
    " |  isdisjoint(...)\n",
    " |      Return True if two sets have a null intersection.\n",
    "\n",
    "```\n",
    "    \n",
    "- issubset函数\n",
    "    - 子集判定\n",
    "    \n",
    "```python\n",
    "\n",
    " |  issubset(...)\n",
    " |      Report whether another set contains this set.\n",
    "\n",
    "```\n",
    "\n",
    "- issuperset函数\n",
    "    - 超集判定\n",
    "    \n",
    "```python\n",
    "\n",
    " |  issuperset(...)\n",
    " |      Report whether this set contains another set.\n",
    "\n",
    "```"
   ]
  },
  {
   "cell_type": "markdown",
   "metadata": {},
   "source": []
  },
  {
   "cell_type": "markdown",
   "metadata": {},
   "source": []
  },
  {
   "cell_type": "code",
   "execution_count": 73,
   "metadata": {},
   "outputs": [
    {
     "name": "stdout",
     "output_type": "stream",
     "text": [
      "True\n",
      "True\n",
      "True\n"
     ]
    }
   ],
   "source": [
    "st = {8, 1, 3}\n",
    "\n",
    "print(st.isdisjoint({4, 7}))    # 是否不想交\n",
    "\n",
    "print(st.issubset({8, 1, 3, 7})) \n",
    "\n",
    "print(st.issuperset({1, 3})) "
   ]
  },
  {
   "cell_type": "markdown",
   "metadata": {},
   "source": [
    "## 基础算法\n",
    "\n",
    "- 在入门算法前，需要知道写好算法的两个度量标准：\n",
    "\n",
    "    - 正确性\n",
    "    \n",
    "    - 有效性\n",
    "\n",
    "- 正确性在这里很难形成规律性度量，但有效性是可以度量的。\n",
    "    - 程序是由多个语句或者过程组成的，这些语句与过程就是解决问题的算法。\n",
    "    - 解决一个问题的方法有多种，这种方法称为算法。\n",
    "    - 每一种算法都可以达到解决问题的目的，但消耗的内存和时间不尽相同，从节约内存和时间的角度考虑，找出消耗内存最小，时间最少的算法就是最优算法。\n",
    "    - 度量时间的方式就是：时间复杂度度量\n",
    "    - 度量内存的方式就是：空间复杂度度量（这里暂时不考虑）\n",
    "    \n",
    "- 算法的其他考量\n",
    "    - 易实现性\n",
    "    - 易验证性"
   ]
  },
  {
   "cell_type": "markdown",
   "metadata": {},
   "source": [
    "### 算法的时间复杂度度量"
   ]
  },
  {
   "cell_type": "markdown",
   "metadata": {},
   "source": [
    "#### 计算程序执行的次数"
   ]
  },
  {
   "cell_type": "markdown",
   "metadata": {},
   "source": [
    "1. 执行次数为1的例子"
   ]
  },
  {
   "cell_type": "code",
   "execution_count": 78,
   "metadata": {},
   "outputs": [
    {
     "name": "stdout",
     "output_type": "stream",
     "text": [
      "100\n"
     ]
    }
   ],
   "source": [
    "def add(a, b):\n",
    "    return a+b\n",
    "\n",
    "print(add(45, 55))"
   ]
  },
  {
   "cell_type": "markdown",
   "metadata": {},
   "source": [
    "2. 执行次数为n的例子\n",
    "    - 实际是2*n+2次"
   ]
  },
  {
   "cell_type": "code",
   "execution_count": 79,
   "metadata": {},
   "outputs": [
    {
     "name": "stdout",
     "output_type": "stream",
     "text": [
      "21\n"
     ]
    }
   ],
   "source": [
    "def add(*args):\n",
    "    sum = 0                # 1次\n",
    "    for v in args:         # n + 1 次（创建v变量1次）\n",
    "        sum+= v            #  n次\n",
    "    return sum           # 实际次数2*n+2\n",
    "\n",
    "lst = [1,2,3,4,5,6]\n",
    "print(add(*lst))"
   ]
  },
  {
   "cell_type": "markdown",
   "metadata": {},
   "source": [
    "3. 执行次数是$n^2$的例子"
   ]
  },
  {
   "cell_type": "code",
   "execution_count": 77,
   "metadata": {},
   "outputs": [
    {
     "name": "stdout",
     "output_type": "stream",
     "text": [
      "495\n"
     ]
    }
   ],
   "source": [
    "def  add(row,col):\n",
    "    sum = 0                        # 1次\n",
    "    for y in range(row):        # n+1次 \n",
    "        sum += y                  # n 次\n",
    "        for x in range(col):    # n(n+1)次\n",
    "            sum += x             # n*n次\n",
    "    return sum                   # 实际次数2*n*n + 3*n + 2\n",
    "\n",
    "print(add(10,10))"
   ]
  },
  {
   "cell_type": "markdown",
   "metadata": {},
   "source": [
    "#### 时间复杂度数学度量\n",
    "\n",
    "- 为了度量时间复杂度（程序执行次数），引入了数学概念：\n",
    "    - 把数据规模记为n，记执行次数为：T(n)\n",
    "    - 当n变化T(n)执行次数随之变化。\n",
    "        - 执行1次，$T(n)=1$\n",
    "        - 执行$2n + 2$次，$T(n)= 2n + 2$\n",
    "        - 执行$2n^2 + 3n + 2$次，$T(n) = 2n^2 + 3n + 2$\n",
    "\n",
    "- 因为精确度量对复杂程序来说没有意义，所以引入了执行次数的参照概念：\n",
    "    - 若有某个函数f(n)，当n趋向于无穷大时，如果T(n)/ f(n)的极限为不等于零的常数，则认为T(n)与f(n)是同量级的函数，记作：T(n) =O(f(n))；\n",
    "    - T (n) = O(f (n)) 表示存在一个常数C，当n趋于正无穷大时，总有T (n) ≤ C * f(n)，其意义是T(n)在n趋于正无穷大时跟f(n)基本接近，因此完全可以用f(n)来表示T(n)。\n",
    "    \n",
    "    - O(f(n))称为算法的渐进时间复杂度，简称时间复杂度。\n",
    "    \n",
    "\n",
    "\n",
    "- 有了参照，我们可以选高次方作为参照项来度量\n",
    "    - 上面执行次数为常量，记为$O(1)$\n",
    "    - 执行次数是$2n + 2$， 记为$O(n)$\n",
    "    - 执行次数是$2n^2 + 3n + 2$，记为$O(n^2)$"
   ]
  },
  {
   "cell_type": "markdown",
   "metadata": {},
   "source": [
    "- 常见时间复杂度度量有：\n",
    "    - （1）$O(1)$：常量阶，运行时间为常量\n",
    "    - （2）$O(logn)$：对数阶，如二分搜索算法\n",
    "    - （3）$O(n)$：线性阶，如n个数内找最大值\n",
    "    - （4）$O(nlogn)$：对数阶，如快速排序算法\n",
    "    - （5）$O(n^2)$：平方阶，如选择排序，冒泡排序\n",
    "    - （6）$O(n^3)$：立方阶，如两个n阶矩阵的乘法运算\n",
    "    - （7）$O(2^n)$：指数阶，如n个元素集合的所有子集的算法\n",
    "    - （8）$O(n!)$：阶乘阶，如n个元素全部排列的算法"
   ]
  },
  {
   "cell_type": "markdown",
   "metadata": {},
   "source": [
    "- 时间复杂度的计算方法\n",
    "    - （1）找出算法中重复执行次数最多的语句的次数来估算算法的时间复杂度；\n",
    "    - （2）保留算法的最高次方，忽略所有低次方和高次方的系数；\n",
    "    - （3）将算法执行次数的数量级使用O函数表示。"
   ]
  },
  {
   "cell_type": "markdown",
   "metadata": {},
   "source": [
    "### 排序算法\n",
    "\n",
    "- 排序算法基础的有三种：\n",
    "    - 交换排序（经典的冒泡排序）\n",
    "    - 选择排序\n",
    "    - 插入排序\n",
    "- 然后在三种排序基础上优化了几种排序方式：\n",
    "    - 快速排序（属于交换排序）\n",
    "    - 希尔排序（属于插入排序）\n",
    "    - 归并排序（属于选择排序）\n",
    "    \n",
    "- 几种排序方法的比较\n",
    "\n",
    "\n",
    "排序算法|平均复杂度|最好复杂度|最坏复杂度|稳定性|说明\n",
    "-|-|-|-|-|-\n",
    "交换排序|$O(n^2)$|$O(n)$|$O(n^2)$|稳定| 规模n小较好\n",
    "选择排序|$O(n^2)$|$O(n^2)$|$O(n^2)$|不稳定|规模n小较好\n",
    "插入排序|$O(n^2)$|$O(n)$|$O(n^2)$|稳定|大部分有序的数据较好\n",
    "快速排序|$O(nlogn)$~$O(n^2)$|$O(nlogn)$|$O(n^2)$|不稳定|规模n大比较好\n",
    "希尔排序|$O(nlogn)$|$O(n)$|$O(n^2)$|不稳定|与步长有关\n",
    "归并排序|$O(nlogn)$|$O(nlogn)$|$O(nlogn)$|稳定|规模n大比较好"
   ]
  },
  {
   "cell_type": "markdown",
   "metadata": {},
   "source": [
    "- **提示：**这里对排序基础算法进行讲解说明。"
   ]
  },
  {
   "cell_type": "markdown",
   "metadata": {},
   "source": [
    "#### 交换排序\n",
    "\n",
    "- 交换排序的实现算法是：\n",
    "    - 循环对数据序列进行遍历\n",
    "    - 在循环中对相邻的两个元素进行比较，然后把较大的元素放到后面（正向排序），在一轮比较完后最大的元素就放在了最后一个位置；\n",
    "    - 然后再次循环（循环次数每次减1，因为每次都找到一个最大或者最小的值，只对剩余的继续交换排序）；\n",
    "    \n",
    "    \n",
    "    \n",
    "- 因为这种每次交换找到一个最大最小，像一个气泡从水底冒出水面的过程。所以该算法俗称冒泡排序。\n",
    "\n",
    "\n",
    "\n",
    "- 时间复杂度是$O(n^2)$：因为用到二重循环。\n",
    "\n",
    "\n",
    "- 下面是交换排序的实现："
   ]
  },
  {
   "cell_type": "code",
   "execution_count": 83,
   "metadata": {},
   "outputs": [
    {
     "name": "stdout",
     "output_type": "stream",
     "text": [
      "[1, 2, 3, 3, 6, 7, 9]\n"
     ]
    }
   ],
   "source": [
    "def bubble_sort(data):\n",
    "    size = len(data)\n",
    "    for batch in range(size - 1):   # n个元素，只需要排好n-1\n",
    "        # 每次冒泡，n个元素，只需要n-1次循环，因为取相邻元素，少循环一次\n",
    "        for i in range(size - batch - 1):  \n",
    "            # j表示每轮比较的元素的范围，因为每比较一轮就会排序好一个元素的位置，\n",
    "            # 所以在下一轮比较的时候就少比较了一个元素，所以要减去i\n",
    "            if data[i] > data[i + 1]:\n",
    "                data[i], data[i + 1] = data[i + 1], data[i]    # 这个语法对元组无效\n",
    "\n",
    "\n",
    "lst = [3,6,2,9,1,3,7]\n",
    "bubble_sort(lst)\n",
    "print(lst)"
   ]
  },
  {
   "cell_type": "markdown",
   "metadata": {},
   "source": [
    "#### 选择排序\n",
    "\n",
    "- 选择排序的算法是：\n",
    "    - 循环遍历数据序列；\n",
    "    - 所有的元素都和第一个元素进行比较，如果比第一个元素大，就和第一个元素进行交换；这样通过交换第一个元素就输最大元素；这里交换是所有都与第一个交换，不是相邻交换。\n",
    "    - 然后对除第一个以外的元素遍历，并与第二个元素比较；\n",
    "    - 一次类推；\n",
    "    \n",
    " \n",
    "- 因为也是二重循环，所以时间复杂度为O(n2)。\n",
    "\n",
    "- **重点问题：**选择排序的稳定性问题\n",
    "    - 选择排序因为对相同的值，会破坏原来顺序，这种结果称为不稳定。\n",
    "    - 排序的不稳定性，对简单数据来说稳定不稳定，没有多大意义，但对一些结构数据就显得特别有意义：\n",
    "        - 比如学生数据，原始数据按照学号排序，但对分数排序后，希望相同分数的学生也是按照序号排序的，但是选择排序后，相同分数的学号的顺序有可能不再按照顺序排列。这个时候，排序的稳定性的意义就特别重要。\n",
    "\n",
    "- 下面是选择排序的实现代码："
   ]
  },
  {
   "cell_type": "code",
   "execution_count": 86,
   "metadata": {},
   "outputs": [
    {
     "name": "stdout",
     "output_type": "stream",
     "text": [
      "[1, 2, 3, 3, 6, 7, 9]\n"
     ]
    }
   ],
   "source": [
    "def selection_sort(data):\n",
    "    size = len(data)\n",
    "    for batch_size in range(size - 1, 0, -1):   # size-1，...., 4, 3, 2, 1   # 注意0不包含\n",
    "        for i in range(batch_size):\n",
    "            if data[i] > data[batch_size]:\n",
    "                data[i], data[batch_size] = data[batch_size], data[i]\n",
    "\n",
    "\n",
    "lst = [3,6,2,9,1,3,7]\n",
    "selection_sort(lst)\n",
    "print(lst)"
   ]
  },
  {
   "cell_type": "markdown",
   "metadata": {},
   "source": [
    "#### 插入排序\n",
    "\n",
    "- 插入排序的算法是：\n",
    "    - 把数据序列分成两个部分：已经排序，未排序；初始化默认第一个元素是已经排序；\n",
    "    - 取未排序中第一个数据，并循环遍历已经排序的部分的每个数据，比较两个数据大小，并找到相应位置，把未排序的数据插入到排序数据中。\n",
    "    - 依次类推，直到未排序部分数据为空。\n",
    "\n",
    "\n",
    "- 插入排序的时间复杂度为：$O(n^2)$\n",
    "    - 因为算法也使用双重循环。\n",
    "    \n",
    "\n",
    "- 插入排序实现代码如下："
   ]
  },
  {
   "cell_type": "code",
   "execution_count": 88,
   "metadata": {},
   "outputs": [
    {
     "name": "stdout",
     "output_type": "stream",
     "text": [
      "[1, 2, 3, 3, 6, 7, 9]\n"
     ]
    }
   ],
   "source": [
    "def insert_sort(data):\n",
    "    size = len(data)\n",
    "    for boundary in range(1, size):   # 第一个为已排序\n",
    "        # 第二个以后的为未排序\n",
    "        # 对已排序进行循环遍历，找出适当的位置（遍历从后往前遍历）\n",
    "        for i in range(boundary, 0, -1):   #   注意data[boundary]就是未排序的第一个\n",
    "            if data[i] < data[i - 1]:       # data[i - 1]\n",
    "                data[i], data[i - 1] = data[i - 1], data[i]   # 边查找边改变位置\n",
    "\n",
    "lst = [3,6,2,9,1,3,7]\n",
    "insert_sort(lst)\n",
    "print(lst)\n"
   ]
  },
  {
   "cell_type": "markdown",
   "metadata": {},
   "source": [
    "### 查找算法\n",
    "\n",
    "- 查找算法也是最常用，最基本的算法之一，用来对给定的某个值，在目标数据集中确定其是否存在以及位置。\n",
    "- 常见的查找算法有：\n",
    "    - 顺序查找\n",
    "    - 插值查找\n",
    "        - 二分查找\n",
    "        - 斐波那契查找\n",
    "    - 树表查找\n",
    "    - 分块查找\n",
    "    - 哈希查找\n",
    "    \n",
    "- 下面我们介绍顺序查找，插值查找算法,二分查找算法。"
   ]
  },
  {
   "cell_type": "markdown",
   "metadata": {},
   "source": [
    "#### 顺序查找\n",
    "\n",
    "- 顺序查找是最直接的查找方式，其算法思维比较简单：\n",
    "    - 遍历被搜索的数据序列，逐一判定是否相等。\n",
    "    - 相等就结束搜索，并返回位置。\n",
    "    - 如果遍历所有数据项，都没有相等的数据项，则表示搜索值不存在，返回-1或者抛出异常。\n",
    "\n",
    "\n",
    "- 该算法时间复杂度度量：$O(n)$\n",
    "    - 最坏情况：目标项位于列表的末尾，或者根本就不在列表之中，则算法必须访问每一个项，需要遍历整个数据序列，因此，顺序搜索的最坏情况的复杂度为O(n)。\n",
    "\n",
    "    - 最好的情况：算法只进行了1次迭代就在第1个位置找到目标项，复杂度为O(1)。\n",
    "\n",
    "    - 平均情况：把在每一个可能的位置找到目标项所需的迭代次数相加，并且总和除以n。因此，算法执行了(n+1)/2次迭代，对于很大的n，常数因子2的作用并不大，因此，平均情况下的复杂度仍然为O(n)。\n",
    "\n",
    "\n",
    "- 算法实现如下："
   ]
  },
  {
   "cell_type": "code",
   "execution_count": 90,
   "metadata": {},
   "outputs": [
    {
     "name": "stdout",
     "output_type": "stream",
     "text": [
      "2\n"
     ]
    }
   ],
   "source": [
    "def sequential_search(data, item):\n",
    "    idx = 0\n",
    "    for v in data:\n",
    "        if v == item:\n",
    "            return idx\n",
    "        idx += 1\n",
    "    return -1\n",
    "\n",
    "\n",
    "lst = [3, 9, 5, 2, 6, 1, 4, 7, 8]\n",
    "\n",
    "re = sequential_search(lst, 5)\n",
    "print(re)"
   ]
  },
  {
   "cell_type": "markdown",
   "metadata": {},
   "source": [
    "#### 二分查找\n",
    "\n",
    "- 二分查找条件\n",
    "    - 有序数据\n",
    "    - 这个条件是容易满足的，因为数据结构中有集合，集合在生成结构数据就是按照有序管理的。\n",
    "    \n",
    "- 二分查找算法：\n",
    "    - 在一个有序的数据列表中,先取中间的值，用中间值与查找值比较，排除不在的一般数据；\n",
    "    - 在剩下的一半中继续按照对半的方式查找；直到找到为止，或者整个数据序列没有数据为止。\n",
    "    \n",
    "- 二分查找的时间复杂度度量：$O(log_{2}n)$\n",
    "    - 在最坏的情况下，循环要运行列表的大小除以2直到得到的商为1的次数，对于大小为n的列表，实际上执行了n/2/2.../2的连续除法，直到结果为1。\n",
    "    - 假设k是用n除以2的次数，要求解k，让$\\dfrac{n}{2^k}=1$就行了，那么$n=2^k$，$k=log_{2}n$，因此，二叉搜索的最坏情况的复杂度为$O(log_{2}n)$。\n",
    "    \n",
    "    - 最好情况就是，中间那个值就是要查找的值。\n",
    "    \n",
    "    - 平均的情况：考虑每种情况的平均值，取近似值，时间复杂度也是：$O(log_{2}n)$\n",
    "\n",
    "- 下面是二分查找算法实现代码："
   ]
  },
  {
   "cell_type": "code",
   "execution_count": 93,
   "metadata": {},
   "outputs": [
    {
     "name": "stdout",
     "output_type": "stream",
     "text": [
      "5\n"
     ]
    }
   ],
   "source": [
    "def binary_search(data, item):\n",
    "    size = len(data)\n",
    "    low = 0\n",
    "    high = size - 1\n",
    "    while low <= high:\n",
    "        mid = int(low + ((high - low) / 2)) ##使用(low+high)/2会有整数溢出的问题\n",
    "        if data[mid] < item:\n",
    "            low = mid + 1\n",
    "        elif data[mid] > item:\n",
    "            high = mid - 1\n",
    "        else:\n",
    "            return mid\n",
    "    return -1\n",
    "\n",
    "\n",
    "st = [1, 3, 4, 8, 9, 16, 18, 28]\n",
    "re = binary_search(st, 16)\n",
    "print(re)"
   ]
  },
  {
   "cell_type": "markdown",
   "metadata": {},
   "source": [
    "#### 插值查找\n",
    "\n",
    "- 插值查找算法：\n",
    "    - 插值查找算法在二分法基础上改进，在离查找值更近的地方划分查找区域。\n",
    "    - 把二分法的分隔点计算方式：`mid = int(low + ((high - low) / 2))`改进为自适应划分方式：\n",
    "        - `mid = low + int((heigth - low) * (item - data[low])/(data[heigth] - data[low]))`\n",
    "        - 理解`(item - data[low])/(data[heigth] - data[low])`：计算查找值在整个查找序列中的位置比例。\n",
    "            - `(data[heigth] - data[low])` 计算查找区域的长度\n",
    "    \n",
    "- 插值查找的时间复杂度度量为：$O(log_2(log_2n))$    "
   ]
  },
  {
   "cell_type": "code",
   "execution_count": 96,
   "metadata": {},
   "outputs": [
    {
     "name": "stdout",
     "output_type": "stream",
     "text": [
      "8\n"
     ]
    }
   ],
   "source": [
    "def Interpolation_search(data,item):\n",
    "    size = len(data)\n",
    "    low = 0\n",
    "    heigth = size -1\n",
    "    time = 0\n",
    "    while low <= heigth:\n",
    "        time += 1\n",
    "        mid = low + int((heigth - low) * (item - data[low])/(data[heigth] - data[low]))\n",
    "        if item > data[mid]:\n",
    "            low = mid + 1\n",
    "        elif item <data[mid]:\n",
    "            heigth = mid - 1\n",
    "        else:\n",
    "            return mid\n",
    "\n",
    "\n",
    "lst = [1, 2, 5, 7, 9, 11, 15, 16, 18, 28]\n",
    "re = Interpolation_search(lst, 18)\n",
    "print(re)\n"
   ]
  }
 ],
 "metadata": {
  "kernelspec": {
   "display_name": "Python 3",
   "language": "python",
   "name": "python3"
  },
  "language_info": {
   "codemirror_mode": {
    "name": "ipython",
    "version": 3
   },
   "file_extension": ".py",
   "mimetype": "text/x-python",
   "name": "python",
   "nbconvert_exporter": "python",
   "pygments_lexer": "ipython3",
   "version": "3.6.6"
  },
  "toc": {
   "base_numbering": 1,
   "nav_menu": {},
   "number_sections": true,
   "sideBar": true,
   "skip_h1_title": false,
   "title_cell": "Table of Contents",
   "title_sidebar": "Contents",
   "toc_cell": false,
   "toc_position": {
    "height": "calc(100% - 180px)",
    "left": "10px",
    "top": "150px",
    "width": "361px"
   },
   "toc_section_display": true,
   "toc_window_display": false
  }
 },
 "nbformat": 4,
 "nbformat_minor": 2
}
